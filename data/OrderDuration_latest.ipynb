{
 "cells": [
  {
   "cell_type": "code",
   "execution_count": 1,
   "metadata": {},
   "outputs": [],
   "source": [
    "from azureml.core import Workspace\n",
    "ws = Workspace.from_config()"
   ]
  },
  {
   "cell_type": "code",
   "execution_count": 2,
   "metadata": {},
   "outputs": [
    {
     "data": {
      "text/plain": [
       "Workspace.create(name='xm-ml-workspace', subscription_id='be564fde-136b-4709-b7b6-abfc0bdfc134', resource_group='xm-ml')"
      ]
     },
     "execution_count": 2,
     "metadata": {},
     "output_type": "execute_result"
    }
   ],
   "source": [
    "ws"
   ]
  },
  {
   "cell_type": "code",
   "execution_count": 33,
   "metadata": {},
   "outputs": [],
   "source": [
    "from azureml.core import Experiment\n",
    "experiment = Experiment(workspace=ws, name=\"EstimatedShipment\")"
   ]
  },
  {
   "cell_type": "code",
   "execution_count": 34,
   "metadata": {},
   "outputs": [],
   "source": [
    "from matplotlib import pyplot as plt\n",
    "import numpy as np\n",
    "import pandas as pd\n",
    "from sklearn import datasets\n",
    "import datetime\n",
    "import numpy as np\n",
    "import pandas as pd\n",
    "from sklearn.linear_model import LinearRegression\n",
    "from sklearn.externals import joblib\n",
    "\n",
    "import azureml.core\n",
    "from azureml.core.experiment import Experiment\n",
    "from azureml.core.workspace import Workspace\n",
    "from azureml.train.automl import AutoMLConfig\n",
    "from azureml.core import Workspace\n",
    "from azureml.core.model import Model\n",
    "from azureml.core import Experiment\n",
    "from azureml.core.webservice import Webservice\n",
    "from azureml.core.image import ContainerImage\n",
    "from azureml.core.webservice import AciWebservice\n",
    "from azureml.core.conda_dependencies import CondaDependencies\n",
    "\n",
    "import collections\n",
    "from sklearn.model_selection import train_test_split\n",
    "import pickle as pkl\n",
    "import logging\n",
    "import azureml.dataprep as dprep \n",
    "from azureml.core import Dataset"
   ]
  },
  {
   "cell_type": "code",
   "execution_count": 35,
   "metadata": {},
   "outputs": [],
   "source": [
    "data_df = pd.read_csv('orderduration_train.csv')\n",
    "test_df= pd.read_csv('orderduration_test.csv')"
   ]
  },
  {
   "cell_type": "code",
   "execution_count": 36,
   "metadata": {},
   "outputs": [
    {
     "data": {
      "text/html": [
       "<div>\n",
       "<style scoped>\n",
       "    .dataframe tbody tr th:only-of-type {\n",
       "        vertical-align: middle;\n",
       "    }\n",
       "\n",
       "    .dataframe tbody tr th {\n",
       "        vertical-align: top;\n",
       "    }\n",
       "\n",
       "    .dataframe thead th {\n",
       "        text-align: right;\n",
       "    }\n",
       "</style>\n",
       "<table border=\"1\" class=\"dataframe\">\n",
       "  <thead>\n",
       "    <tr style=\"text-align: right;\">\n",
       "      <th></th>\n",
       "      <th>SALES_CHANNEL</th>\n",
       "      <th>TOTAL_PRICE</th>\n",
       "      <th>FINAL_RESULT</th>\n",
       "      <th>HOUR_OF_DAY</th>\n",
       "      <th>ACTIVE_WATCH_DURATION_MINS</th>\n",
       "      <th>ORDER_HOLD_DURATION_MINS</th>\n",
       "      <th>ACCOUNT_OPEN_TO_ORDER_MINS</th>\n",
       "      <th>START_TO_CASECLOSE_MINS</th>\n",
       "      <th>CASECLOSE_TO_ORDERCLOSE_MINS</th>\n",
       "      <th>CASEOPEN_TO_CASECLOSE_MINS</th>\n",
       "      <th>ORDER_RISK_LABEL</th>\n",
       "      <th>Risk Label</th>\n",
       "      <th>START_TO_CLOSE_MINS</th>\n",
       "    </tr>\n",
       "  </thead>\n",
       "  <tbody>\n",
       "    <tr>\n",
       "      <th>0</th>\n",
       "      <td>ONLINE</td>\n",
       "      <td>631.56</td>\n",
       "      <td>GREEN</td>\n",
       "      <td>0</td>\n",
       "      <td>nan</td>\n",
       "      <td>10.77</td>\n",
       "      <td>233555.88</td>\n",
       "      <td>nan</td>\n",
       "      <td>nan</td>\n",
       "      <td>nan</td>\n",
       "      <td>0</td>\n",
       "      <td>Good</td>\n",
       "      <td>2421.68</td>\n",
       "    </tr>\n",
       "    <tr>\n",
       "      <th>1</th>\n",
       "      <td>TELESALES</td>\n",
       "      <td>126.96</td>\n",
       "      <td>GREEN</td>\n",
       "      <td>19</td>\n",
       "      <td>nan</td>\n",
       "      <td>22.35</td>\n",
       "      <td>19.82</td>\n",
       "      <td>nan</td>\n",
       "      <td>nan</td>\n",
       "      <td>nan</td>\n",
       "      <td>0</td>\n",
       "      <td>Good</td>\n",
       "      <td>1634.05</td>\n",
       "    </tr>\n",
       "    <tr>\n",
       "      <th>2</th>\n",
       "      <td>TELESALES</td>\n",
       "      <td>1401.76</td>\n",
       "      <td>RED</td>\n",
       "      <td>23</td>\n",
       "      <td>19.30</td>\n",
       "      <td>22.05</td>\n",
       "      <td>305.78</td>\n",
       "      <td>4330.95</td>\n",
       "      <td>2988.13</td>\n",
       "      <td>4292.47</td>\n",
       "      <td>1</td>\n",
       "      <td>Fraud</td>\n",
       "      <td>1342.82</td>\n",
       "    </tr>\n",
       "    <tr>\n",
       "      <th>3</th>\n",
       "      <td>TELESALES</td>\n",
       "      <td>0.00</td>\n",
       "      <td>RED</td>\n",
       "      <td>14</td>\n",
       "      <td>nan</td>\n",
       "      <td>nan</td>\n",
       "      <td>9.83</td>\n",
       "      <td>nan</td>\n",
       "      <td>nan</td>\n",
       "      <td>nan</td>\n",
       "      <td>0</td>\n",
       "      <td>Good</td>\n",
       "      <td>1860.17</td>\n",
       "    </tr>\n",
       "    <tr>\n",
       "      <th>4</th>\n",
       "      <td>ONLINE</td>\n",
       "      <td>1337.42</td>\n",
       "      <td>RED</td>\n",
       "      <td>12</td>\n",
       "      <td>17.93</td>\n",
       "      <td>20.18</td>\n",
       "      <td>1025688.28</td>\n",
       "      <td>3650.92</td>\n",
       "      <td>nan</td>\n",
       "      <td>3626.18</td>\n",
       "      <td>1</td>\n",
       "      <td>Fraud</td>\n",
       "      <td>nan</td>\n",
       "    </tr>\n",
       "  </tbody>\n",
       "</table>\n",
       "</div>"
      ],
      "text/plain": [
       "  SALES_CHANNEL  TOTAL_PRICE FINAL_RESULT  HOUR_OF_DAY  \\\n",
       "0        ONLINE       631.56        GREEN            0   \n",
       "1     TELESALES       126.96        GREEN           19   \n",
       "2     TELESALES      1401.76          RED           23   \n",
       "3     TELESALES         0.00          RED           14   \n",
       "4        ONLINE      1337.42          RED           12   \n",
       "\n",
       "   ACTIVE_WATCH_DURATION_MINS  ORDER_HOLD_DURATION_MINS  \\\n",
       "0                         nan                     10.77   \n",
       "1                         nan                     22.35   \n",
       "2                       19.30                     22.05   \n",
       "3                         nan                       nan   \n",
       "4                       17.93                     20.18   \n",
       "\n",
       "   ACCOUNT_OPEN_TO_ORDER_MINS  START_TO_CASECLOSE_MINS  \\\n",
       "0                   233555.88                      nan   \n",
       "1                       19.82                      nan   \n",
       "2                      305.78                  4330.95   \n",
       "3                        9.83                      nan   \n",
       "4                  1025688.28                  3650.92   \n",
       "\n",
       "   CASECLOSE_TO_ORDERCLOSE_MINS  CASEOPEN_TO_CASECLOSE_MINS  ORDER_RISK_LABEL  \\\n",
       "0                           nan                         nan                 0   \n",
       "1                           nan                         nan                 0   \n",
       "2                       2988.13                     4292.47                 1   \n",
       "3                           nan                         nan                 0   \n",
       "4                           nan                     3626.18                 1   \n",
       "\n",
       "  Risk Label  START_TO_CLOSE_MINS  \n",
       "0       Good              2421.68  \n",
       "1       Good              1634.05  \n",
       "2      Fraud              1342.82  \n",
       "3       Good              1860.17  \n",
       "4      Fraud                  nan  "
      ]
     },
     "execution_count": 36,
     "metadata": {},
     "output_type": "execute_result"
    }
   ],
   "source": [
    "data_df.head()"
   ]
  },
  {
   "cell_type": "code",
   "execution_count": 10,
   "metadata": {},
   "outputs": [
    {
     "data": {
      "text/plain": [
       "(96458, 13)"
      ]
     },
     "execution_count": 10,
     "metadata": {},
     "output_type": "execute_result"
    }
   ],
   "source": [
    "data_df.shape"
   ]
  },
  {
   "cell_type": "code",
   "execution_count": 11,
   "metadata": {},
   "outputs": [
    {
     "data": {
      "text/plain": [
       "(36997, 13)"
      ]
     },
     "execution_count": 11,
     "metadata": {},
     "output_type": "execute_result"
    }
   ],
   "source": [
    "test_df.shape"
   ]
  },
  {
   "cell_type": "code",
   "execution_count": 12,
   "metadata": {},
   "outputs": [
    {
     "data": {
      "text/plain": [
       "SALES_CHANNEL                       0\n",
       "TOTAL_PRICE                         0\n",
       "FINAL_RESULT                        0\n",
       "HOUR_OF_DAY                         0\n",
       "ACTIVE_WATCH_DURATION_MINS      54288\n",
       "ORDER_HOLD_DURATION_MINS        10578\n",
       "ACCOUNT_OPEN_TO_ORDER_MINS          0\n",
       "START_TO_CASECLOSE_MINS         82875\n",
       "CASECLOSE_TO_ORDERCLOSE_MINS    88739\n",
       "CASEOPEN_TO_CASECLOSE_MINS      82875\n",
       "ORDER_RISK_LABEL                    0\n",
       "Risk Label                          0\n",
       "START_TO_CLOSE_MINS              7840\n",
       "dtype: int64"
      ]
     },
     "execution_count": 12,
     "metadata": {},
     "output_type": "execute_result"
    }
   ],
   "source": [
    "data_df.isnull().sum()"
   ]
  },
  {
   "cell_type": "code",
   "execution_count": 13,
   "metadata": {},
   "outputs": [
    {
     "data": {
      "text/plain": [
       "SALES_CHANNEL                       0\n",
       "TOTAL_PRICE                         0\n",
       "FINAL_RESULT                        0\n",
       "HOUR_OF_DAY                         0\n",
       "ACTIVE_WATCH_DURATION_MINS      17479\n",
       "ORDER_HOLD_DURATION_MINS            0\n",
       "ACCOUNT_OPEN_TO_ORDER_MINS          0\n",
       "START_TO_CASECLOSE_MINS         32198\n",
       "CASECLOSE_TO_ORDERCLOSE_MINS    34321\n",
       "CASEOPEN_TO_CASECLOSE_MINS      32198\n",
       "ORDER_RISK_LABEL                    0\n",
       "Risk Label                          0\n",
       "START_TO_CLOSE_MINS              2492\n",
       "dtype: int64"
      ]
     },
     "execution_count": 13,
     "metadata": {},
     "output_type": "execute_result"
    }
   ],
   "source": [
    "test_df.isnull().sum()"
   ]
  },
  {
   "cell_type": "code",
   "execution_count": 37,
   "metadata": {},
   "outputs": [],
   "source": [
    "data_df.fillna(data_df.mean(), inplace=True)\n",
    "test_df.fillna(test_df.mean(), inplace=True)"
   ]
  },
  {
   "cell_type": "code",
   "execution_count": 38,
   "metadata": {},
   "outputs": [
    {
     "data": {
      "text/html": [
       "<div>\n",
       "<style scoped>\n",
       "    .dataframe tbody tr th:only-of-type {\n",
       "        vertical-align: middle;\n",
       "    }\n",
       "\n",
       "    .dataframe tbody tr th {\n",
       "        vertical-align: top;\n",
       "    }\n",
       "\n",
       "    .dataframe thead th {\n",
       "        text-align: right;\n",
       "    }\n",
       "</style>\n",
       "<table border=\"1\" class=\"dataframe\">\n",
       "  <thead>\n",
       "    <tr style=\"text-align: right;\">\n",
       "      <th></th>\n",
       "      <th>SALES_CHANNEL</th>\n",
       "      <th>TOTAL_PRICE</th>\n",
       "      <th>FINAL_RESULT</th>\n",
       "      <th>HOUR_OF_DAY</th>\n",
       "      <th>ACTIVE_WATCH_DURATION_MINS</th>\n",
       "      <th>ORDER_HOLD_DURATION_MINS</th>\n",
       "      <th>ACCOUNT_OPEN_TO_ORDER_MINS</th>\n",
       "      <th>START_TO_CASECLOSE_MINS</th>\n",
       "      <th>CASECLOSE_TO_ORDERCLOSE_MINS</th>\n",
       "      <th>CASEOPEN_TO_CASECLOSE_MINS</th>\n",
       "      <th>ORDER_RISK_LABEL</th>\n",
       "      <th>Risk Label</th>\n",
       "      <th>START_TO_CLOSE_MINS</th>\n",
       "    </tr>\n",
       "  </thead>\n",
       "  <tbody>\n",
       "    <tr>\n",
       "      <th>0</th>\n",
       "      <td>ONLINE</td>\n",
       "      <td>631.56</td>\n",
       "      <td>GREEN</td>\n",
       "      <td>0</td>\n",
       "      <td>19.51</td>\n",
       "      <td>10.77</td>\n",
       "      <td>233555.88</td>\n",
       "      <td>4091.53</td>\n",
       "      <td>4591.62</td>\n",
       "      <td>4040.29</td>\n",
       "      <td>0</td>\n",
       "      <td>Good</td>\n",
       "      <td>2421.68</td>\n",
       "    </tr>\n",
       "    <tr>\n",
       "      <th>1</th>\n",
       "      <td>TELESALES</td>\n",
       "      <td>126.96</td>\n",
       "      <td>GREEN</td>\n",
       "      <td>19</td>\n",
       "      <td>19.51</td>\n",
       "      <td>22.35</td>\n",
       "      <td>19.82</td>\n",
       "      <td>4091.53</td>\n",
       "      <td>4591.62</td>\n",
       "      <td>4040.29</td>\n",
       "      <td>0</td>\n",
       "      <td>Good</td>\n",
       "      <td>1634.05</td>\n",
       "    </tr>\n",
       "    <tr>\n",
       "      <th>2</th>\n",
       "      <td>TELESALES</td>\n",
       "      <td>1401.76</td>\n",
       "      <td>RED</td>\n",
       "      <td>23</td>\n",
       "      <td>19.30</td>\n",
       "      <td>22.05</td>\n",
       "      <td>305.78</td>\n",
       "      <td>4330.95</td>\n",
       "      <td>2988.13</td>\n",
       "      <td>4292.47</td>\n",
       "      <td>1</td>\n",
       "      <td>Fraud</td>\n",
       "      <td>1342.82</td>\n",
       "    </tr>\n",
       "    <tr>\n",
       "      <th>3</th>\n",
       "      <td>TELESALES</td>\n",
       "      <td>0.00</td>\n",
       "      <td>RED</td>\n",
       "      <td>14</td>\n",
       "      <td>19.51</td>\n",
       "      <td>36.85</td>\n",
       "      <td>9.83</td>\n",
       "      <td>4091.53</td>\n",
       "      <td>4591.62</td>\n",
       "      <td>4040.29</td>\n",
       "      <td>0</td>\n",
       "      <td>Good</td>\n",
       "      <td>1860.17</td>\n",
       "    </tr>\n",
       "    <tr>\n",
       "      <th>4</th>\n",
       "      <td>ONLINE</td>\n",
       "      <td>1337.42</td>\n",
       "      <td>RED</td>\n",
       "      <td>12</td>\n",
       "      <td>17.93</td>\n",
       "      <td>20.18</td>\n",
       "      <td>1025688.28</td>\n",
       "      <td>3650.92</td>\n",
       "      <td>4591.62</td>\n",
       "      <td>3626.18</td>\n",
       "      <td>1</td>\n",
       "      <td>Fraud</td>\n",
       "      <td>7083.53</td>\n",
       "    </tr>\n",
       "  </tbody>\n",
       "</table>\n",
       "</div>"
      ],
      "text/plain": [
       "  SALES_CHANNEL  TOTAL_PRICE FINAL_RESULT  HOUR_OF_DAY  \\\n",
       "0        ONLINE       631.56        GREEN            0   \n",
       "1     TELESALES       126.96        GREEN           19   \n",
       "2     TELESALES      1401.76          RED           23   \n",
       "3     TELESALES         0.00          RED           14   \n",
       "4        ONLINE      1337.42          RED           12   \n",
       "\n",
       "   ACTIVE_WATCH_DURATION_MINS  ORDER_HOLD_DURATION_MINS  \\\n",
       "0                       19.51                     10.77   \n",
       "1                       19.51                     22.35   \n",
       "2                       19.30                     22.05   \n",
       "3                       19.51                     36.85   \n",
       "4                       17.93                     20.18   \n",
       "\n",
       "   ACCOUNT_OPEN_TO_ORDER_MINS  START_TO_CASECLOSE_MINS  \\\n",
       "0                   233555.88                  4091.53   \n",
       "1                       19.82                  4091.53   \n",
       "2                      305.78                  4330.95   \n",
       "3                        9.83                  4091.53   \n",
       "4                  1025688.28                  3650.92   \n",
       "\n",
       "   CASECLOSE_TO_ORDERCLOSE_MINS  CASEOPEN_TO_CASECLOSE_MINS  ORDER_RISK_LABEL  \\\n",
       "0                       4591.62                     4040.29                 0   \n",
       "1                       4591.62                     4040.29                 0   \n",
       "2                       2988.13                     4292.47                 1   \n",
       "3                       4591.62                     4040.29                 0   \n",
       "4                       4591.62                     3626.18                 1   \n",
       "\n",
       "  Risk Label  START_TO_CLOSE_MINS  \n",
       "0       Good              2421.68  \n",
       "1       Good              1634.05  \n",
       "2      Fraud              1342.82  \n",
       "3       Good              1860.17  \n",
       "4      Fraud              7083.53  "
      ]
     },
     "execution_count": 38,
     "metadata": {},
     "output_type": "execute_result"
    }
   ],
   "source": [
    "data_df.head()"
   ]
  },
  {
   "cell_type": "code",
   "execution_count": 39,
   "metadata": {},
   "outputs": [],
   "source": [
    "exp = Experiment(ws, name='EstimatedShipment')\n",
    "run = exp.start_logging()\n",
    "run.log(\"Experiment start time\", str(datetime.datetime.now()))"
   ]
  },
  {
   "cell_type": "code",
   "execution_count": 40,
   "metadata": {},
   "outputs": [
    {
     "data": {
      "text/plain": [
       "LinearRegression(copy_X=True, fit_intercept=True, n_jobs=None,\n",
       "         normalize=False)"
      ]
     },
     "execution_count": 40,
     "metadata": {},
     "output_type": "execute_result"
    }
   ],
   "source": [
    "dur = data_df\n",
    "X = dur[['CASECLOSE_TO_ORDERCLOSE_MINS']]\n",
    "X = pd.get_dummies(data=X, drop_first=True)\n",
    "Y = dur['START_TO_CLOSE_MINS']\n",
    "X_train, X_test, y_train, y_test = train_test_split(X, Y, test_size=0.25, random_state=10)\n",
    "lm = LinearRegression()\n",
    "lm.fit(X_train,y_train)"
   ]
  },
  {
   "cell_type": "code",
   "execution_count": 41,
   "metadata": {},
   "outputs": [
    {
     "data": {
      "image/png": "[encoded data removed]",
      "text/plain": [
       "<Figure size 432x288 with 2 Axes>"
      ]
     },
     "metadata": {
      "needs_background": "light"
     },
     "output_type": "display_data"
    }
   ],
   "source": [
    "from string import ascii_letters\n",
    "import numpy as np\n",
    "import pandas as pd\n",
    "import seaborn as sns\n",
    "import matplotlib.pyplot as plt\n",
    "corr = dur.corr()\n",
    "ax = sns.heatmap(\n",
    "    corr, \n",
    "    vmin=-1, vmax=1, center=0,\n",
    "    cmap=sns.diverging_palette(20, 220, n=200),\n",
    "    square=True\n",
    ")\n",
    "ax.set_xticklabels(\n",
    "    ax.get_xticklabels(),\n",
    "    rotation=45,\n",
    "    horizontalalignment='right'\n",
    ");"
   ]
  },
  {
   "cell_type": "code",
   "execution_count": 42,
   "metadata": {},
   "outputs": [
    {
     "data": {
      "text/plain": [
       "['outputs/estimated_shipment.pkl']"
      ]
     },
     "execution_count": 42,
     "metadata": {},
     "output_type": "execute_result"
    }
   ],
   "source": [
    "filename = 'outputs/estimated_shipment.pkl'\n",
    "joblib.dump(lm, filename)"
   ]
  },
  {
   "cell_type": "code",
   "execution_count": 47,
   "metadata": {},
   "outputs": [
    {
     "ename": "AttributeError",
     "evalue": "module 'matplotlib.pyplot' has no attribute 'tell'",
     "output_type": "error",
     "traceback": [
      "\u001b[0;31m---------------------------------------------------------------------------\u001b[0m",
      "\u001b[0;31mAttributeError\u001b[0m                            Traceback (most recent call last)",
      "\u001b[0;32m<ipython-input-47-48b2b8d62199>\u001b[0m in \u001b[0;36m<module>\u001b[0;34m\u001b[0m\n\u001b[1;32m      1\u001b[0m \u001b[0mrun\u001b[0m\u001b[0;34m.\u001b[0m\u001b[0mlog\u001b[0m\u001b[0;34m(\u001b[0m\u001b[0;34m'Intercept :'\u001b[0m\u001b[0;34m,\u001b[0m \u001b[0mlm\u001b[0m\u001b[0;34m.\u001b[0m\u001b[0mintercept_\u001b[0m\u001b[0;34m)\u001b[0m\u001b[0;34m\u001b[0m\u001b[0;34m\u001b[0m\u001b[0m\n\u001b[1;32m      2\u001b[0m \u001b[0mrun\u001b[0m\u001b[0;34m.\u001b[0m\u001b[0mlog\u001b[0m\u001b[0;34m(\u001b[0m\u001b[0;34m'Slope :'\u001b[0m\u001b[0;34m,\u001b[0m \u001b[0mlm\u001b[0m\u001b[0;34m.\u001b[0m\u001b[0mcoef_\u001b[0m\u001b[0;34m[\u001b[0m\u001b[0;36m0\u001b[0m\u001b[0;34m]\u001b[0m\u001b[0;34m)\u001b[0m\u001b[0;34m\u001b[0m\u001b[0;34m\u001b[0m\u001b[0m\n\u001b[0;32m----> 3\u001b[0;31m \u001b[0mrun\u001b[0m\u001b[0;34m.\u001b[0m\u001b[0mlog_image\u001b[0m\u001b[0;34m(\u001b[0m\u001b[0;34m\"ROC\"\u001b[0m\u001b[0;34m,\u001b[0m \u001b[0mplt\u001b[0m\u001b[0;34m)\u001b[0m\u001b[0;34m\u001b[0m\u001b[0;34m\u001b[0m\u001b[0m\n\u001b[0m\u001b[1;32m      4\u001b[0m \u001b[0mrun\u001b[0m\u001b[0;34m.\u001b[0m\u001b[0mlog\u001b[0m\u001b[0;34m(\u001b[0m\u001b[0;34m\"Experiment end time\"\u001b[0m\u001b[0;34m,\u001b[0m \u001b[0mstr\u001b[0m\u001b[0;34m(\u001b[0m\u001b[0mdatetime\u001b[0m\u001b[0;34m.\u001b[0m\u001b[0mdatetime\u001b[0m\u001b[0;34m.\u001b[0m\u001b[0mnow\u001b[0m\u001b[0;34m(\u001b[0m\u001b[0;34m)\u001b[0m\u001b[0;34m)\u001b[0m\u001b[0;34m)\u001b[0m\u001b[0;34m\u001b[0m\u001b[0;34m\u001b[0m\u001b[0m\n\u001b[1;32m      5\u001b[0m \u001b[0mrun\u001b[0m\u001b[0;34m.\u001b[0m\u001b[0mcomplete\u001b[0m\u001b[0;34m(\u001b[0m\u001b[0;34m)\u001b[0m\u001b[0;34m\u001b[0m\u001b[0;34m\u001b[0m\u001b[0m\n",
      "\u001b[0;32m/anaconda/envs/azureml_py36/lib/python3.6/site-packages/azureml/core/run.py\u001b[0m in \u001b[0;36mwrapped\u001b[0;34m(self, *args, **kwargs)\u001b[0m\n\u001b[1;32m     48\u001b[0m                                      \"therefore, the {} cannot upload files, or log file backed metrics.\".format(\n\u001b[1;32m     49\u001b[0m                                          self, self.__class__.__name__))\n\u001b[0;32m---> 50\u001b[0;31m         \u001b[0;32mreturn\u001b[0m \u001b[0mfunc\u001b[0m\u001b[0;34m(\u001b[0m\u001b[0mself\u001b[0m\u001b[0;34m,\u001b[0m \u001b[0;34m*\u001b[0m\u001b[0margs\u001b[0m\u001b[0;34m,\u001b[0m \u001b[0;34m**\u001b[0m\u001b[0mkwargs\u001b[0m\u001b[0;34m)\u001b[0m\u001b[0;34m\u001b[0m\u001b[0;34m\u001b[0m\u001b[0m\n\u001b[0m\u001b[1;32m     51\u001b[0m     \u001b[0;32mreturn\u001b[0m \u001b[0mwrapped\u001b[0m\u001b[0;34m\u001b[0m\u001b[0;34m\u001b[0m\u001b[0m\n\u001b[1;32m     52\u001b[0m \u001b[0;34m\u001b[0m\u001b[0m\n",
      "\u001b[0;32m/anaconda/envs/azureml_py36/lib/python3.6/site-packages/azureml/core/run.py\u001b[0m in \u001b[0;36mlog_image\u001b[0;34m(self, name, path, plot, description)\u001b[0m\n\u001b[1;32m   1611\u001b[0m         \u001b[0;34m:\u001b[0m\u001b[0;32mreturn\u001b[0m\u001b[0;34m:\u001b[0m\u001b[0;34m\u001b[0m\u001b[0;34m\u001b[0m\u001b[0m\n\u001b[1;32m   1612\u001b[0m         \"\"\"\n\u001b[0;32m-> 1613\u001b[0;31m         \u001b[0;32mreturn\u001b[0m \u001b[0mself\u001b[0m\u001b[0;34m.\u001b[0m\u001b[0m_client\u001b[0m\u001b[0;34m.\u001b[0m\u001b[0mlog_image\u001b[0m\u001b[0;34m(\u001b[0m\u001b[0mname\u001b[0m\u001b[0;34m,\u001b[0m \u001b[0mpath\u001b[0m\u001b[0;34m=\u001b[0m\u001b[0mpath\u001b[0m\u001b[0;34m,\u001b[0m \u001b[0mplot\u001b[0m\u001b[0;34m=\u001b[0m\u001b[0mplot\u001b[0m\u001b[0;34m,\u001b[0m \u001b[0mdescription\u001b[0m\u001b[0;34m=\u001b[0m\u001b[0mdescription\u001b[0m\u001b[0;34m)\u001b[0m\u001b[0;34m\u001b[0m\u001b[0;34m\u001b[0m\u001b[0m\n\u001b[0m\u001b[1;32m   1614\u001b[0m \u001b[0;34m\u001b[0m\u001b[0m\n\u001b[1;32m   1615\u001b[0m     \u001b[0;34m@\u001b[0m\u001b[0m_check_for_data_container_id\u001b[0m\u001b[0;34m\u001b[0m\u001b[0;34m\u001b[0m\u001b[0m\n",
      "\u001b[0;32m/anaconda/envs/azureml_py36/lib/python3.6/site-packages/azureml/_run_impl/run_history_facade.py\u001b[0m in \u001b[0;36mlog_image\u001b[0;34m(self, name, path, plot, description)\u001b[0m\n\u001b[1;32m    265\u001b[0m         \u001b[0mvalue\u001b[0m \u001b[0;34m=\u001b[0m \u001b[0mpath\u001b[0m \u001b[0;32mif\u001b[0m \u001b[0mpath\u001b[0m \u001b[0;32mis\u001b[0m \u001b[0;32mnot\u001b[0m \u001b[0;32mNone\u001b[0m \u001b[0;32melse\u001b[0m \u001b[0mplot\u001b[0m\u001b[0;34m\u001b[0m\u001b[0;34m\u001b[0m\u001b[0m\n\u001b[1;32m    266\u001b[0m         \u001b[0mmetric\u001b[0m \u001b[0;34m=\u001b[0m \u001b[0mImageMetric\u001b[0m\u001b[0;34m(\u001b[0m\u001b[0mname\u001b[0m\u001b[0;34m,\u001b[0m \u001b[0mvalue\u001b[0m\u001b[0;34m,\u001b[0m \u001b[0;32mNone\u001b[0m\u001b[0;34m,\u001b[0m \u001b[0mdescription\u001b[0m\u001b[0;34m=\u001b[0m\u001b[0mdescription\u001b[0m\u001b[0;34m)\u001b[0m\u001b[0;34m\u001b[0m\u001b[0;34m\u001b[0m\u001b[0m\n\u001b[0;32m--> 267\u001b[0;31m         \u001b[0mself\u001b[0m\u001b[0;34m.\u001b[0m\u001b[0m_log_metric\u001b[0m\u001b[0;34m(\u001b[0m\u001b[0mmetric\u001b[0m\u001b[0;34m,\u001b[0m \u001b[0mis_plot\u001b[0m\u001b[0;34m=\u001b[0m\u001b[0mplot\u001b[0m \u001b[0;32mis\u001b[0m \u001b[0;32mnot\u001b[0m \u001b[0;32mNone\u001b[0m\u001b[0;34m)\u001b[0m\u001b[0;34m\u001b[0m\u001b[0;34m\u001b[0m\u001b[0m\n\u001b[0m\u001b[1;32m    268\u001b[0m \u001b[0;34m\u001b[0m\u001b[0m\n\u001b[1;32m    269\u001b[0m     \u001b[0;32mdef\u001b[0m \u001b[0m_log_metric\u001b[0m\u001b[0;34m(\u001b[0m\u001b[0mself\u001b[0m\u001b[0;34m,\u001b[0m \u001b[0mmetric\u001b[0m\u001b[0;34m,\u001b[0m \u001b[0mis_plot\u001b[0m\u001b[0;34m=\u001b[0m\u001b[0;32mFalse\u001b[0m\u001b[0;34m)\u001b[0m\u001b[0;34m:\u001b[0m\u001b[0;34m\u001b[0m\u001b[0;34m\u001b[0m\u001b[0m\n",
      "\u001b[0;32m/anaconda/envs/azureml_py36/lib/python3.6/site-packages/azureml/_run_impl/run_history_facade.py\u001b[0m in \u001b[0;36m_log_metric\u001b[0;34m(self, metric, is_plot)\u001b[0m\n\u001b[1;32m    275\u001b[0m             \u001b[0;32melse\u001b[0m\u001b[0;34m:\u001b[0m\u001b[0;34m\u001b[0m\u001b[0;34m\u001b[0m\u001b[0m\n\u001b[1;32m    276\u001b[0m                 metric.log_to_artifact(self.artifacts, self._origin,\n\u001b[0;32m--> 277\u001b[0;31m                                        self._data_container_id)\n\u001b[0m\u001b[1;32m    278\u001b[0m         \u001b[0mself\u001b[0m\u001b[0;34m.\u001b[0m\u001b[0mmetrics\u001b[0m\u001b[0;34m.\u001b[0m\u001b[0mlog\u001b[0m\u001b[0;34m(\u001b[0m\u001b[0mmetric\u001b[0m\u001b[0;34m)\u001b[0m\u001b[0;34m\u001b[0m\u001b[0;34m\u001b[0m\u001b[0m\n\u001b[1;32m    279\u001b[0m \u001b[0;34m\u001b[0m\u001b[0m\n",
      "\u001b[0;32m/anaconda/envs/azureml_py36/lib/python3.6/site-packages/azureml/core/_metrics.py\u001b[0m in \u001b[0;36mlog_to_artifact\u001b[0;34m(self, artifact_client, origin, container, is_plot)\u001b[0m\n\u001b[1;32m    669\u001b[0m             \u001b[0martifact_path\u001b[0m \u001b[0;34m=\u001b[0m \u001b[0mself\u001b[0m\u001b[0;34m.\u001b[0m\u001b[0m_log_plot\u001b[0m\u001b[0;34m(\u001b[0m\u001b[0martifact_client\u001b[0m\u001b[0;34m,\u001b[0m \u001b[0mself\u001b[0m\u001b[0;34m.\u001b[0m\u001b[0mvalue\u001b[0m\u001b[0;34m,\u001b[0m \u001b[0morigin\u001b[0m\u001b[0;34m,\u001b[0m \u001b[0mcontainer\u001b[0m\u001b[0;34m)\u001b[0m\u001b[0;34m\u001b[0m\u001b[0;34m\u001b[0m\u001b[0m\n\u001b[1;32m    670\u001b[0m         \u001b[0;32melse\u001b[0m\u001b[0;34m:\u001b[0m\u001b[0;34m\u001b[0m\u001b[0;34m\u001b[0m\u001b[0m\n\u001b[0;32m--> 671\u001b[0;31m             \u001b[0martifact_path\u001b[0m \u001b[0;34m=\u001b[0m \u001b[0mself\u001b[0m\u001b[0;34m.\u001b[0m\u001b[0m_log_image\u001b[0m\u001b[0;34m(\u001b[0m\u001b[0martifact_client\u001b[0m\u001b[0;34m,\u001b[0m \u001b[0mself\u001b[0m\u001b[0;34m.\u001b[0m\u001b[0mvalue\u001b[0m\u001b[0;34m,\u001b[0m \u001b[0morigin\u001b[0m\u001b[0;34m,\u001b[0m \u001b[0mcontainer\u001b[0m\u001b[0;34m)\u001b[0m\u001b[0;34m\u001b[0m\u001b[0;34m\u001b[0m\u001b[0m\n\u001b[0m\u001b[1;32m    672\u001b[0m         \u001b[0mself\u001b[0m\u001b[0;34m.\u001b[0m\u001b[0m_build_artifact_uri\u001b[0m\u001b[0;34m(\u001b[0m\u001b[0morigin\u001b[0m\u001b[0;34m,\u001b[0m \u001b[0mcontainer\u001b[0m\u001b[0;34m,\u001b[0m \u001b[0martifact_path\u001b[0m\u001b[0;34m)\u001b[0m\u001b[0;34m\u001b[0m\u001b[0;34m\u001b[0m\u001b[0m\n\u001b[1;32m    673\u001b[0m \u001b[0;34m\u001b[0m\u001b[0m\n",
      "\u001b[0;32m/anaconda/envs/azureml_py36/lib/python3.6/site-packages/azureml/core/_metrics.py\u001b[0m in \u001b[0;36m_log_image\u001b[0;34m(self, artifact_client, path, origin, container)\u001b[0m\n\u001b[1;32m    689\u001b[0m \u001b[0;34m\u001b[0m\u001b[0m\n\u001b[1;32m    690\u001b[0m     \u001b[0;32mdef\u001b[0m \u001b[0m_log_image\u001b[0m\u001b[0;34m(\u001b[0m\u001b[0mself\u001b[0m\u001b[0;34m,\u001b[0m \u001b[0martifact_client\u001b[0m\u001b[0;34m,\u001b[0m \u001b[0mpath\u001b[0m\u001b[0;34m,\u001b[0m \u001b[0morigin\u001b[0m\u001b[0;34m,\u001b[0m \u001b[0mcontainer\u001b[0m\u001b[0;34m)\u001b[0m\u001b[0;34m:\u001b[0m\u001b[0;34m\u001b[0m\u001b[0;34m\u001b[0m\u001b[0m\n\u001b[0;32m--> 691\u001b[0;31m         \u001b[0mimage_type\u001b[0m \u001b[0;34m=\u001b[0m \u001b[0mimghdr\u001b[0m\u001b[0;34m.\u001b[0m\u001b[0mwhat\u001b[0m\u001b[0;34m(\u001b[0m\u001b[0mpath\u001b[0m\u001b[0;34m)\u001b[0m\u001b[0;34m\u001b[0m\u001b[0;34m\u001b[0m\u001b[0m\n\u001b[0m\u001b[1;32m    692\u001b[0m         \u001b[0;32mif\u001b[0m \u001b[0mimage_type\u001b[0m \u001b[0;32mis\u001b[0m \u001b[0;32mnot\u001b[0m \u001b[0;32mNone\u001b[0m\u001b[0;34m:\u001b[0m\u001b[0;34m\u001b[0m\u001b[0;34m\u001b[0m\u001b[0m\n\u001b[1;32m    693\u001b[0m             artifact_client.upload_artifact(path, origin, container, path,\n",
      "\u001b[0;32m/anaconda/envs/azureml_py36/lib/python3.6/imghdr.py\u001b[0m in \u001b[0;36mwhat\u001b[0;34m(file, h)\u001b[0m\n\u001b[1;32m     17\u001b[0m                 \u001b[0mh\u001b[0m \u001b[0;34m=\u001b[0m \u001b[0mf\u001b[0m\u001b[0;34m.\u001b[0m\u001b[0mread\u001b[0m\u001b[0;34m(\u001b[0m\u001b[0;36m32\u001b[0m\u001b[0;34m)\u001b[0m\u001b[0;34m\u001b[0m\u001b[0;34m\u001b[0m\u001b[0m\n\u001b[1;32m     18\u001b[0m             \u001b[0;32melse\u001b[0m\u001b[0;34m:\u001b[0m\u001b[0;34m\u001b[0m\u001b[0;34m\u001b[0m\u001b[0m\n\u001b[0;32m---> 19\u001b[0;31m                 \u001b[0mlocation\u001b[0m \u001b[0;34m=\u001b[0m \u001b[0mfile\u001b[0m\u001b[0;34m.\u001b[0m\u001b[0mtell\u001b[0m\u001b[0;34m(\u001b[0m\u001b[0;34m)\u001b[0m\u001b[0;34m\u001b[0m\u001b[0;34m\u001b[0m\u001b[0m\n\u001b[0m\u001b[1;32m     20\u001b[0m                 \u001b[0mh\u001b[0m \u001b[0;34m=\u001b[0m \u001b[0mfile\u001b[0m\u001b[0;34m.\u001b[0m\u001b[0mread\u001b[0m\u001b[0;34m(\u001b[0m\u001b[0;36m32\u001b[0m\u001b[0;34m)\u001b[0m\u001b[0;34m\u001b[0m\u001b[0;34m\u001b[0m\u001b[0m\n\u001b[1;32m     21\u001b[0m                 \u001b[0mfile\u001b[0m\u001b[0;34m.\u001b[0m\u001b[0mseek\u001b[0m\u001b[0;34m(\u001b[0m\u001b[0mlocation\u001b[0m\u001b[0;34m)\u001b[0m\u001b[0;34m\u001b[0m\u001b[0;34m\u001b[0m\u001b[0m\n",
      "\u001b[0;31mAttributeError\u001b[0m: module 'matplotlib.pyplot' has no attribute 'tell'"
     ]
    }
   ],
   "source": [
    "run.log('Intercept :', lm.intercept_)\n",
    "run.log('Slope :', lm.coef_[0])\n",
    "run.log_image(\"ROC\", pl)\n",
    "run.log(\"Experiment end time\", str(datetime.datetime.now()))\n",
    "run.complete()"
   ]
  },
  {
   "cell_type": "code",
   "execution_count": null,
   "metadata": {},
   "outputs": [],
   "source": []
  }
 ],
 "metadata": {
  "kernelspec": {
   "display_name": "Python 3.6 - AzureML",
   "language": "python",
   "name": "python3-azureml"
  },
  "language_info": {
   "codemirror_mode": {
    "name": "ipython",
    "version": 3
   },
   "file_extension": ".py",
   "mimetype": "text/x-python",
   "name": "python",
   "nbconvert_exporter": "python",
   "pygments_lexer": "ipython3",
   "version": "3.6.9"
  }
 },
 "nbformat": 4,
 "nbformat_minor": 2
}
