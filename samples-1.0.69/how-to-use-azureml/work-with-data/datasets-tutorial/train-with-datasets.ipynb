{
    "cells":  [
                  {
                      "cell_type":  "markdown",
                      "metadata":  {

                                   },
                      "source":  [
                                     "Copyright (c) Microsoft Corporation. All rights reserved.\n",
                                     "\n",
                                     "Licensed under the MIT License."
                                 ]
                  },
                  {
                      "cell_type":  "markdown",
                      "metadata":  {

                                   },
                      "source":  [
                                     "![Impressions](https://PixelServer20190423114238.azurewebsites.net/api/impressions/NotebookVM/how-to-use-azureml/work-with-data/datasets-tutorial/train-with-datasets.png)"
                                 ]
                  },
                  {
                      "cell_type":  "markdown",
                      "metadata":  {

                                   },
                      "source":  [
                                     "# Train with Azure Machine Learning Datasets\n",
                                     "Datasets are categorized into TabularDataset and FileDataset based on how users consume them in training. \n",
                                     "* A TabularDataset represents data in a tabular format by parsing the provided file or list of files. TabularDataset can be created from csv, tsv, parquet files, SQL query results etc. For the complete list, please visit our [documentation](https://aka.ms/tabulardataset-api-reference). It provides you with the ability to materialize the data into a pandas DataFrame.\n",
                                     "* A FileDataset references single or multiple files in your datastores or public urls. This provides you with the ability to download or mount the files to your compute. The files can be of any format, which enables a wider range of machine learning scenarios including deep learning.\n",
                                     "\n",
                                     "In this tutorial, you will learn how to train with Azure Machine Learning Datasets:\n",
                                     "\n",
                                     "\u0026#x2611; Use Datasets directly in your training script\n",
                                     "\n",
                                     "\u0026#x2611; Use Datasets to mount files to a remote compute"
                                 ]
                  },
                  {
                      "cell_type":  "markdown",
                      "metadata":  {

                                   },
                      "source":  [
                                     "## Prerequisites\n",
                                     "If you are using an Azure Machine Learning Notebook VM, you are all set. Otherwise, go through the [configuration notebook](../../../configuration.ipynb) first if you haven\u0027t already established your connection to the AzureML Workspace."
                                 ]
                  },
                  {
                      "cell_type":  "code",
                      "execution_count":  null,
                      "metadata":  {

                                   },
                      "outputs":  [

                                  ],
                      "source":  [
                                     "# Check core SDK version number\n",
                                     "import azureml.core\n",
                                     "\n",
                                     "print(\u0027SDK version:\u0027, azureml.core.VERSION)"
                                 ]
                  },
                  {
                      "cell_type":  "markdown",
                      "metadata":  {

                                   },
                      "source":  [
                                     "## Initialize Workspace\n",
                                     "\n",
                                     "Initialize a workspace object from persisted configuration."
                                 ]
                  },
                  {
                      "cell_type":  "code",
                      "execution_count":  null,
                      "metadata":  {

                                   },
                      "outputs":  [

                                  ],
                      "source":  [
                                     "from azureml.core import Workspace\n",
                                     "\n",
                                     "ws = Workspace.from_config()\n",
                                     "print(ws.name, ws.resource_group, ws.location, ws.subscription_id, sep=\u0027\\n\u0027)"
                                 ]
                  },
                  {
                      "cell_type":  "markdown",
                      "metadata":  {

                                   },
                      "source":  [
                                     "## Create Experiment\n",
                                     "\n",
                                     "**Experiment** is a logical container in an Azure ML Workspace. It hosts run records which can include run metrics and output artifacts from your experiments."
                                 ]
                  },
                  {
                      "cell_type":  "code",
                      "execution_count":  null,
                      "metadata":  {

                                   },
                      "outputs":  [

                                  ],
                      "source":  [
                                     "experiment_name = \u0027train-with-datasets\u0027\n",
                                     "\n",
                                     "from azureml.core import Experiment\n",
                                     "exp = Experiment(workspace=ws, name=experiment_name)"
                                 ]
                  },
                  {
                      "cell_type":  "markdown",
                      "metadata":  {

                                   },
                      "source":  [
                                     "## Create or Attach existing compute resource\n",
                                     "By using Azure Machine Learning Compute, a managed service, data scientists can train machine learning models on clusters of Azure virtual machines. Examples include VMs with GPU support. In this tutorial, you create Azure Machine Learning Compute as your training environment. The code below creates the compute clusters for you if they don\u0027t already exist in your workspace.\n",
                                     "\n",
                                     "**Creation of compute takes approximately 5 minutes.** If the AmlCompute with that name is already in your workspace the code will skip the creation process."
                                 ]
                  },
                  {
                      "cell_type":  "code",
                      "execution_count":  null,
                      "metadata":  {

                                   },
                      "outputs":  [

                                  ],
                      "source":  [
                                     "from azureml.core.compute import AmlCompute\n",
                                     "from azureml.core.compute import ComputeTarget\n",
                                     "import os\n",
                                     "\n",
                                     "# choose a name for your cluster\n",
                                     "compute_name = os.environ.get(\u0027AML_COMPUTE_CLUSTER_NAME\u0027, \u0027cpu-cluster\u0027)\n",
                                     "compute_min_nodes = os.environ.get(\u0027AML_COMPUTE_CLUSTER_MIN_NODES\u0027, 0)\n",
                                     "compute_max_nodes = os.environ.get(\u0027AML_COMPUTE_CLUSTER_MAX_NODES\u0027, 4)\n",
                                     "\n",
                                     "# This example uses CPU VM. For using GPU VM, set SKU to STANDARD_NC6\n",
                                     "vm_size = os.environ.get(\u0027AML_COMPUTE_CLUSTER_SKU\u0027, \u0027STANDARD_D2_V2\u0027)\n",
                                     "\n",
                                     "\n",
                                     "if compute_name in ws.compute_targets:\n",
                                     "    compute_target = ws.compute_targets[compute_name]\n",
                                     "    if compute_target and type(compute_target) is AmlCompute:\n",
                                     "        print(\u0027found compute target. just use it. \u0027 + compute_name)\n",
                                     "else:\n",
                                     "    print(\u0027creating a new compute target...\u0027)\n",
                                     "    provisioning_config = AmlCompute.provisioning_configuration(vm_size=vm_size,\n",
                                     "                                                                min_nodes=compute_min_nodes, \n",
                                     "                                                                max_nodes=compute_max_nodes)\n",
                                     "\n",
                                     "    # create the cluster\n",
                                     "    compute_target = ComputeTarget.create(ws, compute_name, provisioning_config)\n",
                                     "    \n",
                                     "    # can poll for a minimum number of nodes and for a specific timeout. \n",
                                     "    # if no min node count is provided it will use the scale settings for the cluster\n",
                                     "    compute_target.wait_for_completion(show_output=True, min_node_count=None, timeout_in_minutes=20)\n",
                                     "    \n",
                                     "     # For a more detailed view of current AmlCompute status, use get_status()\n",
                                     "    print(compute_target.get_status().serialize())"
                                 ]
                  },
                  {
                      "cell_type":  "markdown",
                      "metadata":  {

                                   },
                      "source":  [
                                     "You now have the necessary packages and compute resources to train a model in the cloud.\n",
                                     "## Use Datasets directly in training\n",
                                     "\n",
                                     "### Create a TabularDataset\n",
                                     "By creating a dataset, you create a reference to the data source location. If you applied any subsetting transformations to the dataset, they will be stored in the dataset as well. The data remains in its existing location, so no extra storage cost is incurred. \n",
                                     "\n",
                                     "Every workspace comes with a default [datastore](https://docs.microsoft.com/en-us/azure/machine-learning/service/how-to-access-data) (and you can register more) which is backed by the Azure blob storage account associated with the workspace. We can use it to transfer data from local to the cloud, and create Dataset from it. We will now upload the [Iris data](./train-dataset/Iris.csv) to the default datastore (blob) within your workspace."
                                 ]
                  },
                  {
                      "cell_type":  "code",
                      "execution_count":  null,
                      "metadata":  {

                                   },
                      "outputs":  [

                                  ],
                      "source":  [
                                     "datastore = ws.get_default_datastore()\n",
                                     "datastore.upload_files(files = [\u0027./train-dataset/iris.csv\u0027],\n",
                                     "                       target_path = \u0027train-dataset/tabular/\u0027,\n",
                                     "                       overwrite = True,\n",
                                     "                       show_progress = True)"
                                 ]
                  },
                  {
                      "cell_type":  "markdown",
                      "metadata":  {

                                   },
                      "source":  [
                                     "Then we will create an unregistered TabularDataset pointing to the path in the datastore. You can also create a Dataset from multiple paths. [learn more](https://aka.ms/azureml/howto/createdatasets) "
                                 ]
                  },
                  {
                      "cell_type":  "code",
                      "execution_count":  null,
                      "metadata":  {
                                       "tags":  [
                                                    "dataset-remarks-tabular-sample"
                                                ]
                                   },
                      "outputs":  [

                                  ],
                      "source":  [
                                     "from azureml.core import Dataset\n",
                                     "dataset = Dataset.Tabular.from_delimited_files(path = [(datastore, \u0027train-dataset/tabular/iris.csv\u0027)])\n",
                                     "\n",
                                     "# preview the first 3 rows of the dataset\n",
                                     "dataset.take(3).to_pandas_dataframe()"
                                 ]
                  },
                  {
                      "cell_type":  "markdown",
                      "metadata":  {

                                   },
                      "source":  [
                                     "### Create a training script\n",
                                     "\n",
                                     "To submit the job to the cluster, first create a training script. Run the following code to create the training script called `train_titanic.py` in the script_folder. "
                                 ]
                  },
                  {
                      "cell_type":  "code",
                      "execution_count":  null,
                      "metadata":  {

                                   },
                      "outputs":  [

                                  ],
                      "source":  [
                                     "script_folder = os.path.join(os.getcwd(), \u0027train-dataset\u0027)"
                                 ]
                  },
                  {
                      "cell_type":  "code",
                      "execution_count":  null,
                      "metadata":  {

                                   },
                      "outputs":  [

                                  ],
                      "source":  [
                                     "%%writefile $script_folder/train_iris.py\n",
                                     "\n",
                                     "import os\n",
                                     "\n",
                                     "from azureml.core import Dataset, Run\n",
                                     "from sklearn.model_selection import train_test_split\n",
                                     "from sklearn.tree import DecisionTreeClassifier\n",
                                     "from sklearn.externals import joblib\n",
                                     "\n",
                                     "run = Run.get_context()\n",
                                     "# get input dataset by name\n",
                                     "dataset = run.input_datasets[\u0027iris\u0027]\n",
                                     "\n",
                                     "df = dataset.to_pandas_dataframe()\n",
                                     "\n",
                                     "x_col = [\u0027sepal_length\u0027, \u0027sepal_width\u0027, \u0027petal_length\u0027, \u0027petal_width\u0027]\n",
                                     "y_col = [\u0027species\u0027]\n",
                                     "x_df = df.loc[:, x_col]\n",
                                     "y_df = df.loc[:, y_col]\n",
                                     "\n",
                                     "#dividing X,y into train and test data\n",
                                     "x_train, x_test, y_train, y_test = train_test_split(x_df, y_df, test_size=0.2, random_state=223)\n",
                                     "\n",
                                     "data = {\u0027train\u0027: {\u0027X\u0027: x_train, \u0027y\u0027: y_train},\n",
                                     "\n",
                                     "        \u0027test\u0027: {\u0027X\u0027: x_test, \u0027y\u0027: y_test}}\n",
                                     "\n",
                                     "clf = DecisionTreeClassifier().fit(data[\u0027train\u0027][\u0027X\u0027], data[\u0027train\u0027][\u0027y\u0027])\n",
                                     "model_file_name = \u0027decision_tree.pkl\u0027\n",
                                     "\n",
                                     "print(\u0027Accuracy of Decision Tree classifier on training set: {:.2f}\u0027.format(clf.score(x_train, y_train)))\n",
                                     "print(\u0027Accuracy of Decision Tree classifier on test set: {:.2f}\u0027.format(clf.score(x_test, y_test)))\n",
                                     "\n",
                                     "os.makedirs(\u0027./outputs\u0027, exist_ok=True)\n",
                                     "with open(model_file_name, \u0027wb\u0027) as file:\n",
                                     "    joblib.dump(value=clf, filename=\u0027outputs/\u0027 + model_file_name)"
                                 ]
                  },
                  {
                      "cell_type":  "markdown",
                      "metadata":  {

                                   },
                      "source":  [
                                     "### Configure and use Datasets as the input to Estimator"
                                 ]
                  },
                  {
                      "cell_type":  "markdown",
                      "metadata":  {

                                   },
                      "source":  [
                                     "You can ask the system to build a conda environment based on your dependency specification. Once the environment is built, and if you don\u0027t change your dependencies, it will be reused in subsequent runs."
                                 ]
                  },
                  {
                      "cell_type":  "code",
                      "execution_count":  null,
                      "metadata":  {

                                   },
                      "outputs":  [

                                  ],
                      "source":  [
                                     "from azureml.core import Environment\n",
                                     "from azureml.core.conda_dependencies import CondaDependencies\n",
                                     "\n",
                                     "conda_env = Environment(\u0027conda-env\u0027)\n",
                                     "conda_env.python.conda_dependencies = CondaDependencies.create(pip_packages=[\u0027azureml-sdk\u0027,\n",
                                     "                                                                             \u0027azureml-dataprep[pandas,fuse]\u0027,\n",
                                     "                                                                             \u0027scikit-learn\u0027])"
                                 ]
                  },
                  {
                      "cell_type":  "markdown",
                      "metadata":  {

                                   },
                      "source":  [
                                     "An estimator object is used to submit the run. Azure Machine Learning has pre-configured estimators for common machine learning frameworks, as well as generic Estimator. Create a generic estimator for by specifying\n",
                                     "\n",
                                     "* The name of the estimator object, `est`\n",
                                     "* The directory that contains your scripts. All the files in this directory are uploaded into the cluster nodes for execution. \n",
                                     "* The training script name, train_titanic.py\n",
                                     "* The input Dataset for training\n",
                                     "* The compute target. In this case you will use the AmlCompute you created\n",
                                     "* The environment definition for the experiment"
                                 ]
                  },
                  {
                      "cell_type":  "code",
                      "execution_count":  null,
                      "metadata":  {

                                   },
                      "outputs":  [

                                  ],
                      "source":  [
                                     "from azureml.train.estimator import Estimator\n",
                                     "\n",
                                     "est = Estimator(source_directory=script_folder, \n",
                                     "                entry_script=\u0027train_iris.py\u0027, \n",
                                     "                # pass dataset object as an input with name \u0027titanic\u0027\n",
                                     "                inputs=[dataset.as_named_input(\u0027iris\u0027)],\n",
                                     "                compute_target=compute_target,\n",
                                     "                environment_definition= conda_env) "
                                 ]
                  },
                  {
                      "cell_type":  "markdown",
                      "metadata":  {

                                   },
                      "source":  [
                                     "### Submit job to run\n",
                                     "Submit the estimator to the Azure ML experiment to kick off the execution."
                                 ]
                  },
                  {
                      "cell_type":  "code",
                      "execution_count":  null,
                      "metadata":  {

                                   },
                      "outputs":  [

                                  ],
                      "source":  [
                                     "run = exp.submit(est)"
                                 ]
                  },
                  {
                      "cell_type":  "code",
                      "execution_count":  null,
                      "metadata":  {

                                   },
                      "outputs":  [

                                  ],
                      "source":  [
                                     "from azureml.widgets import RunDetails\n",
                                     "\n",
                                     "# monitor the run\n",
                                     "RunDetails(run).show()"
                                 ]
                  },
                  {
                      "cell_type":  "markdown",
                      "metadata":  {

                                   },
                      "source":  [
                                     "## Use Datasets to mount files to a remote compute\n",
                                     "\n",
                                     "You can use the Dataset object to mount or download files referred by it. When you mount a file system, you attach that file system to a directory (mount point) and make it available to the system. Because mounting load files at the time of processing, it is usually faster than download.\u003cbr\u003e \n",
                                     "Note: mounting is only available for Linux-based compute (DSVM/VM, AMLCompute, HDInsights)."
                                 ]
                  },
                  {
                      "cell_type":  "markdown",
                      "metadata":  {

                                   },
                      "source":  [
                                     "### Upload data files into datastore\n",
                                     "We will first load diabetes data from `scikit-learn` to the train-dataset folder."
                                 ]
                  },
                  {
                      "cell_type":  "code",
                      "execution_count":  null,
                      "metadata":  {

                                   },
                      "outputs":  [

                                  ],
                      "source":  [
                                     "from sklearn.datasets import load_diabetes\n",
                                     "import numpy as np\n",
                                     "\n",
                                     "training_data = load_diabetes()\n",
                                     "np.save(file=\u0027train-dataset/features.npy\u0027, arr=training_data[\u0027data\u0027])\n",
                                     "np.save(file=\u0027train-dataset/labels.npy\u0027, arr=training_data[\u0027target\u0027])"
                                 ]
                  },
                  {
                      "cell_type":  "markdown",
                      "metadata":  {

                                   },
                      "source":  [
                                     "Now let\u0027s upload the 2 files into the default datastore under a path named `diabetes`:"
                                 ]
                  },
                  {
                      "cell_type":  "code",
                      "execution_count":  null,
                      "metadata":  {

                                   },
                      "outputs":  [

                                  ],
                      "source":  [
                                     "datastore.upload_files([\u0027train-dataset/features.npy\u0027, \u0027train-dataset/labels.npy\u0027], target_path=\u0027diabetes\u0027, overwrite=True)"
                                 ]
                  },
                  {
                      "cell_type":  "markdown",
                      "metadata":  {

                                   },
                      "source":  [
                                     "### Create a FileDataset"
                                 ]
                  },
                  {
                      "cell_type":  "code",
                      "execution_count":  null,
                      "metadata":  {

                                   },
                      "outputs":  [

                                  ],
                      "source":  [
                                     "from azureml.core import Dataset\n",
                                     "\n",
                                     "dataset = Dataset.File.from_files(path = [(datastore, \u0027diabetes/\u0027)])\n",
                                     "\n",
                                     "# see a list of files referenced by dataset\n",
                                     "dataset.to_path()"
                                 ]
                  },
                  {
                      "cell_type":  "markdown",
                      "metadata":  {

                                   },
                      "source":  [
                                     "### Create a training script\n",
                                     "\n",
                                     "To submit the job to the cluster, first create a training script. Run the following code to create the training script called `train_diabetes.py` in the script_folder. "
                                 ]
                  },
                  {
                      "cell_type":  "code",
                      "execution_count":  null,
                      "metadata":  {

                                   },
                      "outputs":  [

                                  ],
                      "source":  [
                                     "%%writefile $script_folder/train_diabetes.py\n",
                                     "\n",
                                     "import os\n",
                                     "import glob\n",
                                     "\n",
                                     "from sklearn.linear_model import Ridge\n",
                                     "from sklearn.metrics import mean_squared_error\n",
                                     "from sklearn.model_selection import train_test_split\n",
                                     "from azureml.core.run import Run\n",
                                     "from sklearn.externals import joblib\n",
                                     "\n",
                                     "import numpy as np\n",
                                     "\n",
                                     "os.makedirs(\u0027./outputs\u0027, exist_ok=True)\n",
                                     "\n",
                                     "run = Run.get_context()\n",
                                     "base_path = run.input_datasets[\u0027diabetes\u0027]\n",
                                     "\n",
                                     "X = np.load(glob.glob(os.path.join(base_path, \u0027**/features.npy\u0027), recursive=True)[0])\n",
                                     "y = np.load(glob.glob(os.path.join(base_path, \u0027**/labels.npy\u0027), recursive=True)[0])\n",
                                     "\n",
                                     "X_train, X_test, y_train, y_test = train_test_split(\n",
                                     "    X, y, test_size=0.2, random_state=0)\n",
                                     "data = {\u0027train\u0027: {\u0027X\u0027: X_train, \u0027y\u0027: y_train},\n",
                                     "        \u0027test\u0027: {\u0027X\u0027: X_test, \u0027y\u0027: y_test}}\n",
                                     "\n",
                                     "# list of numbers from 0.0 to 1.0 with a 0.05 interval\n",
                                     "alphas = np.arange(0.0, 1.0, 0.05)\n",
                                     "\n",
                                     "for alpha in alphas:\n",
                                     "    # use Ridge algorithm to create a regression model\n",
                                     "    reg = Ridge(alpha=alpha)\n",
                                     "    reg.fit(data[\u0027train\u0027][\u0027X\u0027], data[\u0027train\u0027][\u0027y\u0027])\n",
                                     "\n",
                                     "    preds = reg.predict(data[\u0027test\u0027][\u0027X\u0027])\n",
                                     "    mse = mean_squared_error(preds, data[\u0027test\u0027][\u0027y\u0027])\n",
                                     "    run.log(\u0027alpha\u0027, alpha)\n",
                                     "    run.log(\u0027mse\u0027, mse)\n",
                                     "\n",
                                     "    model_file_name = \u0027ridge_{0:.2f}.pkl\u0027.format(alpha)\n",
                                     "    with open(model_file_name, \u0027wb\u0027) as file:\n",
                                     "        joblib.dump(value=reg, filename=\u0027outputs/\u0027 + model_file_name)\n",
                                     "\n",
                                     "    print(\u0027alpha is {0:.2f}, and mse is {1:0.2f}\u0027.format(alpha, mse))"
                                 ]
                  },
                  {
                      "cell_type":  "markdown",
                      "metadata":  {

                                   },
                      "source":  [
                                     "### Configure \u0026 Run"
                                 ]
                  },
                  {
                      "cell_type":  "code",
                      "execution_count":  null,
                      "metadata":  {

                                   },
                      "outputs":  [

                                  ],
                      "source":  [
                                     "from azureml.core import ScriptRunConfig\n",
                                     "\n",
                                     "src = ScriptRunConfig(source_directory=script_folder, \n",
                                     "                      script=\u0027train_diabetes.py\u0027, \n",
                                     "                      # to mount the dataset on the remote compute and pass the mounted path as an argument to the training script\n",
                                     "                      arguments =[dataset.as_named_input(\u0027diabetes\u0027).as_mount(\u0027tmp/dataset\u0027)])\n",
                                     "\n",
                                     "src.run_config.framework = \u0027python\u0027\n",
                                     "src.run_config.environment = conda_env\n",
                                     "src.run_config.target = compute_target.name"
                                 ]
                  },
                  {
                      "cell_type":  "code",
                      "execution_count":  null,
                      "metadata":  {

                                   },
                      "outputs":  [

                                  ],
                      "source":  [
                                     "run = exp.submit(config=src)\n",
                                     "\n",
                                     "# monitor the run\n",
                                     "RunDetails(run).show()"
                                 ]
                  },
                  {
                      "cell_type":  "markdown",
                      "metadata":  {

                                   },
                      "source":  [
                                     "### Display run results\n",
                                     "You now have a model trained on a remote cluster. Retrieve all the metrics logged during the run, including the accuracy of the model:"
                                 ]
                  },
                  {
                      "cell_type":  "code",
                      "execution_count":  null,
                      "metadata":  {

                                   },
                      "outputs":  [

                                  ],
                      "source":  [
                                     "print(run.get_metrics())\n",
                                     "metrics = run.get_metrics()"
                                 ]
                  },
                  {
                      "cell_type":  "markdown",
                      "metadata":  {

                                   },
                      "source":  [
                                     "### Register Datasets\n",
                                     "Use the register() method to register datasets to your workspace so they can be shared with others, reused across various experiments, and referred to by name in your training script."
                                 ]
                  },
                  {
                      "cell_type":  "code",
                      "execution_count":  null,
                      "metadata":  {

                                   },
                      "outputs":  [

                                  ],
                      "source":  [
                                     "dataset = dataset.register(workspace = ws,\n",
                                     "                           name = \u0027diabetes dataset\u0027,\n",
                                     "                           description=\u0027training dataset\u0027,\n",
                                     "                           create_new_version=True)"
                                 ]
                  },
                  {
                      "cell_type":  "markdown",
                      "metadata":  {

                                   },
                      "source":  [
                                     "## Register models with Datasets\n",
                                     "The last step in the training script wrote the model files in a directory named `outputs` in the VM of the cluster where the job is executed. `outputs` is a special directory in that all content in this directory is automatically uploaded to your workspace. This content appears in the run record in the experiment under your workspace. Hence, the model file is now also available in your workspace.\n",
                                     "\n",
                                     "You can register models with Datasets for reproducibility and auditing purpose."
                                 ]
                  },
                  {
                      "cell_type":  "code",
                      "execution_count":  null,
                      "metadata":  {

                                   },
                      "outputs":  [

                                  ],
                      "source":  [
                                     "# find the index where MSE is the smallest\n",
                                     "indices = list(range(0, len(metrics[\u0027mse\u0027])))\n",
                                     "min_mse_index = min(indices, key=lambda x: metrics[\u0027mse\u0027][x])\n",
                                     "\n",
                                     "print(\u0027When alpha is {1:0.2f}, we have min MSE {0:0.2f}.\u0027.format(\n",
                                     "    metrics[\u0027mse\u0027][min_mse_index], \n",
                                     "    metrics[\u0027alpha\u0027][min_mse_index]\n",
                                     "))"
                                 ]
                  },
                  {
                      "cell_type":  "code",
                      "execution_count":  null,
                      "metadata":  {

                                   },
                      "outputs":  [

                                  ],
                      "source":  [
                                     "# find the best model\n",
                                     "best_alpha = metrics[\u0027alpha\u0027][min_mse_index]\n",
                                     "model_file_name = \u0027ridge_{0:.2f}.pkl\u0027.format(best_alpha)"
                                 ]
                  },
                  {
                      "cell_type":  "code",
                      "execution_count":  null,
                      "metadata":  {

                                   },
                      "outputs":  [

                                  ],
                      "source":  [
                                     "# register the best model with the input dataset\n",
                                     "model = run.register_model(model_name=\u0027sklearn_diabetes\u0027, model_path=os.path.join(\u0027outputs\u0027, model_file_name),\n",
                                     "                           datasets =[(\u0027training data\u0027,dataset)])"
                                 ]
                  }
              ],
    "metadata":  {
                     "authors":  [
                                     {
                                         "name":  "sihhu"
                                     }
                                 ],
                     "category":  "tutorial",
                     "compute":  [
                                     "remote"
                                 ],
                     "datasets":  [
                                      "Iris",
                                      "Daibetes"
                                  ],
                     "deployment":  [
                                        "None"
                                    ],
                     "exclude_from_index":  false,
                     "framework":  [
                                       "Azure ML"
                                   ],
                     "friendly_name":  "Train with Datasets (Tabular and File)",
                     "index_order":  1,
                     "kernelspec":  {
                                        "display_name":  "Python 3.6 - AzureML",
                                        "language":  "python",
                                        "name":  "python3-azureml"
                                    },
                     "language_info":  {
                                           "codemirror_mode":  {
                                                                   "name":  "ipython",
                                                                   "version":  3
                                                               },
                                           "file_extension":  ".py",
                                           "mimetype":  "text/x-python",
                                           "name":  "python",
                                           "nbconvert_exporter":  "python",
                                           "pygments_lexer":  "ipython3",
                                           "version":  "3.6.9"
                                       },
                     "star_tag":  [
                                      "featured"
                                  ],
                     "tags":  [
                                  "Dataset"
                              ],
                     "task":  "Filtering",
                     "categories":  [
                                        "how-to-use-azureml",
                                        "work-with-data",
                                        "datasets-tutorial"
                                    ]
                 },
    "nbformat":  4,
    "nbformat_minor":  2
}