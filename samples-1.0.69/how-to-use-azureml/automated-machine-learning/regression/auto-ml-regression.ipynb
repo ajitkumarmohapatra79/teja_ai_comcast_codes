{
    "cells":  [
                  {
                      "cell_type":  "markdown",
                      "metadata":  {

                                   },
                      "source":  [
                                     "Copyright (c) Microsoft Corporation. All rights reserved.\n",
                                     "\n",
                                     "Licensed under the MIT License."
                                 ]
                  },
                  {
                      "cell_type":  "markdown",
                      "metadata":  {

                                   },
                      "source":  [
                                     "![Impressions](https://PixelServer20190423114238.azurewebsites.net/api/impressions/NotebookVM/how-to-use-azureml/automated-machine-learning/regression/auto-ml-regression.png)"
                                 ]
                  },
                  {
                      "cell_type":  "markdown",
                      "metadata":  {

                                   },
                      "source":  [
                                     "# Automated Machine Learning\n",
                                     "_**Regression with Local Compute**_\n",
                                     "\n",
                                     "## Contents\n",
                                     "1. [Introduction](#Introduction)\n",
                                     "1. [Setup](#Setup)\n",
                                     "1. [Data](#Data)\n",
                                     "1. [Train](#Train)\n",
                                     "1. [Results](#Results)\n",
                                     "1. [Test](#Test)\n"
                                 ]
                  },
                  {
                      "cell_type":  "markdown",
                      "metadata":  {

                                   },
                      "source":  [
                                     "## Introduction\n",
                                     "In this example we use the scikit-learn\u0027s [diabetes dataset](http://scikit-learn.org/stable/datasets/index.html#diabetes-dataset) to showcase how you can use AutoML for a simple regression problem.\n",
                                     "\n",
                                     "Make sure you have executed the [configuration](../../../configuration.ipynb) before running this notebook.\n",
                                     "\n",
                                     "In this notebook you will learn how to:\n",
                                     "1. Create an `Experiment` in an existing `Workspace`.\n",
                                     "2. Configure AutoML using `AutoMLConfig`.\n",
                                     "3. Train the model using local compute.\n",
                                     "4. Explore the results.\n",
                                     "5. Test the best fitted model."
                                 ]
                  },
                  {
                      "cell_type":  "markdown",
                      "metadata":  {

                                   },
                      "source":  [
                                     "## Setup\n",
                                     "\n",
                                     "As part of the setup you have already created an Azure ML `Workspace` object. For AutoML you will need to create an `Experiment` object, which is a named object in a `Workspace` used to run experiments."
                                 ]
                  },
                  {
                      "cell_type":  "code",
                      "execution_count":  null,
                      "metadata":  {

                                   },
                      "outputs":  [

                                  ],
                      "source":  [
                                     "import logging\n",
                                     "\n",
                                     "from matplotlib import pyplot as plt\n",
                                     "import numpy as np\n",
                                     "import pandas as pd\n",
                                     "\n",
                                     "import azureml.core\n",
                                     "from azureml.core.experiment import Experiment\n",
                                     "from azureml.core.workspace import Workspace\n",
                                     "from azureml.train.automl import AutoMLConfig"
                                 ]
                  },
                  {
                      "cell_type":  "code",
                      "execution_count":  null,
                      "metadata":  {

                                   },
                      "outputs":  [

                                  ],
                      "source":  [
                                     "ws = Workspace.from_config()\n",
                                     "\n",
                                     "# Choose a name for the experiment.\n",
                                     "experiment_name = \u0027automl-local-regression\u0027\n",
                                     "\n",
                                     "experiment = Experiment(ws, experiment_name)\n",
                                     "\n",
                                     "output = {}\n",
                                     "output[\u0027SDK version\u0027] = azureml.core.VERSION\n",
                                     "output[\u0027Subscription ID\u0027] = ws.subscription_id\n",
                                     "output[\u0027Workspace Name\u0027] = ws.name\n",
                                     "output[\u0027Resource Group\u0027] = ws.resource_group\n",
                                     "output[\u0027Location\u0027] = ws.location\n",
                                     "output[\u0027Experiment Name\u0027] = experiment.name\n",
                                     "pd.set_option(\u0027display.max_colwidth\u0027, -1)\n",
                                     "outputDf = pd.DataFrame(data = output, index = [\u0027\u0027])\n",
                                     "outputDf.T"
                                 ]
                  },
                  {
                      "cell_type":  "markdown",
                      "metadata":  {

                                   },
                      "source":  [
                                     "## Data\n",
                                     "This uses scikit-learn\u0027s [load_diabetes](http://scikit-learn.org/stable/modules/generated/sklearn.datasets.load_diabetes.html) method."
                                 ]
                  },
                  {
                      "cell_type":  "code",
                      "execution_count":  null,
                      "metadata":  {

                                   },
                      "outputs":  [

                                  ],
                      "source":  [
                                     "# Load the diabetes dataset, a well-known built-in small dataset that comes with scikit-learn.\n",
                                     "from sklearn.datasets import load_diabetes\n",
                                     "from sklearn.model_selection import train_test_split\n",
                                     "\n",
                                     "X, y = load_diabetes(return_X_y = True)\n",
                                     "\n",
                                     "columns = [\u0027age\u0027, \u0027gender\u0027, \u0027bmi\u0027, \u0027bp\u0027, \u0027s1\u0027, \u0027s2\u0027, \u0027s3\u0027, \u0027s4\u0027, \u0027s5\u0027, \u0027s6\u0027]\n",
                                     "\n",
                                     "X_train, X_test, y_train, y_test = train_test_split(X, y, test_size = 0.2, random_state = 0)"
                                 ]
                  },
                  {
                      "cell_type":  "markdown",
                      "metadata":  {

                                   },
                      "source":  [
                                     "## Train\n",
                                     "\n",
                                     "Instantiate an `AutoMLConfig` object to specify the settings and data used to run the experiment.\n",
                                     "\n",
                                     "|Property|Description|\n",
                                     "|-|-|\n",
                                     "|**task**|classification or regression|\n",
                                     "|**primary_metric**|This is the metric that you want to optimize. Regression supports the following primary metrics: \u003cbr\u003e\u003ci\u003espearman_correlation\u003c/i\u003e\u003cbr\u003e\u003ci\u003enormalized_root_mean_squared_error\u003c/i\u003e\u003cbr\u003e\u003ci\u003er2_score\u003c/i\u003e\u003cbr\u003e\u003ci\u003enormalized_mean_absolute_error\u003c/i\u003e|\n",
                                     "|**iteration_timeout_minutes**|Time limit in minutes for each iteration.|\n",
                                     "|**iterations**|Number of iterations. In each iteration AutoML trains a specific pipeline with the data.|\n",
                                     "|**n_cross_validations**|Number of cross validation splits.|\n",
                                     "|**X**|(sparse) array-like, shape = [n_samples, n_features]|\n",
                                     "|**y**|(sparse) array-like, shape = [n_samples, ], targets values.|"
                                 ]
                  },
                  {
                      "cell_type":  "code",
                      "execution_count":  null,
                      "metadata":  {

                                   },
                      "outputs":  [

                                  ],
                      "source":  [
                                     "automl_config = AutoMLConfig(task = \u0027regression\u0027,\n",
                                     "                             iteration_timeout_minutes = 10,\n",
                                     "                             iterations = 10,\n",
                                     "                             primary_metric = \u0027spearman_correlation\u0027,\n",
                                     "                             n_cross_validations = 5,\n",
                                     "                             debug_log = \u0027automl.log\u0027,\n",
                                     "                             verbosity = logging.INFO,\n",
                                     "                             X = X_train, \n",
                                     "                             y = y_train)"
                                 ]
                  },
                  {
                      "cell_type":  "markdown",
                      "metadata":  {

                                   },
                      "source":  [
                                     "Call the `submit` method on the experiment object and pass the run configuration. Execution of local runs is synchronous. Depending on the data and the number of iterations this can run for a while.\n",
                                     "In this example, we specify `show_output = True` to print currently running iterations to the console."
                                 ]
                  },
                  {
                      "cell_type":  "code",
                      "execution_count":  null,
                      "metadata":  {

                                   },
                      "outputs":  [

                                  ],
                      "source":  [
                                     "local_run = experiment.submit(automl_config, show_output = True)"
                                 ]
                  },
                  {
                      "cell_type":  "code",
                      "execution_count":  null,
                      "metadata":  {

                                   },
                      "outputs":  [

                                  ],
                      "source":  [
                                     "local_run"
                                 ]
                  },
                  {
                      "cell_type":  "markdown",
                      "metadata":  {

                                   },
                      "source":  [
                                     "## Results"
                                 ]
                  },
                  {
                      "cell_type":  "markdown",
                      "metadata":  {

                                   },
                      "source":  [
                                     "#### Widget for Monitoring Runs\n",
                                     "\n",
                                     "The widget will first report a \"loading\" status while running the first iteration. After completing the first iteration, an auto-updating graph and table will be shown. The widget will refresh once per minute, so you should see the graph update as child runs complete.\n",
                                     "\n",
                                     "**Note:** The widget displays a link at the bottom. Use this link to open a web interface to explore the individual run details."
                                 ]
                  },
                  {
                      "cell_type":  "code",
                      "execution_count":  null,
                      "metadata":  {

                                   },
                      "outputs":  [

                                  ],
                      "source":  [
                                     "from azureml.widgets import RunDetails\n",
                                     "RunDetails(local_run).show() "
                                 ]
                  },
                  {
                      "cell_type":  "markdown",
                      "metadata":  {

                                   },
                      "source":  [
                                     "\n",
                                     "#### Retrieve All Child Runs\n",
                                     "You can also use SDK methods to fetch all the child runs and see individual metrics that we log."
                                 ]
                  },
                  {
                      "cell_type":  "code",
                      "execution_count":  null,
                      "metadata":  {

                                   },
                      "outputs":  [

                                  ],
                      "source":  [
                                     "children = list(local_run.get_children())\n",
                                     "metricslist = {}\n",
                                     "for run in children:\n",
                                     "    properties = run.get_properties()\n",
                                     "    metrics = {k: v for k, v in run.get_metrics().items() if isinstance(v, float)}\n",
                                     "    metricslist[int(properties[\u0027iteration\u0027])] = metrics\n",
                                     "\n",
                                     "rundata = pd.DataFrame(metricslist).sort_index(1)\n",
                                     "rundata"
                                 ]
                  },
                  {
                      "cell_type":  "markdown",
                      "metadata":  {

                                   },
                      "source":  [
                                     "### Retrieve the Best Model\n",
                                     "\n",
                                     "Below we select the best pipeline from our iterations. The `get_output` method returns the best run and the fitted model. The Model includes the pipeline and any pre-processing.  Overloads on `get_output` allow you to retrieve the best run and fitted model for *any* logged metric or for a particular *iteration*."
                                 ]
                  },
                  {
                      "cell_type":  "code",
                      "execution_count":  null,
                      "metadata":  {

                                   },
                      "outputs":  [

                                  ],
                      "source":  [
                                     "best_run, fitted_model = local_run.get_output()\n",
                                     "print(best_run)\n",
                                     "print(fitted_model)"
                                 ]
                  },
                  {
                      "cell_type":  "markdown",
                      "metadata":  {

                                   },
                      "source":  [
                                     "#### Best Model Based on Any Other Metric\n",
                                     "Show the run and the model that has the smallest `root_mean_squared_error` value (which turned out to be the same as the one with largest `spearman_correlation` value):"
                                 ]
                  },
                  {
                      "cell_type":  "code",
                      "execution_count":  null,
                      "metadata":  {

                                   },
                      "outputs":  [

                                  ],
                      "source":  [
                                     "lookup_metric = \"root_mean_squared_error\"\n",
                                     "best_run, fitted_model = local_run.get_output(metric = lookup_metric)\n",
                                     "print(best_run)\n",
                                     "print(fitted_model)"
                                 ]
                  },
                  {
                      "cell_type":  "markdown",
                      "metadata":  {

                                   },
                      "source":  [
                                     "#### Model from a Specific Iteration\n",
                                     "Show the run and the model from the third iteration:"
                                 ]
                  },
                  {
                      "cell_type":  "code",
                      "execution_count":  null,
                      "metadata":  {

                                   },
                      "outputs":  [

                                  ],
                      "source":  [
                                     "iteration = 3\n",
                                     "third_run, third_model = local_run.get_output(iteration = iteration)\n",
                                     "print(third_run)\n",
                                     "print(third_model)"
                                 ]
                  },
                  {
                      "cell_type":  "markdown",
                      "metadata":  {

                                   },
                      "source":  [
                                     "## Test"
                                 ]
                  },
                  {
                      "cell_type":  "markdown",
                      "metadata":  {

                                   },
                      "source":  [
                                     "Predict on training and test set, and calculate residual values."
                                 ]
                  },
                  {
                      "cell_type":  "code",
                      "execution_count":  null,
                      "metadata":  {

                                   },
                      "outputs":  [

                                  ],
                      "source":  [
                                     "y_pred_train = fitted_model.predict(X_train)\n",
                                     "y_residual_train = y_train - y_pred_train\n",
                                     "\n",
                                     "y_pred_test = fitted_model.predict(X_test)\n",
                                     "y_residual_test = y_test - y_pred_test"
                                 ]
                  },
                  {
                      "cell_type":  "code",
                      "execution_count":  null,
                      "metadata":  {

                                   },
                      "outputs":  [

                                  ],
                      "source":  [
                                     "%matplotlib inline\n",
                                     "from sklearn.metrics import mean_squared_error, r2_score\n",
                                     "\n",
                                     "# Set up a multi-plot chart.\n",
                                     "f, (a0, a1) = plt.subplots(1, 2, gridspec_kw = {\u0027width_ratios\u0027:[1, 1], \u0027wspace\u0027:0, \u0027hspace\u0027: 0})\n",
                                     "f.suptitle(\u0027Regression Residual Values\u0027, fontsize = 18)\n",
                                     "f.set_figheight(6)\n",
                                     "f.set_figwidth(16)\n",
                                     "\n",
                                     "# Plot residual values of training set.\n",
                                     "a0.axis([0, 360, -200, 200])\n",
                                     "a0.plot(y_residual_train, \u0027bo\u0027, alpha = 0.5)\n",
                                     "a0.plot([-10,360],[0,0], \u0027r-\u0027, lw = 3)\n",
                                     "a0.text(16,170,\u0027RMSE = {0:.2f}\u0027.format(np.sqrt(mean_squared_error(y_train, y_pred_train))), fontsize = 12)\n",
                                     "a0.text(16,140,\u0027R2 score = {0:.2f}\u0027.format(r2_score(y_train, y_pred_train)), fontsize = 12)\n",
                                     "a0.set_xlabel(\u0027Training samples\u0027, fontsize = 12)\n",
                                     "a0.set_ylabel(\u0027Residual Values\u0027, fontsize = 12)\n",
                                     "\n",
                                     "# Plot a histogram.\n",
                                     "a0.hist(y_residual_train, orientation = \u0027horizontal\u0027, color = \u0027b\u0027, bins = 10, histtype = \u0027step\u0027)\n",
                                     "a0.hist(y_residual_train, orientation = \u0027horizontal\u0027, color = \u0027b\u0027, alpha = 0.2, bins = 10)\n",
                                     "\n",
                                     "# Plot residual values of test set.\n",
                                     "a1.axis([0, 90, -200, 200])\n",
                                     "a1.plot(y_residual_test, \u0027bo\u0027, alpha = 0.5)\n",
                                     "a1.plot([-10,360],[0,0], \u0027r-\u0027, lw = 3)\n",
                                     "a1.text(5,170,\u0027RMSE = {0:.2f}\u0027.format(np.sqrt(mean_squared_error(y_test, y_pred_test))), fontsize = 12)\n",
                                     "a1.text(5,140,\u0027R2 score = {0:.2f}\u0027.format(r2_score(y_test, y_pred_test)), fontsize = 12)\n",
                                     "a1.set_xlabel(\u0027Test samples\u0027, fontsize = 12)\n",
                                     "a1.set_yticklabels([])\n",
                                     "\n",
                                     "# Plot a histogram.\n",
                                     "a1.hist(y_residual_test, orientation = \u0027horizontal\u0027, color = \u0027b\u0027, bins = 10, histtype = \u0027step\u0027)\n",
                                     "a1.hist(y_residual_test, orientation = \u0027horizontal\u0027, color = \u0027b\u0027, alpha = 0.2, bins = 10)\n",
                                     "\n",
                                     "plt.show()"
                                 ]
                  }
              ],
    "metadata":  {
                     "authors":  [
                                     {
                                         "name":  "savitam"
                                     }
                                 ],
                     "kernelspec":  {
                                        "display_name":  "Python 3.6 - AzureML",
                                        "language":  "python",
                                        "name":  "python3-azureml"
                                    },
                     "language_info":  {
                                           "codemirror_mode":  {
                                                                   "name":  "ipython",
                                                                   "version":  3
                                                               },
                                           "file_extension":  ".py",
                                           "mimetype":  "text/x-python",
                                           "name":  "python",
                                           "nbconvert_exporter":  "python",
                                           "pygments_lexer":  "ipython3",
                                           "version":  "3.6.6"
                                       },
                     "categories":  [
                                        "how-to-use-azureml",
                                        "automated-machine-learning"
                                    ]
                 },
    "nbformat":  4,
    "nbformat_minor":  2
}