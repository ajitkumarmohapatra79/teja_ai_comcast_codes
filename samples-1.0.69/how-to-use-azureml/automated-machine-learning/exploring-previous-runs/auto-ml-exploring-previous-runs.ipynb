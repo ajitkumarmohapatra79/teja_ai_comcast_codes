{
    "cells":  [
                  {
                      "cell_type":  "markdown",
                      "metadata":  {

                                   },
                      "source":  [
                                     "Copyright (c) Microsoft Corporation. All rights reserved.\n",
                                     "\n",
                                     "Licensed under the MIT License."
                                 ]
                  },
                  {
                      "cell_type":  "markdown",
                      "metadata":  {

                                   },
                      "source":  [
                                     "![Impressions](https://PixelServer20190423114238.azurewebsites.net/api/impressions/NotebookVM/how-to-use-azureml/automated-machine-learning/exploring-previous-runs/auto-ml-exploring-previous-runs.png)"
                                 ]
                  },
                  {
                      "cell_type":  "markdown",
                      "metadata":  {

                                   },
                      "source":  [
                                     "# Automated Machine Learning\n",
                                     "_**Exploring Previous Runs**_\n",
                                     "\n",
                                     "## Contents\n",
                                     "1. [Introduction](#Introduction)\n",
                                     "1. [Setup](#Setup)\n",
                                     "1. [Explore](#Explore)\n",
                                     "1. [Download](#Download)\n",
                                     "1. [Register](#Register)"
                                 ]
                  },
                  {
                      "cell_type":  "markdown",
                      "metadata":  {

                                   },
                      "source":  [
                                     "## Introduction\n",
                                     "In this example we present some examples on navigating previously executed runs. We also show how you can download a fitted model for any previous run.\n",
                                     "\n",
                                     "Make sure you have executed the [configuration](../../../configuration.ipynb) before running this notebook.\n",
                                     "\n",
                                     "In this notebook you will learn how to:\n",
                                     "1. List all experiments in a workspace.\n",
                                     "2. List all AutoML runs in an experiment.\n",
                                     "3. Get details for an AutoML run, including settings, run widget, and all metrics.\n",
                                     "4. Download a fitted pipeline for any iteration."
                                 ]
                  },
                  {
                      "cell_type":  "markdown",
                      "metadata":  {

                                   },
                      "source":  [
                                     "## Setup"
                                 ]
                  },
                  {
                      "cell_type":  "code",
                      "execution_count":  null,
                      "metadata":  {

                                   },
                      "outputs":  [

                                  ],
                      "source":  [
                                     "import pandas as pd\n",
                                     "import json\n",
                                     "\n",
                                     "from azureml.core.experiment import Experiment\n",
                                     "from azureml.core.workspace import Workspace\n",
                                     "from azureml.train.automl.run import AutoMLRun"
                                 ]
                  },
                  {
                      "cell_type":  "code",
                      "execution_count":  null,
                      "metadata":  {

                                   },
                      "outputs":  [

                                  ],
                      "source":  [
                                     "ws = Workspace.from_config()"
                                 ]
                  },
                  {
                      "cell_type":  "markdown",
                      "metadata":  {

                                   },
                      "source":  [
                                     "## Explore"
                                 ]
                  },
                  {
                      "cell_type":  "markdown",
                      "metadata":  {

                                   },
                      "source":  [
                                     "### List Experiments"
                                 ]
                  },
                  {
                      "cell_type":  "code",
                      "execution_count":  null,
                      "metadata":  {

                                   },
                      "outputs":  [

                                  ],
                      "source":  [
                                     "experiment_list = Experiment.list(workspace=ws)\n",
                                     "\n",
                                     "summary_df = pd.DataFrame(index = [\u0027No of Runs\u0027])\n",
                                     "for experiment in experiment_list:\n",
                                     "    automl_runs = list(experiment.get_runs(type=\u0027automl\u0027))\n",
                                     "    summary_df[experiment.name] = [len(automl_runs)]\n",
                                     "    \n",
                                     "pd.set_option(\u0027display.max_colwidth\u0027, -1)\n",
                                     "summary_df.T"
                                 ]
                  },
                  {
                      "cell_type":  "markdown",
                      "metadata":  {

                                   },
                      "source":  [
                                     "### List runs for an experiment\n",
                                     "Set `experiment_name` to any experiment name from the result of the Experiment.list cell to load the AutoML runs."
                                 ]
                  },
                  {
                      "cell_type":  "code",
                      "execution_count":  null,
                      "metadata":  {

                                   },
                      "outputs":  [

                                  ],
                      "source":  [
                                     "experiment_name = \u0027automl-local-classification\u0027 # Replace this with any project name from previous cell.\n",
                                     "\n",
                                     "proj = ws.experiments[experiment_name]\n",
                                     "summary_df = pd.DataFrame(index = [\u0027Type\u0027, \u0027Status\u0027, \u0027Primary Metric\u0027, \u0027Iterations\u0027, \u0027Compute\u0027, \u0027Name\u0027])\n",
                                     "automl_runs = list(proj.get_runs(type=\u0027automl\u0027))\n",
                                     "automl_runs_project = []\n",
                                     "for run in automl_runs:\n",
                                     "    properties = run.get_properties()\n",
                                     "    tags = run.get_tags()\n",
                                     "    amlsettings = json.loads(properties[\u0027AMLSettingsJsonString\u0027])\n",
                                     "    if \u0027iterations\u0027 in tags:\n",
                                     "        iterations = tags[\u0027iterations\u0027]\n",
                                     "    else:\n",
                                     "        iterations = properties[\u0027num_iterations\u0027]\n",
                                     "    summary_df[run.id] = [amlsettings[\u0027task_type\u0027], run.get_details()[\u0027status\u0027], properties[\u0027primary_metric\u0027], iterations, properties[\u0027target\u0027], amlsettings[\u0027name\u0027]]\n",
                                     "    if run.get_details()[\u0027status\u0027] == \u0027Completed\u0027:\n",
                                     "        automl_runs_project.append(run.id)\n",
                                     "    \n",
                                     "from IPython.display import HTML\n",
                                     "projname_html = HTML(\"\u003ch3\u003e{}\u003c/h3\u003e\".format(proj.name))\n",
                                     "\n",
                                     "from IPython.display import display\n",
                                     "display(projname_html)\n",
                                     "display(summary_df.T)"
                                 ]
                  },
                  {
                      "cell_type":  "markdown",
                      "metadata":  {

                                   },
                      "source":  [
                                     "### Get details for a run\n",
                                     "\n",
                                     "Copy the project name and run id from the previous cell output to find more details on a particular run."
                                 ]
                  },
                  {
                      "cell_type":  "code",
                      "execution_count":  null,
                      "metadata":  {

                                   },
                      "outputs":  [

                                  ],
                      "source":  [
                                     "run_id = automl_runs_project[0]  # Replace with your own run_id from above run ids\n",
                                     "assert (run_id in summary_df.keys()), \"Run id not found! Please set run id to a value from above run ids\"\n",
                                     "\n",
                                     "from azureml.widgets import RunDetails\n",
                                     "\n",
                                     "experiment = Experiment(ws, experiment_name)\n",
                                     "ml_run = AutoMLRun(experiment = experiment, run_id = run_id)\n",
                                     "\n",
                                     "summary_df = pd.DataFrame(index = [\u0027Type\u0027, \u0027Status\u0027, \u0027Primary Metric\u0027, \u0027Iterations\u0027, \u0027Compute\u0027, \u0027Name\u0027, \u0027Start Time\u0027, \u0027End Time\u0027])\n",
                                     "properties = ml_run.get_properties()\n",
                                     "tags = ml_run.get_tags()\n",
                                     "status = ml_run.get_details()\n",
                                     "amlsettings = json.loads(properties[\u0027AMLSettingsJsonString\u0027])\n",
                                     "if \u0027iterations\u0027 in tags:\n",
                                     "    iterations = tags[\u0027iterations\u0027]\n",
                                     "else:\n",
                                     "    iterations = properties[\u0027num_iterations\u0027]\n",
                                     "start_time = None\n",
                                     "if \u0027startTimeUtc\u0027 in status:\n",
                                     "    start_time = status[\u0027startTimeUtc\u0027]\n",
                                     "end_time = None\n",
                                     "if \u0027endTimeUtc\u0027 in status:\n",
                                     "    end_time = status[\u0027endTimeUtc\u0027]\n",
                                     "summary_df[ml_run.id] = [amlsettings[\u0027task_type\u0027], status[\u0027status\u0027], properties[\u0027primary_metric\u0027], iterations, properties[\u0027target\u0027], amlsettings[\u0027name\u0027], start_time, end_time]\n",
                                     "display(HTML(\u0027\u003ch3\u003eRuntime Details\u003c/h3\u003e\u0027))\n",
                                     "display(summary_df)\n",
                                     "\n",
                                     "#settings_df = pd.DataFrame(data = amlsettings, index = [\u0027\u0027])\n",
                                     "display(HTML(\u0027\u003ch3\u003eAutoML Settings\u003c/h3\u003e\u0027))\n",
                                     "display(amlsettings)\n",
                                     "\n",
                                     "display(HTML(\u0027\u003ch3\u003eIterations\u003c/h3\u003e\u0027))\n",
                                     "RunDetails(ml_run).show() \n",
                                     "\n",
                                     "all_metrics = ml_run.get_metrics(recursive=True)\n",
                                     "metricslist = {}\n",
                                     "for run_id, metrics in all_metrics.items():\n",
                                     "    iteration = int(run_id.split(\u0027_\u0027)[-1])\n",
                                     "    float_metrics = {k: v for k, v in metrics.items() if isinstance(v, float)}\n",
                                     "    metricslist[iteration] = float_metrics\n",
                                     "\n",
                                     "rundata = pd.DataFrame(metricslist).sort_index(1)\n",
                                     "display(HTML(\u0027\u003ch3\u003eMetrics\u003c/h3\u003e\u0027))\n",
                                     "display(rundata)\n"
                                 ]
                  },
                  {
                      "cell_type":  "markdown",
                      "metadata":  {

                                   },
                      "source":  [
                                     "## Download"
                                 ]
                  },
                  {
                      "cell_type":  "markdown",
                      "metadata":  {

                                   },
                      "source":  [
                                     "### Download the Best Model for Any Given Metric"
                                 ]
                  },
                  {
                      "cell_type":  "code",
                      "execution_count":  null,
                      "metadata":  {

                                   },
                      "outputs":  [

                                  ],
                      "source":  [
                                     "metric = \u0027AUC_weighted\u0027 # Replace with a metric name.\n",
                                     "best_run, fitted_model = ml_run.get_output(metric = metric)\n",
                                     "fitted_model"
                                 ]
                  },
                  {
                      "cell_type":  "markdown",
                      "metadata":  {

                                   },
                      "source":  [
                                     "### Download the Model for Any Given Iteration"
                                 ]
                  },
                  {
                      "cell_type":  "code",
                      "execution_count":  null,
                      "metadata":  {

                                   },
                      "outputs":  [

                                  ],
                      "source":  [
                                     "iteration = 1 # Replace with an iteration number.\n",
                                     "best_run, fitted_model = ml_run.get_output(iteration = iteration)\n",
                                     "fitted_model"
                                 ]
                  },
                  {
                      "cell_type":  "markdown",
                      "metadata":  {

                                   },
                      "source":  [
                                     "## Register"
                                 ]
                  },
                  {
                      "cell_type":  "markdown",
                      "metadata":  {

                                   },
                      "source":  [
                                     "### Register fitted model for deployment\n",
                                     "If neither `metric` nor `iteration` are specified in the `register_model` call, the iteration with the best primary metric is registered."
                                 ]
                  },
                  {
                      "cell_type":  "code",
                      "execution_count":  null,
                      "metadata":  {

                                   },
                      "outputs":  [

                                  ],
                      "source":  [
                                     "description = \u0027AutoML Model\u0027\n",
                                     "tags = None\n",
                                     "ml_run.register_model(description = description, tags = tags)\n",
                                     "print(ml_run.model_id) # Use this id to deploy the model as a web service in Azure."
                                 ]
                  },
                  {
                      "cell_type":  "markdown",
                      "metadata":  {

                                   },
                      "source":  [
                                     "### Register the Best Model for Any Given Metric"
                                 ]
                  },
                  {
                      "cell_type":  "code",
                      "execution_count":  null,
                      "metadata":  {

                                   },
                      "outputs":  [

                                  ],
                      "source":  [
                                     "metric = \u0027AUC_weighted\u0027 # Replace with a metric name.\n",
                                     "description = \u0027AutoML Model\u0027\n",
                                     "tags = None\n",
                                     "ml_run.register_model(description = description, tags = tags, metric = metric)\n",
                                     "print(ml_run.model_id) # Use this id to deploy the model as a web service in Azure."
                                 ]
                  },
                  {
                      "cell_type":  "markdown",
                      "metadata":  {

                                   },
                      "source":  [
                                     "### Register the Model for Any Given Iteration"
                                 ]
                  },
                  {
                      "cell_type":  "code",
                      "execution_count":  null,
                      "metadata":  {

                                   },
                      "outputs":  [

                                  ],
                      "source":  [
                                     "iteration = 1 # Replace with an iteration number.\n",
                                     "description = \u0027AutoML Model\u0027\n",
                                     "tags = None\n",
                                     "ml_run.register_model(description = description, tags = tags, iteration = iteration)\n",
                                     "print(ml_run.model_id) # Use this id to deploy the model as a web service in Azure."
                                 ]
                  }
              ],
    "metadata":  {
                     "authors":  [
                                     {
                                         "name":  "savitam"
                                     }
                                 ],
                     "kernelspec":  {
                                        "display_name":  "Python 3.6 - AzureML",
                                        "language":  "python",
                                        "name":  "python3-azureml"
                                    },
                     "language_info":  {
                                           "codemirror_mode":  {
                                                                   "name":  "ipython",
                                                                   "version":  3
                                                               },
                                           "file_extension":  ".py",
                                           "mimetype":  "text/x-python",
                                           "name":  "python",
                                           "nbconvert_exporter":  "python",
                                           "pygments_lexer":  "ipython3",
                                           "version":  "3.6.6"
                                       },
                     "categories":  [
                                        "how-to-use-azureml",
                                        "automated-machine-learning"
                                    ]
                 },
    "nbformat":  4,
    "nbformat_minor":  2
}