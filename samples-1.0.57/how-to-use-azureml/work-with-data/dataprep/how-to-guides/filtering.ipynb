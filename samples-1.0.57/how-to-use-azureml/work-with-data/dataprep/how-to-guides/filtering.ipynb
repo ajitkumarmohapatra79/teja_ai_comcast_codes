{
    "cells":  [
                  {
                      "cell_type":  "markdown",
                      "metadata":  {

                                   },
                      "source":  [
                                     "![Impressions](https://PixelServer20190423114238.azurewebsites.net/api/impressions/MachineLearningNotebooks/work-with-data/dataprep/how-to-guides/filtering.png)"
                                 ]
                  },
                  {
                      "cell_type":  "markdown",
                      "metadata":  {

                                   },
                      "source":  [
                                     "# Filtering\n"
                                 ]
                  },
                  {
                      "cell_type":  "markdown",
                      "metadata":  {

                                   },
                      "source":  [
                                     "Azure ML Data Prep has the ability to filter out columns or rows using `Dataflow.drop_columns` or `Dataflow.filter`."
                                 ]
                  },
                  {
                      "cell_type":  "code",
                      "execution_count":  null,
                      "metadata":  {

                                   },
                      "outputs":  [

                                  ],
                      "source":  [
                                     "# initial set up\n",
                                     "import azureml.dataprep as dprep\n",
                                     "from datetime import datetime\n",
                                     "dflow = dprep.read_csv(path=\u0027../data/crime-spring.csv\u0027)\n",
                                     "dflow.head(5)"
                                 ]
                  },
                  {
                      "cell_type":  "markdown",
                      "metadata":  {

                                   },
                      "source":  [
                                     "## Filtering columns"
                                 ]
                  },
                  {
                      "cell_type":  "markdown",
                      "metadata":  {

                                   },
                      "source":  [
                                     "To filter columns, use `Dataflow.drop_columns`. This method takes a list of columns to drop or a more complex argument called `ColumnSelector`."
                                 ]
                  },
                  {
                      "cell_type":  "markdown",
                      "metadata":  {

                                   },
                      "source":  [
                                     "### Filtering columns with list of strings"
                                 ]
                  },
                  {
                      "cell_type":  "markdown",
                      "metadata":  {

                                   },
                      "source":  [
                                     "In this example, `drop_columns` takes a list of strings. Each string should exactly match the desired column to drop."
                                 ]
                  },
                  {
                      "cell_type":  "code",
                      "execution_count":  null,
                      "metadata":  {

                                   },
                      "outputs":  [

                                  ],
                      "source":  [
                                     "dflow = dflow.drop_columns([\u0027ID\u0027, \u0027Location Description\u0027, \u0027Ward\u0027, \u0027Community Area\u0027, \u0027FBI Code\u0027])\n",
                                     "dflow.head(5)"
                                 ]
                  },
                  {
                      "cell_type":  "markdown",
                      "metadata":  {

                                   },
                      "source":  [
                                     "### Filtering columns with regex"
                                 ]
                  },
                  {
                      "cell_type":  "markdown",
                      "metadata":  {

                                   },
                      "source":  [
                                     "Alternatively, a `ColumnSelector` can be used to drop columns that match a regex expression. In this example, we drop all the columns that match the expression `Column*|.*longitud|.*latitude`."
                                 ]
                  },
                  {
                      "cell_type":  "code",
                      "execution_count":  null,
                      "metadata":  {

                                   },
                      "outputs":  [

                                  ],
                      "source":  [
                                     "dflow = dflow.drop_columns(dprep.ColumnSelector(\u0027Column*|.*longitud|.*latitude\u0027, True, True))\n",
                                     "dflow.head(5)"
                                 ]
                  },
                  {
                      "cell_type":  "markdown",
                      "metadata":  {

                                   },
                      "source":  [
                                     "## Filtering rows"
                                 ]
                  },
                  {
                      "cell_type":  "markdown",
                      "metadata":  {

                                   },
                      "source":  [
                                     "To filter rows, use `DataFlow.filter`. This method takes an `Expression` as an argument, and returns a new dataflow with the rows in which the expression evaluates to `True`. Expressions are built by indexing the `Dataflow` with a column name (`dataflow[\u0027myColumn\u0027]`) and regular operators (`\u003e`, `\u003c`, `\u003e=`, `\u003c=`, `==`, `!=`)."
                                 ]
                  },
                  {
                      "cell_type":  "markdown",
                      "metadata":  {

                                   },
                      "source":  [
                                     "### Filtering rows with simple expressions"
                                 ]
                  },
                  {
                      "cell_type":  "markdown",
                      "metadata":  {

                                   },
                      "source":  [
                                     "Index into the Dataflow specifying the column name as a string argument `dataflow[\u0027column_name\u0027]` and in combination with one of the following standard operators `\u003e, \u003c, \u003e=, \u003c=, ==, !=`, build an expression such as `dataflow[\u0027District\u0027] \u003e 9`.  Finally, pass the built expression into the `Dataflow.filter` function.\n",
                                     "\n",
                                     "In this example, `dataflow.filter(dataflow[\u0027District\u0027] \u003e 9)` returns a new dataflow with the rows in which the value of \"District\" is greater than \u002710\u0027 \n",
                                     "\n",
                                     "*Note that \"District\" is first converted to numeric, which allows us to build an expression comparing it against other numeric values.*"
                                 ]
                  },
                  {
                      "cell_type":  "code",
                      "execution_count":  null,
                      "metadata":  {

                                   },
                      "outputs":  [

                                  ],
                      "source":  [
                                     "dflow = dflow.to_number([\u0027District\u0027])\n",
                                     "dflow = dflow.filter(dflow[\u0027District\u0027] \u003e 9)\n",
                                     "dflow.head(5)"
                                 ]
                  },
                  {
                      "cell_type":  "markdown",
                      "metadata":  {

                                   },
                      "source":  [
                                     "### Filtering rows with complex expressions"
                                 ]
                  },
                  {
                      "cell_type":  "markdown",
                      "metadata":  {

                                   },
                      "source":  [
                                     "To filter using complex expressions, combine one or more simple expressions with the operators `\u0026`, `|`, and `~`. Please note that the precedence of these operators is lower than that of the comparison operators; therefore, you\u0027ll need to use parentheses to group clauses together. \n",
                                     "\n",
                                     "In this example, `Dataflow.filter` returns a new dataflow with the rows in which \"Primary Type\" equals \u0027DECEPTIVE PRACTICE\u0027 and \"District\" is greater than or equal to \u002710\u0027."
                                 ]
                  },
                  {
                      "cell_type":  "code",
                      "execution_count":  null,
                      "metadata":  {

                                   },
                      "outputs":  [

                                  ],
                      "source":  [
                                     "dflow = dflow.to_number([\u0027District\u0027])\n",
                                     "dflow = dflow.filter((dflow[\u0027Primary Type\u0027] == \u0027DECEPTIVE PRACTICE\u0027) \u0026 (dflow[\u0027District\u0027] \u003e= 10))\n",
                                     "dflow.head(5)"
                                 ]
                  },
                  {
                      "cell_type":  "markdown",
                      "metadata":  {

                                   },
                      "source":  [
                                     "It is also possible to filter rows combining more than one expression builder to create a nested expression.\n",
                                     "\n",
                                     "*Note that `\u0027Date\u0027` and `\u0027Updated On\u0027` are first converted to datetime, which allows us to build an expression comparing it against other datetime values.*"
                                 ]
                  },
                  {
                      "cell_type":  "code",
                      "execution_count":  null,
                      "metadata":  {

                                   },
                      "outputs":  [

                                  ],
                      "source":  [
                                     "dflow = dflow.to_datetime([\u0027Date\u0027, \u0027Updated On\u0027], [\u0027%Y-%m-%d %H:%M:%S\u0027])\n",
                                     "dflow = dflow.to_number([\u0027District\u0027, \u0027Y Coordinate\u0027])\n",
                                     "comparison_date = datetime(2016,4,13)\n",
                                     "dflow = dflow.filter(\n",
                                     "    ((dflow[\u0027Date\u0027] \u003e comparison_date) | (dflow[\u0027Updated On\u0027] \u003e comparison_date))\n",
                                     "    | ((dflow[\u0027Y Coordinate\u0027] \u003e 1900000) \u0026 (dflow[\u0027District\u0027] \u003e 10.0)))\n",
                                     "dflow.head(5)"
                                 ]
                  }
              ],
    "metadata":  {
                     "authors":  [
                                     {
                                         "name":  "sihhu"
                                     }
                                 ],
                     "kernelspec":  {
                                        "display_name":  "Python 3.6 - AzureML",
                                        "language":  "python",
                                        "name":  "python3-azureml"
                                    },
                     "language_info":  {
                                           "codemirror_mode":  {
                                                                   "name":  "ipython",
                                                                   "version":  3
                                                               },
                                           "file_extension":  ".py",
                                           "mimetype":  "text/x-python",
                                           "name":  "python",
                                           "nbconvert_exporter":  "python",
                                           "pygments_lexer":  "ipython3",
                                           "version":  "3.6.4"
                                       },
                     "categories":  [
                                        "how-to-use-azureml",
                                        "work-with-data",
                                        "dataprep",
                                        "how-to-guides"
                                    ]
                 },
    "nbformat":  4,
    "nbformat_minor":  2
}