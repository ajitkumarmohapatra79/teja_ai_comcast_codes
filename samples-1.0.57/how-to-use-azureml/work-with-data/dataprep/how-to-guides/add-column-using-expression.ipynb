{
    "cells":  [
                  {
                      "cell_type":  "markdown",
                      "metadata":  {

                                   },
                      "source":  [
                                     "![Impressions](https://PixelServer20190423114238.azurewebsites.net/api/impressions/MachineLearningNotebooks/work-with-data/dataprep/how-to-guides/add-column-using-expression.png)"
                                 ]
                  },
                  {
                      "cell_type":  "markdown",
                      "metadata":  {

                                   },
                      "source":  [
                                     "# Add Column using Expression\n"
                                 ]
                  },
                  {
                      "cell_type":  "markdown",
                      "metadata":  {

                                   },
                      "source":  [
                                     "With Azure ML Data Prep you can add a new column to data with `Dataflow.add_column` by using a Data Prep expression to calculate the value from existing columns. This is similar to using Python to create a [new script column](./custom-python-transforms.ipynb#New-Script-Column) except the Data Prep expressions are more limited and will execute faster. The expressions used are the same as for [filtering rows](./filtering.ipynb#Filtering-rows) and hence have the same functions and operators available.\n",
                                     "\u003cp\u003e\n",
                                     "Here we add additional columns. First we get input data."
                                 ]
                  },
                  {
                      "cell_type":  "code",
                      "execution_count":  null,
                      "metadata":  {

                                   },
                      "outputs":  [

                                  ],
                      "source":  [
                                     "import azureml.dataprep as dprep"
                                 ]
                  },
                  {
                      "cell_type":  "code",
                      "execution_count":  null,
                      "metadata":  {

                                   },
                      "outputs":  [

                                  ],
                      "source":  [
                                     "# loading data\n",
                                     "dflow = dprep.auto_read_file(\u0027../data/crime-spring.csv\u0027)\n",
                                     "dflow.head(5)"
                                 ]
                  },
                  {
                      "cell_type":  "markdown",
                      "metadata":  {

                                   },
                      "source":  [
                                     "#### `substring(start, length)`\n",
                                     "Add a new column \"Case Category\" using the `substring(start, length)` expression to extract the prefix from the \"Case Number\" column."
                                 ]
                  },
                  {
                      "cell_type":  "code",
                      "execution_count":  null,
                      "metadata":  {

                                   },
                      "outputs":  [

                                  ],
                      "source":  [
                                     "case_category = dflow.add_column(new_column_name=\u0027Case Category\u0027,\n",
                                     "                                 prior_column=\u0027Case Number\u0027,\n",
                                     "                                 expression=dflow[\u0027Case Number\u0027].substring(0, 2))\n",
                                     "case_category.head(5)"
                                 ]
                  },
                  {
                      "cell_type":  "markdown",
                      "metadata":  {

                                   },
                      "source":  [
                                     "#### `substring(start)`\n",
                                     "Add a new column \"Case Id\" using the `substring(start)` expression to extract just the number from \"Case Number\" column and then convert it to numeric."
                                 ]
                  },
                  {
                      "cell_type":  "code",
                      "execution_count":  null,
                      "metadata":  {

                                   },
                      "outputs":  [

                                  ],
                      "source":  [
                                     "case_id = dflow.add_column(new_column_name=\u0027Case Id\u0027,\n",
                                     "                           prior_column=\u0027Case Number\u0027,\n",
                                     "                           expression=dflow[\u0027Case Number\u0027].substring(2))\n",
                                     "case_id = case_id.to_number(\u0027Case Id\u0027)\n",
                                     "case_id.head(5)"
                                 ]
                  },
                  {
                      "cell_type":  "markdown",
                      "metadata":  {

                                   },
                      "source":  [
                                     "#### `length()`\n",
                                     "Using the length() expression, add a new numeric column \"Length\", which contains the length of the string in \"Primary Type\"."
                                 ]
                  },
                  {
                      "cell_type":  "code",
                      "execution_count":  null,
                      "metadata":  {

                                   },
                      "outputs":  [

                                  ],
                      "source":  [
                                     "dflow_length = dflow.add_column(new_column_name=\u0027Length\u0027,\n",
                                     "                                prior_column=\u0027Primary Type\u0027,\n",
                                     "                                expression=dflow[\u0027Primary Type\u0027].length())\n",
                                     "dflow_length.head(5)"
                                 ]
                  },
                  {
                      "cell_type":  "markdown",
                      "metadata":  {

                                   },
                      "source":  [
                                     "#### `to_upper()`\n",
                                     "Using the to_upper() expression, add a new numeric column \"Upper Case\", which contains the length of the string in \"Primary Type\"."
                                 ]
                  },
                  {
                      "cell_type":  "code",
                      "execution_count":  null,
                      "metadata":  {

                                   },
                      "outputs":  [

                                  ],
                      "source":  [
                                     "dflow_to_upper = dflow.add_column(new_column_name=\u0027Upper Case\u0027,\n",
                                     "                                prior_column=\u0027Primary Type\u0027,\n",
                                     "                                expression=dflow[\u0027Primary Type\u0027].to_upper())\n",
                                     "dflow_to_upper.head(5)"
                                 ]
                  },
                  {
                      "cell_type":  "markdown",
                      "metadata":  {

                                   },
                      "source":  [
                                     "#### `to_lower()`\n",
                                     "Using the to_lower() expression, add a new numeric column \"Lower Case\", which contains the length of the string in \"Primary Type\"."
                                 ]
                  },
                  {
                      "cell_type":  "code",
                      "execution_count":  null,
                      "metadata":  {

                                   },
                      "outputs":  [

                                  ],
                      "source":  [
                                     "dflow_to_lower = dflow.add_column(new_column_name=\u0027Lower Case\u0027,\n",
                                     "                                prior_column=\u0027Primary Type\u0027,\n",
                                     "                                expression=dflow[\u0027Primary Type\u0027].to_lower())\n",
                                     "dflow_to_lower.head(5)"
                                 ]
                  },
                  {
                      "cell_type":  "markdown",
                      "metadata":  {

                                   },
                      "source":  [
                                     "#### `RegEx.extract_record()`\n",
                                     "Using the `RegEx.extract_record()` expression, add a new record column \"Stream Date Record\", which contains the name capturing groups in the regex with value."
                                 ]
                  },
                  {
                      "cell_type":  "code",
                      "execution_count":  null,
                      "metadata":  {

                                   },
                      "outputs":  [

                                  ],
                      "source":  [
                                     "dflow_regex_extract_record = dprep.auto_read_file(\u0027../data/stream-path.csv\u0027)\n",
                                     "regex = dprep.RegEx(\u0027\\/(?\u003cyear\u003e\\d{4})\\/(?\u003cmonth\u003e\\d{2})\\/(?\u003cday\u003e\\d{2})\\/\u0027)\n",
                                     "dflow_regex_extract_record = dflow_regex_extract_record.add_column(new_column_name=\u0027Stream Date Record\u0027,\n",
                                     "                                                                   prior_column=\u0027Stream Path\u0027,\n",
                                     "                                                                   expression=regex.extract_record(dflow_regex_extract_record[\u0027Stream Path\u0027]))\n",
                                     "dflow_regex_extract_record.head(5)"
                                 ]
                  },
                  {
                      "cell_type":  "markdown",
                      "metadata":  {

                                   },
                      "source":  [
                                     "#### `create_datetime()`\n",
                                     "Using the `create_datetime()` expression, add a new column \"Stream Date\", which contains datetime values constructed from year, month, day values extracted from a record column \"Stream Date Record\"."
                                 ]
                  },
                  {
                      "cell_type":  "code",
                      "execution_count":  null,
                      "metadata":  {

                                   },
                      "outputs":  [

                                  ],
                      "source":  [
                                     "year = dprep.col(\u0027year\u0027, dflow_regex_extract_record[\u0027Stream Date Record\u0027])\n",
                                     "month = dprep.col(\u0027month\u0027, dflow_regex_extract_record[\u0027Stream Date Record\u0027])\n",
                                     "day = dprep.col(\u0027day\u0027, dflow_regex_extract_record[\u0027Stream Date Record\u0027])\n",
                                     "dflow_create_datetime = dflow_regex_extract_record.add_column(new_column_name=\u0027Stream Date\u0027,\n",
                                     "                                                              prior_column=\u0027Stream Date Record\u0027,\n",
                                     "                                                              expression=dprep.create_datetime(year, month, day))\n",
                                     "dflow_create_datetime.head(5)"
                                 ]
                  },
                  {
                      "cell_type":  "markdown",
                      "metadata":  {

                                   },
                      "source":  [
                                     "#### `col(column1) + col(column2)`\n",
                                     "Add a new column \"Total\" to show the result of adding the values in the \"FBI Code\" column to the \"Community Area\" column."
                                 ]
                  },
                  {
                      "cell_type":  "code",
                      "execution_count":  null,
                      "metadata":  {

                                   },
                      "outputs":  [

                                  ],
                      "source":  [
                                     "dflow_total = dflow.add_column(new_column_name=\u0027Total\u0027,\n",
                                     "                               prior_column=\u0027FBI Code\u0027,\n",
                                     "                               expression=dflow[\u0027Community Area\u0027]+dflow[\u0027FBI Code\u0027])\n",
                                     "dflow_total.head(5)"
                                 ]
                  },
                  {
                      "cell_type":  "markdown",
                      "metadata":  {

                                   },
                      "source":  [
                                     "#### `col(column1) - col(column2)`\n",
                                     "Add a new column \"Subtract\" to show the result of subtracting the values in the \"FBI Code\" column from the \"Community Area\" column."
                                 ]
                  },
                  {
                      "cell_type":  "code",
                      "execution_count":  null,
                      "metadata":  {

                                   },
                      "outputs":  [

                                  ],
                      "source":  [
                                     "dflow_diff = dflow.add_column(new_column_name=\u0027Difference\u0027,\n",
                                     "                              prior_column=\u0027FBI Code\u0027,\n",
                                     "                              expression=dflow[\u0027Community Area\u0027]-dflow[\u0027FBI Code\u0027])\n",
                                     "dflow_diff.head(5)"
                                 ]
                  },
                  {
                      "cell_type":  "markdown",
                      "metadata":  {

                                   },
                      "source":  [
                                     "#### `col(column1) * col(column2)`\n",
                                     "Add a new column \"Product\" to show the result of multiplying the values in the \"FBI Code\" column to the \"Community Area\" column."
                                 ]
                  },
                  {
                      "cell_type":  "code",
                      "execution_count":  null,
                      "metadata":  {

                                   },
                      "outputs":  [

                                  ],
                      "source":  [
                                     "dflow_prod = dflow.add_column(new_column_name=\u0027Product\u0027,\n",
                                     "                              prior_column=\u0027FBI Code\u0027,\n",
                                     "                              expression=dflow[\u0027Community Area\u0027]*dflow[\u0027FBI Code\u0027])\n",
                                     "dflow_prod.head(5)"
                                 ]
                  },
                  {
                      "cell_type":  "markdown",
                      "metadata":  {

                                   },
                      "source":  [
                                     "#### `col(column1) / col(column2)`\n",
                                     "Add a new column \"True Quotient\" to show the result of true (decimal) division of the values in \"Community Area\" column by the \"FBI Code\" column."
                                 ]
                  },
                  {
                      "cell_type":  "code",
                      "execution_count":  null,
                      "metadata":  {

                                   },
                      "outputs":  [

                                  ],
                      "source":  [
                                     "dflow_true_div = dflow.add_column(new_column_name=\u0027True Quotient\u0027,\n",
                                     "                             prior_column=\u0027FBI Code\u0027,\n",
                                     "                             expression=dflow[\u0027Community Area\u0027]/dflow[\u0027FBI Code\u0027])\n",
                                     "dflow_true_div.head(5)"
                                 ]
                  },
                  {
                      "cell_type":  "markdown",
                      "metadata":  {

                                   },
                      "source":  [
                                     "#### `col(column1) // col(column2)`\n",
                                     "Add a new column \"Floor Quotient\" to show the result of floor (integer) division of the values in \"Community Area\" column by the \"FBI Code\" column."
                                 ]
                  },
                  {
                      "cell_type":  "code",
                      "execution_count":  null,
                      "metadata":  {

                                   },
                      "outputs":  [

                                  ],
                      "source":  [
                                     "dflow_floor_div = dflow.add_column(new_column_name=\u0027Floor Quotient\u0027,\n",
                                     "                             prior_column=\u0027FBI Code\u0027,\n",
                                     "                             expression=dflow[\u0027Community Area\u0027]//dflow[\u0027FBI Code\u0027])\n",
                                     "dflow_floor_div.head(5)"
                                 ]
                  },
                  {
                      "cell_type":  "markdown",
                      "metadata":  {

                                   },
                      "source":  [
                                     "#### `col(column1) % col(column2)`\n",
                                     "Add a new column \"Mod\" to show the result of applying the modulo operation on the \"FBI Code\" column and the \"Community Area\" column."
                                 ]
                  },
                  {
                      "cell_type":  "code",
                      "execution_count":  null,
                      "metadata":  {

                                   },
                      "outputs":  [

                                  ],
                      "source":  [
                                     "dflow_mod = dflow.add_column(new_column_name=\u0027Mod\u0027,\n",
                                     "                             prior_column=\u0027FBI Code\u0027,\n",
                                     "                             expression=dflow[\u0027Community Area\u0027]%dflow[\u0027FBI Code\u0027])\n",
                                     "dflow_mod.head(5)"
                                 ]
                  },
                  {
                      "cell_type":  "markdown",
                      "metadata":  {

                                   },
                      "source":  [
                                     "#### `col(column1) ** col(column2)`\n",
                                     "Add a new column \"Power\" to show the result of applying the exponentiation operation when the base is the \"Community Area\" column and the exponent is \"FBI Code\" column."
                                 ]
                  },
                  {
                      "cell_type":  "code",
                      "execution_count":  null,
                      "metadata":  {

                                   },
                      "outputs":  [

                                  ],
                      "source":  [
                                     "dflow_pow = dflow.add_column(new_column_name=\u0027Power\u0027,\n",
                                     "                             prior_column=\u0027FBI Code\u0027,\n",
                                     "                             expression=dflow[\u0027Community Area\u0027]**dflow[\u0027FBI Code\u0027])\n",
                                     "dflow_pow.head(5)"
                                 ]
                  }
              ],
    "metadata":  {
                     "authors":  [
                                     {
                                         "name":  "sihhu"
                                     }
                                 ],
                     "kernelspec":  {
                                        "display_name":  "Python 3.6 - AzureML",
                                        "language":  "python",
                                        "name":  "python3-azureml"
                                    },
                     "language_info":  {
                                           "codemirror_mode":  {
                                                                   "name":  "ipython",
                                                                   "version":  3
                                                               },
                                           "file_extension":  ".py",
                                           "mimetype":  "text/x-python",
                                           "name":  "python",
                                           "nbconvert_exporter":  "python",
                                           "pygments_lexer":  "ipython3",
                                           "version":  "3.6.4"
                                       },
                     "notice":  "Copyright (c) Microsoft Corporation. All rights reserved. Licensed under the MIT License.",
                     "categories":  [
                                        "how-to-use-azureml",
                                        "work-with-data",
                                        "dataprep",
                                        "how-to-guides"
                                    ]
                 },
    "nbformat":  4,
    "nbformat_minor":  2
}