{
    "cells":  [
                  {
                      "cell_type":  "markdown",
                      "metadata":  {

                                   },
                      "source":  [
                                     "![Impressions](https://PixelServer20190423114238.azurewebsites.net/api/impressions/MachineLearningNotebooks/work-with-data/dataprep/how-to-guides/replace-fill-error.png)"
                                 ]
                  },
                  {
                      "cell_type":  "markdown",
                      "metadata":  {

                                   },
                      "source":  [
                                     "# Replace, Fill, Error\n"
                                 ]
                  },
                  {
                      "cell_type":  "markdown",
                      "metadata":  {

                                   },
                      "source":  [
                                     "You can use the methods in this notebook to change values in your dataset.\n",
                                     "\n",
                                     "* \u003ca href=\u0027#replace\u0027\u003ereplace\u003c/a\u003e - use this method to replace a value with another value. You can also use this to replace null with a value, or a value with null\n",
                                     "* \u003ca href=\u0027#error\u0027\u003eerror\u003c/a\u003e - use this method to replace a value with an error.\n",
                                     "* \u003ca href=\u0027#fill_nulls\u0027\u003efill_nulls\u003c/a\u003e - this method lets you fill all nulls in a column with a certain value.\n",
                                     "* \u003ca href=\u0027#fill_errors\u0027\u003efill_errors\u003c/a\u003e - this method lets you fill all errors in a column with a certain value."
                                 ]
                  },
                  {
                      "cell_type":  "markdown",
                      "metadata":  {

                                   },
                      "source":  [
                                     "## Setup"
                                 ]
                  },
                  {
                      "cell_type":  "code",
                      "execution_count":  null,
                      "metadata":  {

                                   },
                      "outputs":  [

                                  ],
                      "source":  [
                                     "import azureml.dataprep as dprep"
                                 ]
                  },
                  {
                      "cell_type":  "code",
                      "execution_count":  null,
                      "metadata":  {

                                   },
                      "outputs":  [

                                  ],
                      "source":  [
                                     "dflow = dprep.read_csv(\u0027../data/crime-spring.csv\u0027)\n",
                                     "dflow.head(5)"
                                 ]
                  },
                  {
                      "cell_type":  "code",
                      "execution_count":  null,
                      "metadata":  {

                                   },
                      "outputs":  [

                                  ],
                      "source":  [
                                     "dflow = dflow.to_datetime(\u0027Date\u0027, [\u0027%m/%d/%Y %H:%M\u0027])\n",
                                     "dflow = dflow.to_number([\u0027IUCR\u0027, \u0027District\u0027, \u0027FBI Code\u0027])\n",
                                     "dflow.head(5)"
                                 ]
                  },
                  {
                      "cell_type":  "markdown",
                      "metadata":  {

                                   },
                      "source":  [
                                     "## Replace \u003ca id=\u0027replace\u0027\u003e\u003c/a\u003e"
                                 ]
                  },
                  {
                      "cell_type":  "markdown",
                      "metadata":  {

                                   },
                      "source":  [
                                     "### String\n",
                                     "Use `replace` to swap a string value with another string value."
                                 ]
                  },
                  {
                      "cell_type":  "code",
                      "execution_count":  null,
                      "metadata":  {

                                   },
                      "outputs":  [

                                  ],
                      "source":  [
                                     "dflow = dflow.replace(\u0027Primary Type\u0027, \u0027THEFT\u0027, \u0027STOLEN\u0027)\n",
                                     "head = dflow.head(5)\n",
                                     "head"
                                 ]
                  },
                  {
                      "cell_type":  "markdown",
                      "metadata":  {

                                   },
                      "source":  [
                                     "Use `replace` to remove a certain string value from the column, replacing it with null. Note that Pandas shows null values as None."
                                 ]
                  },
                  {
                      "cell_type":  "code",
                      "execution_count":  null,
                      "metadata":  {

                                   },
                      "outputs":  [

                                  ],
                      "source":  [
                                     "dflow = dflow.replace(\u0027Primary Type\u0027, \u0027DECEPTIVE PRACTICE\u0027, None)\n",
                                     "head = dflow.head(5)\n",
                                     "head"
                                 ]
                  },
                  {
                      "cell_type":  "markdown",
                      "metadata":  {

                                   },
                      "source":  [
                                     "### Numeric\n",
                                     "Use `replace` to swap a numeric value with another numeric value."
                                 ]
                  },
                  {
                      "cell_type":  "code",
                      "execution_count":  null,
                      "metadata":  {

                                   },
                      "outputs":  [

                                  ],
                      "source":  [
                                     "dflow = dflow.replace(\u0027District\u0027, 5, 1)\n",
                                     "head = dflow.head(5)\n",
                                     "head"
                                 ]
                  },
                  {
                      "cell_type":  "markdown",
                      "metadata":  {

                                   },
                      "source":  [
                                     "### Date\n",
                                     "Use `replace` to swap in a new Date for an existing Date in the data."
                                 ]
                  },
                  {
                      "cell_type":  "code",
                      "execution_count":  null,
                      "metadata":  {

                                   },
                      "outputs":  [

                                  ],
                      "source":  [
                                     "from datetime import datetime, timezone\n",
                                     "dflow = dflow.replace(\u0027Date\u0027, \n",
                                     "                 datetime(2016, 4, 15, 9, 0, tzinfo=timezone.utc), \n",
                                     "                 datetime(2018, 7, 4, 0, 0, tzinfo=timezone.utc))\n",
                                     "head = dflow.head(5)\n",
                                     "head"
                                 ]
                  },
                  {
                      "cell_type":  "markdown",
                      "metadata":  {

                                   },
                      "source":  [
                                     "## Error \u003ca id=\u0027error\u0027\u003e\u003c/a\u003e\n",
                                     "\n",
                                     "The `error` method lets you create Error values. You can pass to this function the value that you want to find, along with the Error code to use in any Errors created."
                                 ]
                  },
                  {
                      "cell_type":  "code",
                      "execution_count":  null,
                      "metadata":  {

                                   },
                      "outputs":  [

                                  ],
                      "source":  [
                                     "dflow = dflow.error(\u0027IUCR\u0027, 890, \u0027Invalid value\u0027)\n",
                                     "head = dflow.head(5)\n",
                                     "head"
                                 ]
                  },
                  {
                      "cell_type":  "markdown",
                      "metadata":  {

                                   },
                      "source":  [
                                     "## Fill Nulls \u003ca id=\u0027fill_nulls\u0027\u003e\u003c/a\u003e\n",
                                     "\n",
                                     "Use the `fill_nulls` method to replace all null values in columns with another value. This is similar to Panda\u0027s fillna() method."
                                 ]
                  },
                  {
                      "cell_type":  "code",
                      "execution_count":  null,
                      "metadata":  {

                                   },
                      "outputs":  [

                                  ],
                      "source":  [
                                     "dflow = dflow.fill_nulls(\u0027Primary Type\u0027, \u0027N/A\u0027)\n",
                                     "head = dflow.head(5)\n",
                                     "head"
                                 ]
                  },
                  {
                      "cell_type":  "markdown",
                      "metadata":  {

                                   },
                      "source":  [
                                     "## Fill Errors \u003ca id=\u0027fill_errors\u0027\u003e\u003c/a\u003e\n",
                                     "\n",
                                     "Use the `fill_errors` method to replace all error values in columns with another value."
                                 ]
                  },
                  {
                      "cell_type":  "code",
                      "execution_count":  null,
                      "metadata":  {

                                   },
                      "outputs":  [

                                  ],
                      "source":  [
                                     "dflow = dflow.fill_errors(\u0027IUCR\u0027, -1)\n",
                                     "head = dflow.head(5)\n",
                                     "head"
                                 ]
                  }
              ],
    "metadata":  {
                     "authors":  [
                                     {
                                         "name":  "sihhu"
                                     }
                                 ],
                     "kernelspec":  {
                                        "display_name":  "Python 3.6 - AzureML",
                                        "language":  "python",
                                        "name":  "python3-azureml"
                                    },
                     "language_info":  {
                                           "codemirror_mode":  {
                                                                   "name":  "ipython",
                                                                   "version":  3
                                                               },
                                           "file_extension":  ".py",
                                           "mimetype":  "text/x-python",
                                           "name":  "python",
                                           "nbconvert_exporter":  "python",
                                           "pygments_lexer":  "ipython3",
                                           "version":  "3.6.4"
                                       },
                     "notice":  "Copyright (c) Microsoft Corporation. All rights reserved. Licensed under the MIT License.",
                     "categories":  [
                                        "how-to-use-azureml",
                                        "work-with-data",
                                        "dataprep",
                                        "how-to-guides"
                                    ]
                 },
    "nbformat":  4,
    "nbformat_minor":  2
}