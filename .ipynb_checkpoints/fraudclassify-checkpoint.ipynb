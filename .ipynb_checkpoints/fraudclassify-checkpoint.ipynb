{
 "cells": [
  {
   "cell_type": "code",
   "execution_count": 1,
   "metadata": {},
   "outputs": [],
   "source": [
    "import json"
   ]
  },
  {
   "cell_type": "code",
   "execution_count": 2,
   "metadata": {},
   "outputs": [
    {
     "name": "stdout",
     "output_type": "stream",
     "text": [
      "1.1.0\n"
     ]
    }
   ],
   "source": [
    "import tensorflow as tf \n",
    "print(tf.__version__)"
   ]
  },
  {
   "cell_type": "code",
   "execution_count": 2,
   "metadata": {},
   "outputs": [
    {
     "name": "stdout",
     "output_type": "stream",
     "text": [
      "Collecting tensorflow==1.1\n",
      "\u001b[?25l  Downloading https://files.pythonhosted.org/packages/cd/e4/b2a8bcd1fa689489050386ec70c5c547e4a75d06f2cc2b55f45463cd092c/tensorflow-1.1.0-cp36-cp36m-manylinux1_x86_64.whl (31.4MB)\n",
      "\u001b[K     |████████████████████████████████| 31.4MB 3.8MB/s eta 0:00:01    |██████████                      | 9.7MB 3.8MB/s eta 0:00:06\n",
      "\u001b[?25hRequirement already satisfied: wheel>=0.26 in /anaconda/envs/azureml_py36/lib/python3.6/site-packages (from tensorflow==1.1) (0.30.0)\n",
      "Requirement already satisfied: protobuf>=3.2.0 in /anaconda/envs/azureml_py36/lib/python3.6/site-packages (from tensorflow==1.1) (3.10.0)\n",
      "Requirement already satisfied: werkzeug>=0.11.10 in /anaconda/envs/azureml_py36/lib/python3.6/site-packages (from tensorflow==1.1) (0.16.0)\n",
      "Requirement already satisfied: six>=1.10.0 in /anaconda/envs/azureml_py36/lib/python3.6/site-packages (from tensorflow==1.1) (1.12.0)\n",
      "Requirement already satisfied: numpy>=1.11.0 in /anaconda/envs/azureml_py36/lib/python3.6/site-packages (from tensorflow==1.1) (1.16.2)\n",
      "Requirement already satisfied: setuptools in /anaconda/envs/azureml_py36/lib/python3.6/site-packages (from protobuf>=3.2.0->tensorflow==1.1) (41.4.0)\n",
      "Installing collected packages: tensorflow\n",
      "Successfully installed tensorflow-1.1.0\n",
      "Note: you may need to restart the kernel to use updated packages.\n"
     ]
    }
   ],
   "source": [
    "pip install tensorflow==1.1"
   ]
  },
  {
   "cell_type": "code",
   "execution_count": 3,
   "metadata": {},
   "outputs": [
    {
     "name": "stdout",
     "output_type": "stream",
     "text": [
      "Requirement already satisfied: azureml-sdk[automl] in /anaconda/envs/azureml_py36/lib/python3.6/site-packages (1.0.69)\n",
      "Requirement already satisfied: azureml-opendatasets in /anaconda/envs/azureml_py36/lib/python3.6/site-packages (1.0.69)\n",
      "Requirement already satisfied: azureml-widgets in /anaconda/envs/azureml_py36/lib/python3.6/site-packages (1.0.69.1)\n",
      "Requirement already satisfied: azureml-pipeline==1.0.69.* in /anaconda/envs/azureml_py36/lib/python3.6/site-packages (from azureml-sdk[automl]) (1.0.69)\n",
      "Requirement already satisfied: azureml-train==1.0.69.* in /anaconda/envs/azureml_py36/lib/python3.6/site-packages (from azureml-sdk[automl]) (1.0.69)\n",
      "Requirement already satisfied: azureml-dataprep[fuse]<1.2.0a,>=1.1.20a in /anaconda/envs/azureml_py36/lib/python3.6/site-packages (from azureml-sdk[automl]) (1.1.22)\n",
      "Requirement already satisfied: azureml-core==1.0.69.* in /anaconda/envs/azureml_py36/lib/python3.6/site-packages (from azureml-sdk[automl]) (1.0.69)\n",
      "Requirement already satisfied: azureml-train-automl==1.0.69.*; extra == \"automl\" in /anaconda/envs/azureml_py36/lib/python3.6/site-packages (from azureml-sdk[automl]) (1.0.69)\n",
      "Requirement already satisfied: azureml-telemetry==1.0.69.* in /anaconda/envs/azureml_py36/lib/python3.6/site-packages (from azureml-opendatasets) (1.0.69)\n",
      "Requirement already satisfied: multimethods in /anaconda/envs/azureml_py36/lib/python3.6/site-packages (from azureml-opendatasets) (1.0.0)\n",
      "Requirement already satisfied: scipy<=1.1.0,>=1.0.0 in /anaconda/envs/azureml_py36/lib/python3.6/site-packages (from azureml-opendatasets) (1.1.0)\n",
      "Requirement already satisfied: azure-storage-blob in /anaconda/envs/azureml_py36/lib/python3.6/site-packages (from azureml-opendatasets) (2.1.0)\n",
      "Requirement already satisfied: pyspark in /anaconda/envs/azureml_py36/lib/python3.6/site-packages (from azureml-opendatasets) (2.4.4)\n",
      "Requirement already satisfied: pandas<=0.23.4,>=0.21.0 in /anaconda/envs/azureml_py36/lib/python3.6/site-packages (from azureml-opendatasets) (0.23.4)\n",
      "Requirement already satisfied: numpy<=1.16.2,>=1.11.0 in /anaconda/envs/azureml_py36/lib/python3.6/site-packages (from azureml-opendatasets) (1.16.2)\n",
      "Requirement already satisfied: pyarrow<0.14.0 in /anaconda/envs/azureml_py36/lib/python3.6/site-packages (from azureml-opendatasets) (0.13.0)\n",
      "Requirement already satisfied: ipywidgets>=7.0.0 in /anaconda/envs/azureml_py36/lib/python3.6/site-packages (from azureml-widgets) (7.5.1)\n",
      "Requirement already satisfied: azureml-pipeline-core==1.0.69.* in /anaconda/envs/azureml_py36/lib/python3.6/site-packages (from azureml-pipeline==1.0.69.*->azureml-sdk[automl]) (1.0.69)\n",
      "Requirement already satisfied: azureml-pipeline-steps==1.0.69.* in /anaconda/envs/azureml_py36/lib/python3.6/site-packages (from azureml-pipeline==1.0.69.*->azureml-sdk[automl]) (1.0.69)\n",
      "Requirement already satisfied: azureml-train-core==1.0.69.* in /anaconda/envs/azureml_py36/lib/python3.6/site-packages (from azureml-train==1.0.69.*->azureml-sdk[automl]) (1.0.69)\n",
      "Requirement already satisfied: azureml-dataprep-native<14.0.0,>=13.1.0 in /anaconda/envs/azureml_py36/lib/python3.6/site-packages (from azureml-dataprep[fuse]<1.2.0a,>=1.1.20a->azureml-sdk[automl]) (13.1.0)\n",
      "Requirement already satisfied: cloudpickle>=1.1.0 in /anaconda/envs/azureml_py36/lib/python3.6/site-packages (from azureml-dataprep[fuse]<1.2.0a,>=1.1.20a->azureml-sdk[automl]) (1.2.2)\n",
      "Requirement already satisfied: dotnetcore2>=2.1.9 in /anaconda/envs/azureml_py36/lib/python3.6/site-packages (from azureml-dataprep[fuse]<1.2.0a,>=1.1.20a->azureml-sdk[automl]) (2.1.9)\n",
      "Requirement already satisfied: fusepy>=3.0.1; extra == \"fuse\" in /anaconda/envs/azureml_py36/lib/python3.6/site-packages (from azureml-dataprep[fuse]<1.2.0a,>=1.1.20a->azureml-sdk[automl]) (3.0.1)\n",
      "Requirement already satisfied: cryptography!=1.9,!=2.0.*,!=2.1.*,!=2.2.* in /anaconda/envs/azureml_py36/lib/python3.6/site-packages (from azureml-core==1.0.69.*->azureml-sdk[automl]) (2.7)\n",
      "Requirement already satisfied: azure-common>=1.1.12 in /anaconda/envs/azureml_py36/lib/python3.6/site-packages (from azureml-core==1.0.69.*->azureml-sdk[automl]) (1.1.23)\n",
      "Requirement already satisfied: ruamel.yaml<=0.15.89,>=0.15.35 in /anaconda/envs/azureml_py36/lib/python3.6/site-packages (from azureml-core==1.0.69.*->azureml-sdk[automl]) (0.15.89)\n",
      "Requirement already satisfied: jmespath in /anaconda/envs/azureml_py36/lib/python3.6/site-packages (from azureml-core==1.0.69.*->azureml-sdk[automl]) (0.9.4)\n",
      "Requirement already satisfied: azure-mgmt-authorization>=0.40.0 in /anaconda/envs/azureml_py36/lib/python3.6/site-packages (from azureml-core==1.0.69.*->azureml-sdk[automl]) (0.60.0)\n",
      "Requirement already satisfied: azure-mgmt-resource>=1.2.1 in /anaconda/envs/azureml_py36/lib/python3.6/site-packages (from azureml-core==1.0.69.*->azureml-sdk[automl]) (5.1.0)\n",
      "Requirement already satisfied: docker in /anaconda/envs/azureml_py36/lib/python3.6/site-packages (from azureml-core==1.0.69.*->azureml-sdk[automl]) (4.1.0)\n",
      "Requirement already satisfied: azure-graphrbac>=0.40.0 in /anaconda/envs/azureml_py36/lib/python3.6/site-packages (from azureml-core==1.0.69.*->azureml-sdk[automl]) (0.61.1)\n",
      "Requirement already satisfied: requests>=2.19.1 in /anaconda/envs/azureml_py36/lib/python3.6/site-packages (from azureml-core==1.0.69.*->azureml-sdk[automl]) (2.22.0)\n",
      "Requirement already satisfied: SecretStorage in /anaconda/envs/azureml_py36/lib/python3.6/site-packages (from azureml-core==1.0.69.*->azureml-sdk[automl]) (3.1.1)\n",
      "Requirement already satisfied: pyopenssl in /anaconda/envs/azureml_py36/lib/python3.6/site-packages (from azureml-core==1.0.69.*->azureml-sdk[automl]) (19.0.0)\n",
      "Requirement already satisfied: azure-mgmt-keyvault>=0.40.0 in /anaconda/envs/azureml_py36/lib/python3.6/site-packages (from azureml-core==1.0.69.*->azureml-sdk[automl]) (2.0.0)\n",
      "Requirement already satisfied: msrestazure>=0.4.33 in /anaconda/envs/azureml_py36/lib/python3.6/site-packages (from azureml-core==1.0.69.*->azureml-sdk[automl]) (0.6.2)\n",
      "Requirement already satisfied: ndg-httpsclient in /anaconda/envs/azureml_py36/lib/python3.6/site-packages (from azureml-core==1.0.69.*->azureml-sdk[automl]) (0.5.1)\n",
      "Requirement already satisfied: contextlib2 in /anaconda/envs/azureml_py36/lib/python3.6/site-packages (from azureml-core==1.0.69.*->azureml-sdk[automl]) (0.6.0)\n",
      "Requirement already satisfied: urllib3>=1.23 in /anaconda/envs/azureml_py36/lib/python3.6/site-packages (from azureml-core==1.0.69.*->azureml-sdk[automl]) (1.24.2)\n",
      "Requirement already satisfied: pytz in /anaconda/envs/azureml_py36/lib/python3.6/site-packages (from azureml-core==1.0.69.*->azureml-sdk[automl]) (2019.3)\n",
      "Requirement already satisfied: azure-mgmt-containerregistry>=2.0.0 in /anaconda/envs/azureml_py36/lib/python3.6/site-packages (from azureml-core==1.0.69.*->azureml-sdk[automl]) (2.8.0)\n",
      "Requirement already satisfied: python-dateutil>=2.7.3 in /anaconda/envs/azureml_py36/lib/python3.6/site-packages (from azureml-core==1.0.69.*->azureml-sdk[automl]) (2.8.0)\n",
      "Requirement already satisfied: adal>=1.2.0 in /anaconda/envs/azureml_py36/lib/python3.6/site-packages (from azureml-core==1.0.69.*->azureml-sdk[automl]) (1.2.2)\n",
      "Requirement already satisfied: backports.tempfile in /anaconda/envs/azureml_py36/lib/python3.6/site-packages (from azureml-core==1.0.69.*->azureml-sdk[automl]) (1.0)\n",
      "Requirement already satisfied: msrest>=0.5.1 in /anaconda/envs/azureml_py36/lib/python3.6/site-packages (from azureml-core==1.0.69.*->azureml-sdk[automl]) (0.6.10)\n",
      "Requirement already satisfied: azure-mgmt-storage>=1.5.0 in /anaconda/envs/azureml_py36/lib/python3.6/site-packages (from azureml-core==1.0.69.*->azureml-sdk[automl]) (4.2.0)\n",
      "Requirement already satisfied: jsonpickle in /anaconda/envs/azureml_py36/lib/python3.6/site-packages (from azureml-core==1.0.69.*->azureml-sdk[automl]) (1.2)\n",
      "Requirement already satisfied: six>=1.11.0 in /anaconda/envs/azureml_py36/lib/python3.6/site-packages (from azureml-core==1.0.69.*->azureml-sdk[automl]) (1.12.0)\n",
      "Requirement already satisfied: pathspec in /anaconda/envs/azureml_py36/lib/python3.6/site-packages (from azureml-core==1.0.69.*->azureml-sdk[automl]) (0.6.0)\n",
      "Requirement already satisfied: PyJWT in /anaconda/envs/azureml_py36/lib/python3.6/site-packages (from azureml-core==1.0.69.*->azureml-sdk[automl]) (1.7.1)\n",
      "Requirement already satisfied: patsy>=0.5.1 in /anaconda/envs/azureml_py36/lib/python3.6/site-packages (from azureml-train-automl==1.0.69.*; extra == \"automl\"->azureml-sdk[automl]) (0.5.1)\n",
      "Requirement already satisfied: resource>=0.1.8 in /anaconda/envs/azureml_py36/lib/python3.6/site-packages (from azureml-train-automl==1.0.69.*; extra == \"automl\"->azureml-sdk[automl]) (0.2.1)\n",
      "Requirement already satisfied: wheel==0.30.0 in /anaconda/envs/azureml_py36/lib/python3.6/site-packages (from azureml-train-automl==1.0.69.*; extra == \"automl\"->azureml-sdk[automl]) (0.30.0)\n"
     ]
    },
    {
     "name": "stdout",
     "output_type": "stream",
     "text": [
      "Requirement already satisfied: lightgbm<=2.2.3,>=2.0.11 in /anaconda/envs/azureml_py36/lib/python3.6/site-packages (from azureml-train-automl==1.0.69.*; extra == \"automl\"->azureml-sdk[automl]) (2.2.3)\n",
      "Requirement already satisfied: onnxmltools==1.4.1 in /anaconda/envs/azureml_py36/lib/python3.6/site-packages (from azureml-train-automl==1.0.69.*; extra == \"automl\"->azureml-sdk[automl]) (1.4.1)\n",
      "Requirement already satisfied: statsmodels>=0.9.0 in /anaconda/envs/azureml_py36/lib/python3.6/site-packages (from azureml-train-automl==1.0.69.*; extra == \"automl\"->azureml-sdk[automl]) (0.10.1)\n",
      "Requirement already satisfied: azureml-automl-core==1.0.69.* in /anaconda/envs/azureml_py36/lib/python3.6/site-packages (from azureml-train-automl==1.0.69.*; extra == \"automl\"->azureml-sdk[automl]) (1.0.69)\n",
      "Requirement already satisfied: dill>=0.2.8 in /anaconda/envs/azureml_py36/lib/python3.6/site-packages (from azureml-train-automl==1.0.69.*; extra == \"automl\"->azureml-sdk[automl]) (0.3.1.1)\n",
      "Requirement already satisfied: skl2onnx==1.4.9 in /anaconda/envs/azureml_py36/lib/python3.6/site-packages (from azureml-train-automl==1.0.69.*; extra == \"automl\"->azureml-sdk[automl]) (1.4.9)\n",
      "Requirement already satisfied: gensim in /anaconda/envs/azureml_py36/lib/python3.6/site-packages (from azureml-train-automl==1.0.69.*; extra == \"automl\"->azureml-sdk[automl]) (3.8.1)\n",
      "Requirement already satisfied: scikit-learn<=0.20.3,>=0.19.0 in /anaconda/envs/azureml_py36/lib/python3.6/site-packages (from azureml-train-automl==1.0.69.*; extra == \"automl\"->azureml-sdk[automl]) (0.20.3)\n",
      "Requirement already satisfied: onnx>=1.5.0 in /anaconda/envs/azureml_py36/lib/python3.6/site-packages (from azureml-train-automl==1.0.69.*; extra == \"automl\"->azureml-sdk[automl]) (1.6.0)\n",
      "Requirement already satisfied: onnxconverter-common>=1.4.2 in /anaconda/envs/azureml_py36/lib/python3.6/site-packages (from azureml-train-automl==1.0.69.*; extra == \"automl\"->azureml-sdk[automl]) (1.5.5)\n",
      "Requirement already satisfied: sklearn-pandas<=1.7.0,>=1.4.0 in /anaconda/envs/azureml_py36/lib/python3.6/site-packages (from azureml-train-automl==1.0.69.*; extra == \"automl\"->azureml-sdk[automl]) (1.7.0)\n",
      "Requirement already satisfied: applicationinsights in /anaconda/envs/azureml_py36/lib/python3.6/site-packages (from azureml-telemetry==1.0.69.*->azureml-opendatasets) (0.11.9)\n",
      "Requirement already satisfied: azure-storage-common~=2.1 in /anaconda/envs/azureml_py36/lib/python3.6/site-packages (from azure-storage-blob->azureml-opendatasets) (2.1.0)\n",
      "Requirement already satisfied: py4j==0.10.7 in /anaconda/envs/azureml_py36/lib/python3.6/site-packages (from pyspark->azureml-opendatasets) (0.10.7)\n",
      "Requirement already satisfied: ipython>=4.0.0; python_version >= \"3.3\" in /anaconda/envs/azureml_py36/lib/python3.6/site-packages (from ipywidgets>=7.0.0->azureml-widgets) (7.8.0)\n",
      "Requirement already satisfied: nbformat>=4.2.0 in /anaconda/envs/azureml_py36/lib/python3.6/site-packages (from ipywidgets>=7.0.0->azureml-widgets) (4.4.0)\n",
      "Requirement already satisfied: traitlets>=4.3.1 in /anaconda/envs/azureml_py36/lib/python3.6/site-packages (from ipywidgets>=7.0.0->azureml-widgets) (4.3.3)\n",
      "Requirement already satisfied: ipykernel>=4.5.1 in /anaconda/envs/azureml_py36/lib/python3.6/site-packages (from ipywidgets>=7.0.0->azureml-widgets) (5.1.2)\n",
      "Requirement already satisfied: widgetsnbextension~=3.5.0 in /anaconda/envs/azureml_py36/lib/python3.6/site-packages (from ipywidgets>=7.0.0->azureml-widgets) (3.5.1)\n",
      "Requirement already satisfied: azureml-train-restclients-hyperdrive==1.0.69.* in /anaconda/envs/azureml_py36/lib/python3.6/site-packages (from azureml-train-core==1.0.69.*->azureml-train==1.0.69.*->azureml-sdk[automl]) (1.0.69)\n",
      "Requirement already satisfied: distro>=1.2.0 in /anaconda/envs/azureml_py36/lib/python3.6/site-packages (from dotnetcore2>=2.1.9->azureml-dataprep[fuse]<1.2.0a,>=1.1.20a->azureml-sdk[automl]) (1.4.0)\n",
      "Requirement already satisfied: asn1crypto>=0.21.0 in /anaconda/envs/azureml_py36/lib/python3.6/site-packages (from cryptography!=1.9,!=2.0.*,!=2.1.*,!=2.2.*->azureml-core==1.0.69.*->azureml-sdk[automl]) (1.0.1)\n",
      "Requirement already satisfied: cffi!=1.11.3,>=1.8 in /anaconda/envs/azureml_py36/lib/python3.6/site-packages (from cryptography!=1.9,!=2.0.*,!=2.1.*,!=2.2.*->azureml-core==1.0.69.*->azureml-sdk[automl]) (1.12.3)\n",
      "Requirement already satisfied: websocket-client>=0.32.0 in /anaconda/envs/azureml_py36/lib/python3.6/site-packages (from docker->azureml-core==1.0.69.*->azureml-sdk[automl]) (0.56.0)\n",
      "Requirement already satisfied: chardet<3.1.0,>=3.0.2 in /anaconda/envs/azureml_py36/lib/python3.6/site-packages (from requests>=2.19.1->azureml-core==1.0.69.*->azureml-sdk[automl]) (3.0.4)\n",
      "Requirement already satisfied: certifi>=2017.4.17 in /anaconda/envs/azureml_py36/lib/python3.6/site-packages (from requests>=2.19.1->azureml-core==1.0.69.*->azureml-sdk[automl]) (2019.9.11)\n",
      "Requirement already satisfied: idna<2.9,>=2.5 in /anaconda/envs/azureml_py36/lib/python3.6/site-packages (from requests>=2.19.1->azureml-core==1.0.69.*->azureml-sdk[automl]) (2.8)\n",
      "Requirement already satisfied: jeepney in /anaconda/envs/azureml_py36/lib/python3.6/site-packages (from SecretStorage->azureml-core==1.0.69.*->azureml-sdk[automl]) (0.4.1)\n",
      "Requirement already satisfied: pyasn1>=0.1.1 in /anaconda/envs/azureml_py36/lib/python3.6/site-packages (from ndg-httpsclient->azureml-core==1.0.69.*->azureml-sdk[automl]) (0.4.7)\n",
      "Requirement already satisfied: backports.weakref in /anaconda/envs/azureml_py36/lib/python3.6/site-packages (from backports.tempfile->azureml-core==1.0.69.*->azureml-sdk[automl]) (1.0.post1)\n",
      "Requirement already satisfied: isodate>=0.6.0 in /anaconda/envs/azureml_py36/lib/python3.6/site-packages (from msrest>=0.5.1->azureml-core==1.0.69.*->azureml-sdk[automl]) (0.6.0)\n",
      "Requirement already satisfied: requests-oauthlib>=0.5.0 in /anaconda/envs/azureml_py36/lib/python3.6/site-packages (from msrest>=0.5.1->azureml-core==1.0.69.*->azureml-sdk[automl]) (1.2.0)\n",
      "Requirement already satisfied: python-easyconfig>=0.1.0 in /anaconda/envs/azureml_py36/lib/python3.6/site-packages (from resource>=0.1.8->azureml-train-automl==1.0.69.*; extra == \"automl\"->azureml-sdk[automl]) (0.1.7)\n",
      "Requirement already satisfied: JsonForm>=0.0.2 in /anaconda/envs/azureml_py36/lib/python3.6/site-packages (from resource>=0.1.8->azureml-train-automl==1.0.69.*; extra == \"automl\"->azureml-sdk[automl]) (0.0.2)\n",
      "Requirement already satisfied: JsonSir>=0.0.2 in /anaconda/envs/azureml_py36/lib/python3.6/site-packages (from resource>=0.1.8->azureml-train-automl==1.0.69.*; extra == \"automl\"->azureml-sdk[automl]) (0.0.2)\n",
      "Requirement already satisfied: keras2onnx in /anaconda/envs/azureml_py36/lib/python3.6/site-packages (from onnxmltools==1.4.1->azureml-train-automl==1.0.69.*; extra == \"automl\"->azureml-sdk[automl]) (1.5.2)\n",
      "Requirement already satisfied: protobuf in /anaconda/envs/azureml_py36/lib/python3.6/site-packages (from onnxmltools==1.4.1->azureml-train-automl==1.0.69.*; extra == \"automl\"->azureml-sdk[automl]) (3.10.0)\n",
      "Requirement already satisfied: nimbusml>=1.4.2 in /anaconda/envs/azureml_py36/lib/python3.6/site-packages (from azureml-automl-core==1.0.69.*->azureml-train-automl==1.0.69.*; extra == \"automl\"->azureml-sdk[automl]) (1.5.0)\n",
      "Requirement already satisfied: psutil<6.0.0,>=5.2.2 in /anaconda/envs/azureml_py36/lib/python3.6/site-packages (from azureml-automl-core==1.0.69.*->azureml-train-automl==1.0.69.*; extra == \"automl\"->azureml-sdk[automl]) (5.6.3)\n",
      "Requirement already satisfied: pmdarima==1.1.1 in /anaconda/envs/azureml_py36/lib/python3.6/site-packages (from azureml-automl-core==1.0.69.*->azureml-train-automl==1.0.69.*; extra == \"automl\"->azureml-sdk[automl]) (1.1.1)\n",
      "Requirement already satisfied: smart-open>=1.8.1 in /anaconda/envs/azureml_py36/lib/python3.6/site-packages (from gensim->azureml-train-automl==1.0.69.*; extra == \"automl\"->azureml-sdk[automl]) (1.8.4)\n",
      "Requirement already satisfied: typing-extensions>=3.6.2.1 in /anaconda/envs/azureml_py36/lib/python3.6/site-packages (from onnx>=1.5.0->azureml-train-automl==1.0.69.*; extra == \"automl\"->azureml-sdk[automl]) (3.7.4)\n",
      "Requirement already satisfied: decorator in /anaconda/envs/azureml_py36/lib/python3.6/site-packages (from ipython>=4.0.0; python_version >= \"3.3\"->ipywidgets>=7.0.0->azureml-widgets) (4.4.0)\n",
      "Requirement already satisfied: pexpect; sys_platform != \"win32\" in /anaconda/envs/azureml_py36/lib/python3.6/site-packages (from ipython>=4.0.0; python_version >= \"3.3\"->ipywidgets>=7.0.0->azureml-widgets) (4.7.0)\n",
      "Requirement already satisfied: prompt-toolkit<2.1.0,>=2.0.0 in /anaconda/envs/azureml_py36/lib/python3.6/site-packages (from ipython>=4.0.0; python_version >= \"3.3\"->ipywidgets>=7.0.0->azureml-widgets) (2.0.10)\n",
      "Requirement already satisfied: pygments in /anaconda/envs/azureml_py36/lib/python3.6/site-packages (from ipython>=4.0.0; python_version >= \"3.3\"->ipywidgets>=7.0.0->azureml-widgets) (2.4.2)\n",
      "Requirement already satisfied: pickleshare in /anaconda/envs/azureml_py36/lib/python3.6/site-packages (from ipython>=4.0.0; python_version >= \"3.3\"->ipywidgets>=7.0.0->azureml-widgets) (0.7.5)\n",
      "Requirement already satisfied: jedi>=0.10 in /anaconda/envs/azureml_py36/lib/python3.6/site-packages (from ipython>=4.0.0; python_version >= \"3.3\"->ipywidgets>=7.0.0->azureml-widgets) (0.15.1)\n"
     ]
    },
    {
     "name": "stdout",
     "output_type": "stream",
     "text": [
      "Requirement already satisfied: backcall in /anaconda/envs/azureml_py36/lib/python3.6/site-packages (from ipython>=4.0.0; python_version >= \"3.3\"->ipywidgets>=7.0.0->azureml-widgets) (0.1.0)\n",
      "Requirement already satisfied: setuptools>=18.5 in /anaconda/envs/azureml_py36/lib/python3.6/site-packages (from ipython>=4.0.0; python_version >= \"3.3\"->ipywidgets>=7.0.0->azureml-widgets) (41.4.0)\n",
      "Requirement already satisfied: jupyter-core in /anaconda/envs/azureml_py36/lib/python3.6/site-packages (from nbformat>=4.2.0->ipywidgets>=7.0.0->azureml-widgets) (4.5.0)\n",
      "Requirement already satisfied: ipython-genutils in /anaconda/envs/azureml_py36/lib/python3.6/site-packages (from nbformat>=4.2.0->ipywidgets>=7.0.0->azureml-widgets) (0.2.0)\n",
      "Requirement already satisfied: jsonschema!=2.5.0,>=2.4 in /anaconda/envs/azureml_py36/lib/python3.6/site-packages (from nbformat>=4.2.0->ipywidgets>=7.0.0->azureml-widgets) (3.0.2)\n",
      "Requirement already satisfied: jupyter-client in /anaconda/envs/azureml_py36/lib/python3.6/site-packages (from ipykernel>=4.5.1->ipywidgets>=7.0.0->azureml-widgets) (5.3.3)\n",
      "Requirement already satisfied: tornado>=4.2 in /anaconda/envs/azureml_py36/lib/python3.6/site-packages (from ipykernel>=4.5.1->ipywidgets>=7.0.0->azureml-widgets) (6.0.3)\n",
      "Requirement already satisfied: notebook>=4.4.1 in /anaconda/envs/azureml_py36/lib/python3.6/site-packages (from widgetsnbextension~=3.5.0->ipywidgets>=7.0.0->azureml-widgets) (6.0.0)\n",
      "Requirement already satisfied: pycparser in /anaconda/envs/azureml_py36/lib/python3.6/site-packages (from cffi!=1.11.3,>=1.8->cryptography!=1.9,!=2.0.*,!=2.1.*,!=2.2.*->azureml-core==1.0.69.*->azureml-sdk[automl]) (2.19)\n",
      "Requirement already satisfied: oauthlib>=3.0.0 in /anaconda/envs/azureml_py36/lib/python3.6/site-packages (from requests-oauthlib>=0.5.0->msrest>=0.5.1->azureml-core==1.0.69.*->azureml-sdk[automl]) (3.1.0)\n",
      "Requirement already satisfied: PyYAML in /anaconda/envs/azureml_py36/lib/python3.6/site-packages (from python-easyconfig>=0.1.0->resource>=0.1.8->azureml-train-automl==1.0.69.*; extra == \"automl\"->azureml-sdk[automl]) (5.1.2)\n",
      "Requirement already satisfied: fire in /anaconda/envs/azureml_py36/lib/python3.6/site-packages (from keras2onnx->onnxmltools==1.4.1->azureml-train-automl==1.0.69.*; extra == \"automl\"->azureml-sdk[automl]) (0.2.1)\n",
      "Requirement already satisfied: Cython>=0.29 in /anaconda/envs/azureml_py36/lib/python3.6/site-packages (from pmdarima==1.1.1->azureml-automl-core==1.0.69.*->azureml-train-automl==1.0.69.*; extra == \"automl\"->azureml-sdk[automl]) (0.29.13)\n",
      "Requirement already satisfied: boto3 in /anaconda/envs/azureml_py36/lib/python3.6/site-packages (from smart-open>=1.8.1->gensim->azureml-train-automl==1.0.69.*; extra == \"automl\"->azureml-sdk[automl]) (1.9.250)\n",
      "Requirement already satisfied: boto>=2.32 in /anaconda/envs/azureml_py36/lib/python3.6/site-packages (from smart-open>=1.8.1->gensim->azureml-train-automl==1.0.69.*; extra == \"automl\"->azureml-sdk[automl]) (2.49.0)\n",
      "Requirement already satisfied: ptyprocess>=0.5 in /anaconda/envs/azureml_py36/lib/python3.6/site-packages (from pexpect; sys_platform != \"win32\"->ipython>=4.0.0; python_version >= \"3.3\"->ipywidgets>=7.0.0->azureml-widgets) (0.6.0)\n",
      "Requirement already satisfied: wcwidth in /anaconda/envs/azureml_py36/lib/python3.6/site-packages (from prompt-toolkit<2.1.0,>=2.0.0->ipython>=4.0.0; python_version >= \"3.3\"->ipywidgets>=7.0.0->azureml-widgets) (0.1.7)\n",
      "Requirement already satisfied: parso>=0.5.0 in /anaconda/envs/azureml_py36/lib/python3.6/site-packages (from jedi>=0.10->ipython>=4.0.0; python_version >= \"3.3\"->ipywidgets>=7.0.0->azureml-widgets) (0.5.1)\n",
      "Requirement already satisfied: attrs>=17.4.0 in /anaconda/envs/azureml_py36/lib/python3.6/site-packages (from jsonschema!=2.5.0,>=2.4->nbformat>=4.2.0->ipywidgets>=7.0.0->azureml-widgets) (19.2.0)\n",
      "Requirement already satisfied: pyrsistent>=0.14.0 in /anaconda/envs/azureml_py36/lib/python3.6/site-packages (from jsonschema!=2.5.0,>=2.4->nbformat>=4.2.0->ipywidgets>=7.0.0->azureml-widgets) (0.15.4)\n",
      "Requirement already satisfied: pyzmq>=13 in /anaconda/envs/azureml_py36/lib/python3.6/site-packages (from jupyter-client->ipykernel>=4.5.1->ipywidgets>=7.0.0->azureml-widgets) (18.1.0)\n",
      "Requirement already satisfied: terminado>=0.8.1 in /anaconda/envs/azureml_py36/lib/python3.6/site-packages (from notebook>=4.4.1->widgetsnbextension~=3.5.0->ipywidgets>=7.0.0->azureml-widgets) (0.8.2)\n",
      "Requirement already satisfied: Send2Trash in /anaconda/envs/azureml_py36/lib/python3.6/site-packages (from notebook>=4.4.1->widgetsnbextension~=3.5.0->ipywidgets>=7.0.0->azureml-widgets) (1.5.0)\n",
      "Requirement already satisfied: prometheus-client in /anaconda/envs/azureml_py36/lib/python3.6/site-packages (from notebook>=4.4.1->widgetsnbextension~=3.5.0->ipywidgets>=7.0.0->azureml-widgets) (0.7.1)\n",
      "Requirement already satisfied: jinja2 in /anaconda/envs/azureml_py36/lib/python3.6/site-packages (from notebook>=4.4.1->widgetsnbextension~=3.5.0->ipywidgets>=7.0.0->azureml-widgets) (2.10.3)\n",
      "Requirement already satisfied: nbconvert in /anaconda/envs/azureml_py36/lib/python3.6/site-packages (from notebook>=4.4.1->widgetsnbextension~=3.5.0->ipywidgets>=7.0.0->azureml-widgets) (5.4.1)\n",
      "Requirement already satisfied: termcolor in /anaconda/envs/azureml_py36/lib/python3.6/site-packages (from fire->keras2onnx->onnxmltools==1.4.1->azureml-train-automl==1.0.69.*; extra == \"automl\"->azureml-sdk[automl]) (1.1.0)\n",
      "Requirement already satisfied: s3transfer<0.3.0,>=0.2.0 in /anaconda/envs/azureml_py36/lib/python3.6/site-packages (from boto3->smart-open>=1.8.1->gensim->azureml-train-automl==1.0.69.*; extra == \"automl\"->azureml-sdk[automl]) (0.2.1)\n",
      "Requirement already satisfied: botocore<1.13.0,>=1.12.250 in /anaconda/envs/azureml_py36/lib/python3.6/site-packages (from boto3->smart-open>=1.8.1->gensim->azureml-train-automl==1.0.69.*; extra == \"automl\"->azureml-sdk[automl]) (1.12.250)\n",
      "Requirement already satisfied: MarkupSafe>=0.23 in /anaconda/envs/azureml_py36/lib/python3.6/site-packages (from jinja2->notebook>=4.4.1->widgetsnbextension~=3.5.0->ipywidgets>=7.0.0->azureml-widgets) (1.1.1)\n",
      "Requirement already satisfied: bleach in /anaconda/envs/azureml_py36/lib/python3.6/site-packages (from nbconvert->notebook>=4.4.1->widgetsnbextension~=3.5.0->ipywidgets>=7.0.0->azureml-widgets) (3.1.0)\n",
      "Requirement already satisfied: mistune>=0.8.1 in /anaconda/envs/azureml_py36/lib/python3.6/site-packages (from nbconvert->notebook>=4.4.1->widgetsnbextension~=3.5.0->ipywidgets>=7.0.0->azureml-widgets) (0.8.4)\n",
      "Requirement already satisfied: testpath in /anaconda/envs/azureml_py36/lib/python3.6/site-packages (from nbconvert->notebook>=4.4.1->widgetsnbextension~=3.5.0->ipywidgets>=7.0.0->azureml-widgets) (0.4.2)\n",
      "Requirement already satisfied: defusedxml in /anaconda/envs/azureml_py36/lib/python3.6/site-packages (from nbconvert->notebook>=4.4.1->widgetsnbextension~=3.5.0->ipywidgets>=7.0.0->azureml-widgets) (0.6.0)\n",
      "Requirement already satisfied: entrypoints>=0.2.2 in /anaconda/envs/azureml_py36/lib/python3.6/site-packages (from nbconvert->notebook>=4.4.1->widgetsnbextension~=3.5.0->ipywidgets>=7.0.0->azureml-widgets) (0.3)\n",
      "Requirement already satisfied: pandocfilters>=1.4.1 in /anaconda/envs/azureml_py36/lib/python3.6/site-packages (from nbconvert->notebook>=4.4.1->widgetsnbextension~=3.5.0->ipywidgets>=7.0.0->azureml-widgets) (1.4.2)\n",
      "Requirement already satisfied: docutils<0.16,>=0.10 in /anaconda/envs/azureml_py36/lib/python3.6/site-packages (from botocore<1.13.0,>=1.12.250->boto3->smart-open>=1.8.1->gensim->azureml-train-automl==1.0.69.*; extra == \"automl\"->azureml-sdk[automl]) (0.15.2)\n",
      "Requirement already satisfied: webencodings in /anaconda/envs/azureml_py36/lib/python3.6/site-packages (from bleach->nbconvert->notebook>=4.4.1->widgetsnbextension~=3.5.0->ipywidgets>=7.0.0->azureml-widgets) (0.5.1)\n",
      "Note: you may need to restart the kernel to use updated packages.\n"
     ]
    }
   ],
   "source": [
    "pip install azureml-sdk[automl] azureml-opendatasets azureml-widgets"
   ]
  },
  {
   "cell_type": "code",
   "execution_count": 4,
   "metadata": {},
   "outputs": [],
   "source": [
    "#loading modules and  packages\n",
    "import logging\n",
    "from matplotlib import pyplot as plt\n",
    "import numpy as np\n",
    "import pandas as pd\n",
    "from sklearn import datasets\n",
    "import datetime\n",
    "import numpy as np\n",
    "import pandas as pd\n",
    "from sklearn.linear_model import LinearRegression\n",
    "from sklearn.externals import joblib\n",
    "import azureml.core\n",
    "from azureml.core.experiment import Experiment\n",
    "from azureml.core.workspace import Workspace\n",
    "from azureml.train.automl import AutoMLConfig\n",
    "from azureml.core import Workspace\n",
    "from azureml.core.model import Model\n",
    "from azureml.core import Experiment\n",
    "from azureml.core.webservice import Webservice\n",
    "from azureml.core.image import ContainerImage\n",
    "from azureml.core.webservice import AciWebservice\n",
    "from azureml.core.conda_dependencies import CondaDependencies\n",
    "import collections\n",
    "from sklearn.model_selection import train_test_split\n",
    "import pickle as pkl\n",
    "from sklearn.linear_model import Ridge\n",
    "from azureml.core.model import Model"
   ]
  },
  {
   "cell_type": "code",
   "execution_count": 5,
   "metadata": {},
   "outputs": [],
   "source": [
    "ws = Workspace.from_config()"
   ]
  },
  {
   "cell_type": "code",
   "execution_count": 6,
   "metadata": {},
   "outputs": [
    {
     "name": "stdout",
     "output_type": "stream",
     "text": [
      "Workspace.create(name='xm-ml-workspace', subscription_id='be564fde-136b-4709-b7b6-abfc0bdfc134', resource_group='xm-ml')\n"
     ]
    }
   ],
   "source": [
    "print(ws)"
   ]
  },
  {
   "cell_type": "code",
   "execution_count": 7,
   "metadata": {},
   "outputs": [
    {
     "name": "stdout",
     "output_type": "stream",
     "text": [
      "Registering model fraudclassifyv2\n"
     ]
    }
   ],
   "source": [
    "#registering the model\n",
    "model = Model.register(model_name = \"fraudclassifyv2\",\n",
    "                       model_path = \"data/riskpredictionprod.pkl\",\n",
    "                       tags = {\"key\": \"3\",\"classification\": \"fraud\",\"version\":\"1\"},\n",
    "                       description = \"riskpredictanalysis\",\n",
    "                       workspace = ws)"
   ]
  },
  {
   "cell_type": "code",
   "execution_count": 8,
   "metadata": {},
   "outputs": [
    {
     "name": "stdout",
     "output_type": "stream",
     "text": [
      "fraudclassifyv2\n"
     ]
    }
   ],
   "source": [
    "print(model.name)"
   ]
  },
  {
   "cell_type": "code",
   "execution_count": 18,
   "metadata": {},
   "outputs": [
    {
     "name": "stdout",
     "output_type": "stream",
     "text": [
      "Overwriting score.py\n"
     ]
    }
   ],
   "source": [
    "%%writefile score.py\n",
    "import json\n",
    "import pickle\n",
    "import numpy as np\n",
    "import pandas as pd\n",
    "import azureml.train.automl\n",
    "from sklearn.externals import joblib\n",
    "from azureml.core.model import Model\n",
    "\n",
    "from inference_schema.schema_decorators import input_schema, output_schema\n",
    "from inference_schema.parameter_types.numpy_parameter_type import NumpyParameterType\n",
    "from inference_schema.parameter_types.pandas_parameter_type import PandasParameterType\n",
    "\n",
    "\n",
    "input_sample = pd.DataFrame(data=[{\"TOTAL_PRICE\":869.92,\"THIRD_PARTY_ID_SCORE\":415,\"IS_EXISTING_CUSTOMER\":\"Y\",\"NUM_PORTIN\":0,\"FIRST_PARTY_ID_SCORE\":356,\"ONETIMECHARGE\":33.33,\"INSTALLMENT_AMOUNT\":33.33,\"DEVICE_AT_HOME\":\"Y\",\"FRAUDNET_SCORE\":200.0,\"NUM_BYOD\":0,\"IDA_RESULT\":\"GREEN\",\"EXTERNAL_CREDIT_CHECK_DONE\":\"Y\",\"SALES_CHANNEL\":\"ONLINE\",\"MODEL1\":\"iPhone XR\",\"MODEL2\":\"NA\",\"MODEL3\":\"NA\",\"MODEL4\":\"NA\",\"MODEL5\":\"NA\"}])\n",
    "output_sample = np.array([0])\n",
    "\n",
    "\n",
    "def init():\n",
    "    global model\n",
    "    # This name is model.id of model that we want to deploy deserialize the model file back\n",
    "    # into a sklearn model\n",
    "    model_path = Model.get_model_path(model_name = 'fraudclassifyv2')\n",
    "    model = joblib.load(model_path)\n",
    "\n",
    "@input_schema('data', PandasParameterType(input_sample))\n",
    "@output_schema(NumpyParameterType(output_sample))\n",
    "def run(data):\n",
    "    try:\n",
    "        result = model.predict(data)\n",
    "        if result ==0:\n",
    "            result = 'GREEN'\n",
    "            print('GREEN')\n",
    "        elif result ==1:\n",
    "            result = 'YELLOW'\n",
    "            print('YELLOW')\n",
    "        else:\n",
    "            result = 'RED'\n",
    "            print('RED')\n",
    "        print('result') \n",
    "        fraud_status =[]\n",
    "        fraud_status.append(result)\n",
    "        return fraud_status\n",
    "    except Exception as e:\n",
    "        result = str(e)\n",
    "        return json.dumps({\"error\": result})\n",
    "    return json.dumps({\"result\": result.tolist()})"
   ]
  },
  {
   "cell_type": "code",
   "execution_count": 19,
   "metadata": {},
   "outputs": [],
   "source": [
    "#create environment file\n",
    "from azureml.core.conda_dependencies import CondaDependencies\n",
    "from azureml.core.model import Model\n",
    "import numpy as np\n",
    "import pandas as pd\n",
    "from sklearn import datasets\n",
    "import datetime\n",
    "import numpy as np\n",
    "import pandas as pd\n",
    "from sklearn.linear_model import LinearRegression\n",
    "from sklearn.externals import joblib\n",
    "import azureml.core\n",
    "from azureml.core.experiment import Experiment\n",
    "from azureml.core.workspace import Workspace\n",
    "from azureml.train.automl import AutoMLConfig\n",
    "from azureml.core import Workspace\n",
    "from azureml.core.model import Model\n",
    "from azureml.core import Experiment\n",
    "from azureml.core.webservice import Webservice\n",
    "from azureml.core.image import ContainerImage\n",
    "from azureml.core.webservice import AciWebservice\n",
    "from azureml.core.conda_dependencies import CondaDependencies\n",
    "import collections\n",
    "from sklearn.model_selection import train_test_split\n",
    "import pickle as pkl\n",
    "fraudenv = CondaDependencies()\n",
    "fraudenv.add_conda_package(\"scikit-learn\")\n",
    "fraudenv.add_conda_package(\"numpy\")\n",
    "fraudenv.add_conda_package(\"scipy\")\n",
    "fraudenv.add_conda_package(\"pandas\")\n",
    "fraudenv.add_conda_package(\"py-xgboost<=0.80\")\n",
    "fraudenv.add_pip_package(\"azureml-defaults\")\n",
    "fraudenv.add_pip_package(\"azureml-train-automl==1.0.55\")\n",
    "fraudenv.add_pip_package(\"azureml-core==1.0.55\")\n",
    "fraudenv.add_pip_package(\"inference-schema\")\n",
    "fraudenv.conda_dependencies_file_path=\"data/env_dependencies.json\"\n",
    "with open(\"riskpredictionenv.yml\",\"w\") as f:\n",
    "    f.write(fraudenv.serialize_to_string())"
   ]
  },
  {
   "cell_type": "code",
   "execution_count": 20,
   "metadata": {},
   "outputs": [
    {
     "ename": "ComputeTargetException",
     "evalue": "ComputeTargetException:\n\tMessage: Received bad response from Resource Provider:\nResponse Code: 400\nHeaders: {'Cache-Control': 'no-cache', 'Pragma': 'no-cache', 'Content-Length': '260', 'Content-Type': 'application/json', 'Expires': '-1', 'x-ms-correlation-request-id': 'cf912c9b-c0da-4fde-9d86-fe91f4a349ce', 'x-ms-ratelimit-remaining-subscription-writes': '1199', 'Request-Context': 'appId=cid-v1:2d2e8e63-272e-4b3c-8598-4ee570a0e70d', 'x-ms-client-request-id': 'd00d8222-4625-4aec-aab7-9def940722a3', 'x-ms-client-session-id': '49e07e77-a397-4a74-9294-37cc63ead825', 'x-ms-request-id': '|d559c57618b3514b8c49a3f272d715a4.8ae5bbb8_1.3fab3f74_', 'Strict-Transport-Security': 'max-age=31536000; includeSubDomains', 'x-ms-routing-request-id': 'CENTRALUS:20191023T202233Z:cf912c9b-c0da-4fde-9d86-fe91f4a349ce', 'X-Content-Type-Options': 'nosniff', 'Date': 'Wed, 23 Oct 2019 20:22:32 GMT'}\nContent: b'{\"code\":\"BadRequest\",\"message\":\"The request is invalid\",\"error\":{\"code\":\"BadRequest\",\"statusCode\":400,\"message\":\"The request is invalid\",\"details\":[{\"code\":\"BadRequestFormat\",\"message\":\"Updating property provisioningState for compute is not supported yet.\"}]}}'\n\tInnerException None\n\tErrorResponse \n{\n    \"error\": {\n        \"message\": \"Received bad response from Resource Provider:\\nResponse Code: 400\\nHeaders: {'Cache-Control': 'no-cache', 'Pragma': 'no-cache', 'Content-Length': '260', 'Content-Type': 'application/json', 'Expires': '-1', 'x-ms-correlation-request-id': 'cf912c9b-c0da-4fde-9d86-fe91f4a349ce', 'x-ms-ratelimit-remaining-subscription-writes': '1199', 'Request-Context': 'appId=cid-v1:2d2e8e63-272e-4b3c-8598-4ee570a0e70d', 'x-ms-client-request-id': 'd00d8222-4625-4aec-aab7-9def940722a3', 'x-ms-client-session-id': '49e07e77-a397-4a74-9294-37cc63ead825', 'x-ms-request-id': '|d559c57618b3514b8c49a3f272d715a4.8ae5bbb8_1.3fab3f74_', 'Strict-Transport-Security': 'max-age=31536000; includeSubDomains', 'x-ms-routing-request-id': 'CENTRALUS:20191023T202233Z:cf912c9b-c0da-4fde-9d86-fe91f4a349ce', 'X-Content-Type-Options': 'nosniff', 'Date': 'Wed, 23 Oct 2019 20:22:32 GMT'}\\nContent: b'{\\\"code\\\":\\\"BadRequest\\\",\\\"message\\\":\\\"The request is invalid\\\",\\\"error\\\":{\\\"code\\\":\\\"BadRequest\\\",\\\"statusCode\\\":400,\\\"message\\\":\\\"The request is invalid\\\",\\\"details\\\":[{\\\"code\\\":\\\"BadRequestFormat\\\",\\\"message\\\":\\\"Updating property provisioningState for compute is not supported yet.\\\"}]}}'\"\n    }\n}",
     "output_type": "error",
     "traceback": [
      "\u001b[0;31m---------------------------------------------------------------------------\u001b[0m",
      "\u001b[0;31mHTTPError\u001b[0m                                 Traceback (most recent call last)",
      "\u001b[0;32m/anaconda/envs/azureml_py36/lib/python3.6/site-packages/azureml/core/compute/compute.py\u001b[0m in \u001b[0;36m_create_compute_target\u001b[0;34m(workspace, name, compute_payload, target_class)\u001b[0m\n\u001b[1;32m    265\u001b[0m         \u001b[0;32mtry\u001b[0m\u001b[0;34m:\u001b[0m\u001b[0;34m\u001b[0m\u001b[0;34m\u001b[0m\u001b[0m\n\u001b[0;32m--> 266\u001b[0;31m             \u001b[0mresp\u001b[0m\u001b[0;34m.\u001b[0m\u001b[0mraise_for_status\u001b[0m\u001b[0;34m(\u001b[0m\u001b[0;34m)\u001b[0m\u001b[0;34m\u001b[0m\u001b[0;34m\u001b[0m\u001b[0m\n\u001b[0m\u001b[1;32m    267\u001b[0m         \u001b[0;32mexcept\u001b[0m \u001b[0mrequests\u001b[0m\u001b[0;34m.\u001b[0m\u001b[0mexceptions\u001b[0m\u001b[0;34m.\u001b[0m\u001b[0mHTTPError\u001b[0m\u001b[0;34m:\u001b[0m\u001b[0;34m\u001b[0m\u001b[0;34m\u001b[0m\u001b[0m\n",
      "\u001b[0;32m/anaconda/envs/azureml_py36/lib/python3.6/site-packages/requests/models.py\u001b[0m in \u001b[0;36mraise_for_status\u001b[0;34m(self)\u001b[0m\n\u001b[1;32m    939\u001b[0m         \u001b[0;32mif\u001b[0m \u001b[0mhttp_error_msg\u001b[0m\u001b[0;34m:\u001b[0m\u001b[0;34m\u001b[0m\u001b[0;34m\u001b[0m\u001b[0m\n\u001b[0;32m--> 940\u001b[0;31m             \u001b[0;32mraise\u001b[0m \u001b[0mHTTPError\u001b[0m\u001b[0;34m(\u001b[0m\u001b[0mhttp_error_msg\u001b[0m\u001b[0;34m,\u001b[0m \u001b[0mresponse\u001b[0m\u001b[0;34m=\u001b[0m\u001b[0mself\u001b[0m\u001b[0;34m)\u001b[0m\u001b[0;34m\u001b[0m\u001b[0;34m\u001b[0m\u001b[0m\n\u001b[0m\u001b[1;32m    941\u001b[0m \u001b[0;34m\u001b[0m\u001b[0m\n",
      "\u001b[0;31mHTTPError\u001b[0m: 400 Client Error: Bad Request for url: https://management.azure.com/subscriptions/be564fde-136b-4709-b7b6-abfc0bdfc134/resourceGroups/xm-ml/providers/Microsoft.MachineLearningServices/workspaces/xm-ml-workspace/computes/multiservice?api-version=2019-06-01",
      "\nDuring handling of the above exception, another exception occurred:\n",
      "\u001b[0;31mComputeTargetException\u001b[0m                    Traceback (most recent call last)",
      "\u001b[0;32m<ipython-input-20-1ea09c90fa96>\u001b[0m in \u001b[0;36m<module>\u001b[0;34m\u001b[0m\n\u001b[1;32m     10\u001b[0m aks_target = ComputeTarget.create(workspace = ws,\n\u001b[1;32m     11\u001b[0m                                     \u001b[0mname\u001b[0m \u001b[0;34m=\u001b[0m \u001b[0maks_name\u001b[0m\u001b[0;34m,\u001b[0m\u001b[0;34m\u001b[0m\u001b[0;34m\u001b[0m\u001b[0m\n\u001b[0;32m---> 12\u001b[0;31m                                     provisioning_configuration = prov_config)\n\u001b[0m\u001b[1;32m     13\u001b[0m \u001b[0;34m\u001b[0m\u001b[0m\n\u001b[1;32m     14\u001b[0m \u001b[0;31m# Wait for the create process to complete\u001b[0m\u001b[0;34m\u001b[0m\u001b[0;34m\u001b[0m\u001b[0;34m\u001b[0m\u001b[0m\n",
      "\u001b[0;32m/anaconda/envs/azureml_py36/lib/python3.6/site-packages/azureml/core/compute/compute.py\u001b[0m in \u001b[0;36mcreate\u001b[0;34m(workspace, name, provisioning_configuration)\u001b[0m\n\u001b[1;32m    236\u001b[0m                                      \" {} is a reserved name.\".format(name))\n\u001b[1;32m    237\u001b[0m         \u001b[0mcompute_type\u001b[0m \u001b[0;34m=\u001b[0m \u001b[0mprovisioning_configuration\u001b[0m\u001b[0;34m.\u001b[0m\u001b[0m_compute_type\u001b[0m\u001b[0;34m\u001b[0m\u001b[0;34m\u001b[0m\u001b[0m\n\u001b[0;32m--> 238\u001b[0;31m         \u001b[0;32mreturn\u001b[0m \u001b[0mcompute_type\u001b[0m\u001b[0;34m.\u001b[0m\u001b[0m_create\u001b[0m\u001b[0;34m(\u001b[0m\u001b[0mworkspace\u001b[0m\u001b[0;34m,\u001b[0m \u001b[0mname\u001b[0m\u001b[0;34m,\u001b[0m \u001b[0mprovisioning_configuration\u001b[0m\u001b[0;34m)\u001b[0m\u001b[0;34m\u001b[0m\u001b[0;34m\u001b[0m\u001b[0m\n\u001b[0m\u001b[1;32m    239\u001b[0m \u001b[0;34m\u001b[0m\u001b[0m\n\u001b[1;32m    240\u001b[0m     \u001b[0;34m@\u001b[0m\u001b[0mstaticmethod\u001b[0m\u001b[0;34m\u001b[0m\u001b[0;34m\u001b[0m\u001b[0m\n",
      "\u001b[0;32m/anaconda/envs/azureml_py36/lib/python3.6/site-packages/azureml/core/compute/aks.py\u001b[0m in \u001b[0;36m_create\u001b[0;34m(workspace, name, provisioning_configuration)\u001b[0m\n\u001b[1;32m    100\u001b[0m         compute_create_payload = AksCompute._build_create_payload(provisioning_configuration,\n\u001b[1;32m    101\u001b[0m                                                                   workspace.location, workspace.subscription_id)\n\u001b[0;32m--> 102\u001b[0;31m         \u001b[0;32mreturn\u001b[0m \u001b[0mComputeTarget\u001b[0m\u001b[0;34m.\u001b[0m\u001b[0m_create_compute_target\u001b[0m\u001b[0;34m(\u001b[0m\u001b[0mworkspace\u001b[0m\u001b[0;34m,\u001b[0m \u001b[0mname\u001b[0m\u001b[0;34m,\u001b[0m \u001b[0mcompute_create_payload\u001b[0m\u001b[0;34m,\u001b[0m \u001b[0mAksCompute\u001b[0m\u001b[0;34m)\u001b[0m\u001b[0;34m\u001b[0m\u001b[0;34m\u001b[0m\u001b[0m\n\u001b[0m\u001b[1;32m    103\u001b[0m \u001b[0;34m\u001b[0m\u001b[0m\n\u001b[1;32m    104\u001b[0m     \u001b[0;34m@\u001b[0m\u001b[0mstaticmethod\u001b[0m\u001b[0;34m\u001b[0m\u001b[0;34m\u001b[0m\u001b[0m\n",
      "\u001b[0;32m/anaconda/envs/azureml_py36/lib/python3.6/site-packages/azureml/core/compute/compute.py\u001b[0m in \u001b[0;36m_create_compute_target\u001b[0;34m(workspace, name, compute_payload, target_class)\u001b[0m\n\u001b[1;32m    269\u001b[0m                                          \u001b[0;34m'Response Code: {}\\n'\u001b[0m\u001b[0;34m\u001b[0m\u001b[0;34m\u001b[0m\u001b[0m\n\u001b[1;32m    270\u001b[0m                                          \u001b[0;34m'Headers: {}\\n'\u001b[0m\u001b[0;34m\u001b[0m\u001b[0;34m\u001b[0m\u001b[0m\n\u001b[0;32m--> 271\u001b[0;31m                                          'Content: {}'.format(resp.status_code, resp.headers, resp.content))\n\u001b[0m\u001b[1;32m    272\u001b[0m         \u001b[0;32mif\u001b[0m \u001b[0;34m'Azure-AsyncOperation'\u001b[0m \u001b[0;32mnot\u001b[0m \u001b[0;32min\u001b[0m \u001b[0mresp\u001b[0m\u001b[0;34m.\u001b[0m\u001b[0mheaders\u001b[0m\u001b[0;34m:\u001b[0m\u001b[0;34m\u001b[0m\u001b[0;34m\u001b[0m\u001b[0m\n\u001b[1;32m    273\u001b[0m             raise ComputeTargetException('Error, missing operation location from resp headers:\\n'\n",
      "\u001b[0;31mComputeTargetException\u001b[0m: ComputeTargetException:\n\tMessage: Received bad response from Resource Provider:\nResponse Code: 400\nHeaders: {'Cache-Control': 'no-cache', 'Pragma': 'no-cache', 'Content-Length': '260', 'Content-Type': 'application/json', 'Expires': '-1', 'x-ms-correlation-request-id': 'cf912c9b-c0da-4fde-9d86-fe91f4a349ce', 'x-ms-ratelimit-remaining-subscription-writes': '1199', 'Request-Context': 'appId=cid-v1:2d2e8e63-272e-4b3c-8598-4ee570a0e70d', 'x-ms-client-request-id': 'd00d8222-4625-4aec-aab7-9def940722a3', 'x-ms-client-session-id': '49e07e77-a397-4a74-9294-37cc63ead825', 'x-ms-request-id': '|d559c57618b3514b8c49a3f272d715a4.8ae5bbb8_1.3fab3f74_', 'Strict-Transport-Security': 'max-age=31536000; includeSubDomains', 'x-ms-routing-request-id': 'CENTRALUS:20191023T202233Z:cf912c9b-c0da-4fde-9d86-fe91f4a349ce', 'X-Content-Type-Options': 'nosniff', 'Date': 'Wed, 23 Oct 2019 20:22:32 GMT'}\nContent: b'{\"code\":\"BadRequest\",\"message\":\"The request is invalid\",\"error\":{\"code\":\"BadRequest\",\"statusCode\":400,\"message\":\"The request is invalid\",\"details\":[{\"code\":\"BadRequestFormat\",\"message\":\"Updating property provisioningState for compute is not supported yet.\"}]}}'\n\tInnerException None\n\tErrorResponse \n{\n    \"error\": {\n        \"message\": \"Received bad response from Resource Provider:\\nResponse Code: 400\\nHeaders: {'Cache-Control': 'no-cache', 'Pragma': 'no-cache', 'Content-Length': '260', 'Content-Type': 'application/json', 'Expires': '-1', 'x-ms-correlation-request-id': 'cf912c9b-c0da-4fde-9d86-fe91f4a349ce', 'x-ms-ratelimit-remaining-subscription-writes': '1199', 'Request-Context': 'appId=cid-v1:2d2e8e63-272e-4b3c-8598-4ee570a0e70d', 'x-ms-client-request-id': 'd00d8222-4625-4aec-aab7-9def940722a3', 'x-ms-client-session-id': '49e07e77-a397-4a74-9294-37cc63ead825', 'x-ms-request-id': '|d559c57618b3514b8c49a3f272d715a4.8ae5bbb8_1.3fab3f74_', 'Strict-Transport-Security': 'max-age=31536000; includeSubDomains', 'x-ms-routing-request-id': 'CENTRALUS:20191023T202233Z:cf912c9b-c0da-4fde-9d86-fe91f4a349ce', 'X-Content-Type-Options': 'nosniff', 'Date': 'Wed, 23 Oct 2019 20:22:32 GMT'}\\nContent: b'{\\\"code\\\":\\\"BadRequest\\\",\\\"message\\\":\\\"The request is invalid\\\",\\\"error\\\":{\\\"code\\\":\\\"BadRequest\\\",\\\"statusCode\\\":400,\\\"message\\\":\\\"The request is invalid\\\",\\\"details\\\":[{\\\"code\\\":\\\"BadRequestFormat\\\",\\\"message\\\":\\\"Updating property provisioningState for compute is not supported yet.\\\"}]}}'\"\n    }\n}"
     ]
    }
   ],
   "source": [
    "from azureml.core.compute import AksCompute, ComputeTarget\n",
    "\n",
    "# Use the default configuration (you can also provide parameters to customize this).\n",
    "# For example, to create a dev/test cluster, use:\n",
    "#prov_config = AksCompute.provisioning_configuration(cluster_purpose = AksCompute.ClusterPurpose.DEV_TEST)\n",
    "prov_config = AksCompute.provisioning_configuration()\n",
    "\n",
    "aks_name = 'multiservice'\n",
    "# Create the cluster\n",
    "aks_target = ComputeTarget.create(workspace = ws,\n",
    "                                    name = aks_name,\n",
    "                                    provisioning_configuration = prov_config)\n",
    "\n",
    "# Wait for the create process to complete\n",
    "aks_target.wait_for_completion(show_output = True)"
   ]
  },
  {
   "cell_type": "code",
   "execution_count": 21,
   "metadata": {},
   "outputs": [
    {
     "data": {
      "text/plain": [
       "'multiservice'"
      ]
     },
     "execution_count": 21,
     "metadata": {},
     "output_type": "execute_result"
    }
   ],
   "source": [
    "(aks_name)"
   ]
  },
  {
   "cell_type": "code",
   "execution_count": 22,
   "metadata": {},
   "outputs": [
    {
     "name": "stdout",
     "output_type": "stream",
     "text": [
      "Creating image\n",
      "Running............................................................\n",
      "Succeeded\n",
      "Image creation operation finished for image fraudclassify:4, operation \"Succeeded\"\n"
     ]
    }
   ],
   "source": [
    "# creating a container image\n",
    "from azureml.core.image import Image, ContainerImage\n",
    "image_config = ContainerImage.image_configuration(runtime= \"python\",\n",
    "                                 execution_script=\"score.py\",\n",
    "                                 conda_file=\"riskpredictionenv.yml\",\n",
    "                                 tags = {\"key\": \"1\",\"image\": \"riskpredictanalysis\"},\n",
    "                                 description = \"fraudclassifyv2\")\n",
    "image = Image.create(name = \"fraudclassify\",\n",
    "                     # this is the model object \n",
    "                     models = [model],\n",
    "                     image_config = image_config, \n",
    "                     workspace = ws)\n",
    "image.wait_for_creation(show_output = True)"
   ]
  },
  {
   "cell_type": "code",
   "execution_count": 23,
   "metadata": {},
   "outputs": [],
   "source": [
    "#create inference config\n",
    "from azureml.core.webservice import Webservice\n",
    "from azureml.core.model import InferenceConfig\n",
    "\n",
    "inference_config = InferenceConfig(runtime= \"python\", \n",
    "                                   entry_script=\"score.py\",\n",
    "                                   conda_file=\"riskpredictionenv.yml\")"
   ]
  },
  {
   "cell_type": "code",
   "execution_count": 24,
   "metadata": {},
   "outputs": [
    {
     "name": "stdout",
     "output_type": "stream",
     "text": [
      "Running...\n",
      "SucceededAKS service creation operation finished, operation \"Succeeded\"\n",
      "Healthy\n",
      "/bin/bash: /azureml-envs/azureml_08ba8d0c58ba0617ee558bd9340a5830/lib/libtinfo.so.5: no version information available (required by /bin/bash)\n",
      "/bin/bash: /azureml-envs/azureml_08ba8d0c58ba0617ee558bd9340a5830/lib/libtinfo.so.5: no version information available (required by /bin/bash)\n",
      "/bin/bash: /azureml-envs/azureml_08ba8d0c58ba0617ee558bd9340a5830/lib/libtinfo.so.5: no version information available (required by /bin/bash)\n",
      "/bin/bash: /azureml-envs/azureml_08ba8d0c58ba0617ee558bd9340a5830/lib/libtinfo.so.5: no version information available (required by /bin/bash)\n",
      "2019-10-23T20:31:09,471929137+00:00 - iot-server/run \n",
      "2019-10-23T20:31:09,472438838+00:00 - nginx/run \n",
      "2019-10-23T20:31:09,472465738+00:00 - gunicorn/run \n",
      "/usr/sbin/nginx: /azureml-envs/azureml_08ba8d0c58ba0617ee558bd9340a5830/lib/libcrypto.so.1.0.0: no version information available (required by /usr/sbin/nginx)\n",
      "/usr/sbin/nginx: /azureml-envs/azureml_08ba8d0c58ba0617ee558bd9340a5830/lib/libcrypto.so.1.0.0: no version information available (required by /usr/sbin/nginx)\n",
      "/usr/sbin/nginx: /azureml-envs/azureml_08ba8d0c58ba0617ee558bd9340a5830/lib/libssl.so.1.0.0: no version information available (required by /usr/sbin/nginx)\n",
      "/usr/sbin/nginx: /azureml-envs/azureml_08ba8d0c58ba0617ee558bd9340a5830/lib/libssl.so.1.0.0: no version information available (required by /usr/sbin/nginx)\n",
      "/usr/sbin/nginx: /azureml-envs/azureml_08ba8d0c58ba0617ee558bd9340a5830/lib/libssl.so.1.0.0: no version information available (required by /usr/sbin/nginx)\n",
      "2019-10-23T20:31:09,478655948+00:00 - rsyslog/run \n",
      "bash: /azureml-envs/azureml_08ba8d0c58ba0617ee558bd9340a5830/lib/libtinfo.so.5: no version information available (required by bash)\n",
      "EdgeHubConnectionString and IOTEDGE_IOTHUBHOSTNAME are not set. Exiting...\n",
      "/bin/bash: /azureml-envs/azureml_08ba8d0c58ba0617ee558bd9340a5830/lib/libtinfo.so.5: no version information available (required by /bin/bash)\n",
      "2019-10-23T20:31:09,550807866+00:00 - iot-server/finish 1 0\n",
      "2019-10-23T20:31:09,552123468+00:00 - Exit code 1 is normal. Not restarting iot-server.\n",
      "Starting gunicorn 19.9.0\n",
      "Listening at: http://127.0.0.1:31311 (14)\n",
      "Using worker: sync\n",
      "worker timeout is set to 300\n",
      "Booting worker with pid: 42\n",
      "Initializing logger\n",
      "Starting up app insights client\n",
      "Starting up request id generator\n",
      "Starting up app insight hooks\n",
      "Invoking user's init function\n",
      "2019-10-23 20:31:12,046 | azureml.core.run | DEBUG | Could not load run context RunEnvironmentException:\n",
      "\tMessage: Could not load a submitted run, if outside of an execution context, use experiment.start_logging to initialize an azureml.core.Run.\n",
      "\tInnerException None\n",
      "\tErrorResponse {\"error\": {\"message\": \"Could not load a submitted run, if outside of an execution context, use experiment.start_logging to initialize an azureml.core.Run.\"}}, switching offline: False\n",
      "2019-10-23 20:31:12,047 | azureml.core.run | DEBUG | Could not load the run context and allow_offline set to False\n",
      "2019-10-23 20:31:12,047 | azureml.core.model | DEBUG | RunEnvironmentException: RunEnvironmentException:\n",
      "\tMessage: Could not load a submitted run, if outside of an execution context, use experiment.start_logging to initialize an azureml.core.Run.\n",
      "\tInnerException RunEnvironmentException:\n",
      "\tMessage: Could not load a submitted run, if outside of an execution context, use experiment.start_logging to initialize an azureml.core.Run.\n",
      "\tInnerException None\n",
      "\tErrorResponse {\"error\": {\"message\": \"Could not load a submitted run, if outside of an execution context, use experiment.start_logging to initialize an azureml.core.Run.\"}}\n",
      "\tErrorResponse {\"error\": {\"message\": \"Could not load a submitted run, if outside of an execution context, use experiment.start_logging to initialize an azureml.core.Run.\"}}\n",
      "2019-10-23 20:31:12,047 | azureml.core.model | DEBUG | version is None. Latest version is 3\n",
      "2019-10-23 20:31:12,047 | azureml.core.model | DEBUG | Found model path at azureml-models/fraudclassifyv2/3/riskpredictionprod.pkl\n",
      "Users's init has completed successfully\n",
      "Scoring timeout setting is not found. Use default timeout: 3600000 ms\n",
      "\n"
     ]
    }
   ],
   "source": [
    "#service deployment\n",
    "from azureml.core.webservice import AksWebservice, Webservice\n",
    "from azureml.core.model import Model\n",
    "from azureml.core.model import InferenceConfig\n",
    "from azureml.core.image import Image, ContainerImage\n",
    "\n",
    "\n",
    "aks_target = AksCompute(ws,\"multiservice\")\n",
    "\n",
    "# If deploying to a cluster configured for dev/test, ensure that it was created with enough\n",
    "# cores and memory to handle this deployment configuration. Note that memory is also used by\n",
    "# things such as dependencies and AML components.\n",
    "deployment_config = AksWebservice.deploy_configuration(cpu_cores = 1, memory_gb = 1)\n",
    "service = Model.deploy(ws, \"fraudclassify\", [model] , inference_config, deployment_config, aks_target)\n",
    "service.wait_for_deployment(show_output = True)\n",
    "print(service.state)\n",
    "print(service.get_logs())"
   ]
  },
  {
   "cell_type": "code",
   "execution_count": 25,
   "metadata": {},
   "outputs": [
    {
     "name": "stdout",
     "output_type": "stream",
     "text": [
      "http://13.67.176.88:80/api/v1/service/fraudclassify/score\n"
     ]
    }
   ],
   "source": [
    "print(service.scoring_uri)"
   ]
  },
  {
   "cell_type": "code",
   "execution_count": 26,
   "metadata": {},
   "outputs": [
    {
     "name": "stdout",
     "output_type": "stream",
     "text": [
      "qLEcUK30NCjceE6Klg2mnceNTfsNHZT8\n"
     ]
    }
   ],
   "source": [
    "primary, secondary = service.get_keys()\n",
    "print(primary)"
   ]
  },
  {
   "cell_type": "code",
   "execution_count": null,
   "metadata": {},
   "outputs": [],
   "source": []
  }
 ],
 "metadata": {
  "kernelspec": {
   "display_name": "Python 3.6 - AzureML",
   "language": "python",
   "name": "python3-azureml"
  },
  "language_info": {
   "codemirror_mode": {
    "name": "ipython",
    "version": 3
   },
   "file_extension": ".py",
   "mimetype": "text/x-python",
   "name": "python",
   "nbconvert_exporter": "python",
   "pygments_lexer": "ipython3",
   "version": "3.6.9"
  }
 },
 "nbformat": 4,
 "nbformat_minor": 2
}
